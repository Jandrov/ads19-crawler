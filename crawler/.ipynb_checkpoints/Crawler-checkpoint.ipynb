{
 "cells": [
  {
   "cell_type": "code",
   "execution_count": 4,
   "metadata": {},
   "outputs": [
    {
     "name": "stdout",
     "output_type": "stream",
     "text": [
      "Collecting neo4j\n",
      "\u001b[33m  Cache entry deserialization failed, entry ignored\u001b[0m\n",
      "\u001b[33m  Cache entry deserialization failed, entry ignored\u001b[0m\n",
      "  Downloading https://files.pythonhosted.org/packages/01/c0/5143e27477d5b7db2f9f9b784762ec65b56fbe42fe618e5adfac1ed7bb57/neo4j-1.7.4.tar.gz\n",
      "\u001b[31mCould not import setuptools which is required to install from a source distribution.\n",
      "Please install setuptools.\u001b[0m\n",
      "\u001b[33mYou are using pip version 9.0.3, however version 19.1.1 is available.\n",
      "You should consider upgrading via the 'pip install --upgrade pip' command.\u001b[0m\n"
     ]
    }
   ],
   "source": [
    "#Get Neo4J official Python driver\n",
    "!pip install neo4j"
   ]
  },
  {
   "cell_type": "code",
   "execution_count": null,
   "metadata": {},
   "outputs": [],
   "source": [
    "def connect(uri, username, password):\n",
    "    try:\n",
    "        return GraphDatabase.driver(uri, auth=(username, password))\n",
    "    except ClientError as e:\n",
    "        print(e)\n",
    "        return -1"
   ]
  },
  {
   "cell_type": "code",
   "execution_count": null,
   "metadata": {},
   "outputs": [],
   "source": [
    "def create_and_return_greeting(tx, message):\n",
    "    result = tx.run(\"CREATE (a:Greeting) \"\n",
    "                    \"SET a.message = $message \"\n",
    "                    \"RETURN a.message + ', from node ' + id(a)\", message=message)\n",
    "    return result.single()[0]"
   ]
  },
  {
   "cell_type": "code",
   "execution_count": null,
   "metadata": {},
   "outputs": [],
   "source": [
    "def add_user(tx, username, password):\n",
    "    try:\n",
    "        result = tx.run(\"CALL dbms.security.createUser($username,$password, false)\", username=username, password=password)\n",
    "    except ClientError as e:\n",
    "        print(e)"
   ]
  },
  {
   "cell_type": "code",
   "execution_count": null,
   "metadata": {},
   "outputs": [],
   "source": [
    "def change_password(tx, password):\n",
    "    try:\n",
    "        result = tx.run(\"CALL dbms.security.changePassword($password)\", password=password)\n",
    "    except ClientError as e:\n",
    "        print(e)"
   ]
  },
  {
   "cell_type": "code",
   "execution_count": 8,
   "metadata": {},
   "outputs": [],
   "source": [
    "def create_metadata(soup):\n",
    "    title = soup.find(\"meta\",  property=\"og:title\")\n",
    "    desc = soup.find(\"meta\",  property=\"og:description\")\n",
    "    language = soup.find(\"meta\",  property=\"og:locale\")\n",
    "    keywords = soup.find(\"meta\", attrs = {'name':\"keywords\"})\n",
    "    metadata = {\n",
    "        'Title': title['content'] if title else None,\n",
    "        'Description': desc['content']if desc else None,\n",
    "        'Language': language['content'] if language else None,\n",
    "        'Keywords': keywords['content'] if keywords else None}\n",
    "    return metadata"
   ]
  },
  {
   "cell_type": "code",
   "execution_count": null,
   "metadata": {},
   "outputs": [],
   "source": [
    "#Neo4J connection test\n",
    "from neo4j import GraphDatabase\n",
    "from neo4j.exceptions import ClientError\n",
    "\n",
    "uri = \"bolt://localhost:7687\"\n",
    "our_username = \"ads\"\n",
    "our_password = \"ads\"\n",
    "message = \"Response\"\n",
    "default = \"neo4j\"\n",
    "\n",
    "# Logging with default user and password\n",
    "driver = connect(uri, default, default)\n",
    "# If we have already run this before, then the password is already changed\n",
    "if driver != -1:\n",
    "    ''' But if it is the first time we log as that default user, \n",
    "        we are forced to change the password '''\n",
    "    with driver.session() as session:\n",
    "        session.write_transaction(change_password, our_password) # e.g. our_password\n",
    "    # We should exit and connect again after changing the password\n",
    "    driver.close()\n",
    "\n",
    "driver = connect(uri, default, our_password)\n",
    "\n",
    "# Add the user that will be used for the rest of operations\n",
    "with driver.session() as session:\n",
    "    try: \n",
    "        session.write_transaction(add_user, our_username, our_password)\n",
    "    except ClientError as e:\n",
    "        print(e)\n",
    "driver.close()\n",
    "\n",
    "driver = connect(uri, our_username, our_password)\n",
    "with driver.session() as session:\n",
    "    greeting = session.write_transaction(create_and_return_greeting, message)\n",
    "    print(greeting) \n",
    "driver.close()"
   ]
  },
  {
   "cell_type": "code",
   "execution_count": 3,
   "metadata": {},
   "outputs": [
    {
     "name": "stdout",
     "output_type": "stream",
     "text": [
      "Collecting beautifulsoup4\n",
      "  Using cached https://files.pythonhosted.org/packages/1d/5d/3260694a59df0ec52f8b4883f5d23b130bc237602a1411fa670eae12351e/beautifulsoup4-4.7.1-py3-none-any.whl\n",
      "Collecting soupsieve>=1.2 (from beautifulsoup4)\n",
      "  Using cached https://files.pythonhosted.org/packages/b9/a5/7ea40d0f8676bde6e464a6435a48bc5db09b1a8f4f06d41dd997b8f3c616/soupsieve-1.9.1-py2.py3-none-any.whl\n",
      "Installing collected packages: soupsieve, beautifulsoup4\n",
      "Successfully installed beautifulsoup4-4.7.1 soupsieve-1.9.1\n",
      "\u001b[33mYou are using pip version 8.1.1, however version 19.1.1 is available.\n",
      "You should consider upgrading via the 'pip install --upgrade pip' command.\u001b[0m\n"
     ]
    }
   ],
   "source": [
    "#Get Requests\n",
    "!pip3 install beautifulsoup4"
   ]
  },
  {
   "cell_type": "code",
   "execution_count": 9,
   "metadata": {},
   "outputs": [
    {
     "data": {
      "text/plain": [
       "'utf-8'"
      ]
     },
     "execution_count": 9,
     "metadata": {},
     "output_type": "execute_result"
    }
   ],
   "source": [
    "#Simple get example\n",
    "import requests\n",
    "\n",
    "r = requests.get('https://www.agh.edu.pl/')\n",
    "r.status_code\n",
    "r.headers['content-type']\n",
    "r.encoding\n",
    "# r.text holds html file"
   ]
  },
  {
   "cell_type": "code",
   "execution_count": 11,
   "metadata": {},
   "outputs": [
    {
     "name": "stdout",
     "output_type": "stream",
     "text": [
      "[('https://neo4j.com/', ['https://neo4j.com/news/', 'https://neo4j.com/product/', 'https://neo4j.com/graph-machine-learning-algorithms/', 'https://neo4j.com/use-cases/', 'https://neo4j.com/use-cases/', 'https://neo4j.com/use-cases/artificial-intelligence-analytics/', 'https://neo4j.com/use-cases/fraud-detection/', 'https://neo4j.com/use-cases/identity-and-access-management/', 'https://neo4j.com/use-cases/knowledge-graph', 'https://neo4j.com/use-cases/master-data-management/', 'https://neo4j.com/use-cases/network-and-it-operations/', 'https://neo4j.com/use-cases/real-time-recommendation-engine/', 'https://neo4j.com/use-cases/social-network/', 'https://neo4j.com/industries/retail/', 'https://neo4j.com/industries/financial-services/', 'https://neo4j.com/industries/retail/', 'https://neo4j.com/partners/oem-partner/', 'https://neo4j.com/use-cases/gdpr-compliance/', 'https://neo4j.com/business-edge/', 'https://neo4j.com/partners/', 'https://neo4j.com/partners/', 'https://neo4j.com/partners/', 'https://neo4j.com/partners/neo4j-partner-program/', 'https://neo4j.com/partners/oem-partner/', 'https://neo4j.com/ambassador/', 'https://neo4j.com/customers/', 'https://neo4j.com/graphacademy/', 'https://neo4j.com/graphacademy/', 'https://neo4j.com/graphacademy/', 'https://neo4j.com/graphacademy/neo4j-certification/', 'https://neo4j.com/books/', 'https://neo4j.com/why-graph-databases/', 'https://neo4j.com/why-graph-databases/', 'https://neo4j.com/developer/graph-db-vs-rdbms/', 'https://neo4j.com/events/', 'https://neo4j.com/graphtour', 'https://neo4j.com/events/', 'https://neo4j.com/developer/', 'https://neo4j.com/developer/', 'https://neo4j.com/developer/get-started/', 'https://neo4j.com/developer/cypher/', 'https://neo4j.com/developer/data-modeling/', 'https://neo4j.com/developer/language-guides/', 'https://neo4j.com/developer/integration/', 'https://neo4j.com/developer/in-production/', 'https://neo4j.com/startup-program/?ref=developers', 'https://neo4j.com/docs/', 'https://neo4j.com/developer/kb/', 'https://neo4j.com/graph-algorithms-book/?ref=home-banner', 'https://neo4j.com/neo4j-for-google-cloud', 'https://neo4j.com/customers/?ref=home', 'https://neo4j.com/graph-databases-book/?ref=home', 'https://neo4j.com/graph-databases-book/?ref=home', 'https://neo4j.com/sandbox-v2/?ref=hcard', 'https://neo4j.com/sandbox-v2/?ref=hcard', 'https://neo4j.com/whitepapers/graph-databases-beginners-ebook/?ref=home', 'https://neo4j.com/whitepapers/graph-databases-beginners-ebook/?ref=home', 'https://neo4j.com/product/?ref=home', 'https://neo4j.com/product/?ref=home', 'https://neo4j.com/professional-services/?ref=home', 'https://neo4j.com/professional-services/?ref=home', 'https://neo4j.com/developer/?ref=home', 'https://neo4j.com/developer/?ref=home', 'https://neo4j.com/developer/?ref=home-2', 'https://neo4j.com/developer/?ref=home-2', 'https://neo4j.com/resources/rdbms-developer-graphs/?ref=home-2', 'https://neo4j.com/whitepapers/rdbms-developers-graph-databases-ebook/?ref=home-2', 'https://neo4j.com/whitepapers/sustainable-competitive-advantage-graph-databases/?ref=home', 'https://neo4j.com/events/', 'https://neo4j.com/product/?ref=footer', 'https://neo4j.com/use-cases/?ref=footer', 'https://neo4j.com/partners/?ref=footer', 'https://neo4j.com/customers/?ref=footer', 'https://neo4j.com/graphacademy/?ref=footer', 'https://neo4j.com/developer/get-started/?ref=footer', 'https://neo4j.com/why-graph-databases/?ref=footer', 'https://neo4j.com/developer/graph-db-vs-rdbms/?ref=footer', 'https://neo4j.com/whats-new-in-neo4j/?ref=footer', 'https://neo4j.com/company/?ref=footer', 'https://neo4j.com/news/?ref=footer', 'https://neo4j.com/awards/?ref=footer', 'https://neo4j.com/careers/?ref=footer', 'https://neo4j.com/staff/?ref=footer', 'https://neo4j.com/terms/', 'https://neo4j.com/privacy-policy/', 'https://neo4j.com/sitemap/', 'https://neo4j.com/contact-us?ref=footer', 'https://neo4j.com/contact-us/'], {'Title': 'Neo4j Graph Platform – The Leader in Graph Databases', 'Description': \"Meet Neo4j: The graph database platform powering today's mission-critical enterprise applications, including artificial intelligence, fraud detection and recommendations.\", 'Language': 'en_US', 'Keywords': None}), ('https://neo4j.com/contact-us/', ['https://neo4j.com/product/', 'https://neo4j.com/graph-machine-learning-algorithms/', 'https://neo4j.com/use-cases/', 'https://neo4j.com/use-cases/', 'https://neo4j.com/use-cases/artificial-intelligence-analytics/', 'https://neo4j.com/use-cases/fraud-detection/', 'https://neo4j.com/use-cases/identity-and-access-management/', 'https://neo4j.com/use-cases/knowledge-graph', 'https://neo4j.com/use-cases/master-data-management/', 'https://neo4j.com/use-cases/network-and-it-operations/', 'https://neo4j.com/use-cases/real-time-recommendation-engine/', 'https://neo4j.com/use-cases/social-network/', 'https://neo4j.com/industries/retail/', 'https://neo4j.com/industries/financial-services/', 'https://neo4j.com/industries/retail/', 'https://neo4j.com/partners/oem-partner/', 'https://neo4j.com/use-cases/gdpr-compliance/', 'https://neo4j.com/business-edge/', 'https://neo4j.com/partners/', 'https://neo4j.com/partners/', 'https://neo4j.com/partners/', 'https://neo4j.com/partners/neo4j-partner-program/', 'https://neo4j.com/partners/oem-partner/', 'https://neo4j.com/ambassador/', 'https://neo4j.com/customers/', 'https://neo4j.com/graphacademy/', 'https://neo4j.com/graphacademy/', 'https://neo4j.com/graphacademy/', 'https://neo4j.com/graphacademy/neo4j-certification/', 'https://neo4j.com/books/', 'https://neo4j.com/why-graph-databases/', 'https://neo4j.com/why-graph-databases/', 'https://neo4j.com/developer/graph-db-vs-rdbms/', 'https://neo4j.com/events/', 'https://neo4j.com/graphtour', 'https://neo4j.com/events/', 'https://neo4j.com/developer/', 'https://neo4j.com/developer/', 'https://neo4j.com/developer/get-started/', 'https://neo4j.com/developer/cypher/', 'https://neo4j.com/developer/data-modeling/', 'https://neo4j.com/developer/language-guides/', 'https://neo4j.com/developer/integration/', 'https://neo4j.com/developer/in-production/', 'https://neo4j.com/startup-program/?ref=developers', 'https://neo4j.com/docs/', 'https://neo4j.com/developer/kb/', 'https://neo4j.com/jobs/', 'https://neo4j.com/partners/', 'https://neo4j.com/news/', 'https://neo4j.com/product/?ref=footer', 'https://neo4j.com/use-cases/?ref=footer', 'https://neo4j.com/partners/?ref=footer', 'https://neo4j.com/customers/?ref=footer', 'https://neo4j.com/graphacademy/?ref=footer', 'https://neo4j.com/developer/get-started/?ref=footer', 'https://neo4j.com/why-graph-databases/?ref=footer', 'https://neo4j.com/developer/graph-db-vs-rdbms/?ref=footer', 'https://neo4j.com/whats-new-in-neo4j/?ref=footer', 'https://neo4j.com/company/?ref=footer', 'https://neo4j.com/news/?ref=footer', 'https://neo4j.com/awards/?ref=footer', 'https://neo4j.com/careers/?ref=footer', 'https://neo4j.com/staff/?ref=footer', 'https://neo4j.com/terms/', 'https://neo4j.com/privacy-policy/', 'https://neo4j.com/sitemap/', 'https://neo4j.com/contact-us?ref=footer'], {'Title': 'Contact Us - Neo4j Graph Database Platform', 'Description': 'Contact us and a Neo4j node will connect with you by phone or email.', 'Language': 'en_US', 'Keywords': None}), ('https://neo4j.com/contact-us?ref=footer', ['https://neo4j.com/product/', 'https://neo4j.com/graph-machine-learning-algorithms/', 'https://neo4j.com/use-cases/', 'https://neo4j.com/use-cases/', 'https://neo4j.com/use-cases/artificial-intelligence-analytics/', 'https://neo4j.com/use-cases/fraud-detection/', 'https://neo4j.com/use-cases/identity-and-access-management/', 'https://neo4j.com/use-cases/knowledge-graph', 'https://neo4j.com/use-cases/master-data-management/', 'https://neo4j.com/use-cases/network-and-it-operations/', 'https://neo4j.com/use-cases/real-time-recommendation-engine/', 'https://neo4j.com/use-cases/social-network/', 'https://neo4j.com/industries/retail/', 'https://neo4j.com/industries/financial-services/', 'https://neo4j.com/industries/retail/', 'https://neo4j.com/partners/oem-partner/', 'https://neo4j.com/use-cases/gdpr-compliance/', 'https://neo4j.com/business-edge/', 'https://neo4j.com/partners/', 'https://neo4j.com/partners/', 'https://neo4j.com/partners/', 'https://neo4j.com/partners/neo4j-partner-program/', 'https://neo4j.com/partners/oem-partner/', 'https://neo4j.com/ambassador/', 'https://neo4j.com/customers/', 'https://neo4j.com/graphacademy/', 'https://neo4j.com/graphacademy/', 'https://neo4j.com/graphacademy/', 'https://neo4j.com/graphacademy/neo4j-certification/', 'https://neo4j.com/books/', 'https://neo4j.com/why-graph-databases/', 'https://neo4j.com/why-graph-databases/', 'https://neo4j.com/developer/graph-db-vs-rdbms/', 'https://neo4j.com/events/', 'https://neo4j.com/graphtour', 'https://neo4j.com/events/', 'https://neo4j.com/developer/', 'https://neo4j.com/developer/', 'https://neo4j.com/developer/get-started/', 'https://neo4j.com/developer/cypher/', 'https://neo4j.com/developer/data-modeling/', 'https://neo4j.com/developer/language-guides/', 'https://neo4j.com/developer/integration/', 'https://neo4j.com/developer/in-production/', 'https://neo4j.com/startup-program/?ref=developers', 'https://neo4j.com/docs/', 'https://neo4j.com/developer/kb/', 'https://neo4j.com/jobs/', 'https://neo4j.com/partners/', 'https://neo4j.com/news/', 'https://neo4j.com/product/?ref=footer', 'https://neo4j.com/use-cases/?ref=footer', 'https://neo4j.com/partners/?ref=footer', 'https://neo4j.com/customers/?ref=footer', 'https://neo4j.com/graphacademy/?ref=footer', 'https://neo4j.com/developer/get-started/?ref=footer', 'https://neo4j.com/why-graph-databases/?ref=footer', 'https://neo4j.com/developer/graph-db-vs-rdbms/?ref=footer', 'https://neo4j.com/whats-new-in-neo4j/?ref=footer', 'https://neo4j.com/company/?ref=footer', 'https://neo4j.com/news/?ref=footer', 'https://neo4j.com/awards/?ref=footer', 'https://neo4j.com/careers/?ref=footer', 'https://neo4j.com/staff/?ref=footer', 'https://neo4j.com/terms/', 'https://neo4j.com/privacy-policy/', 'https://neo4j.com/sitemap/'], {'Title': 'Contact Us - Neo4j Graph Database Platform', 'Description': 'Contact us and a Neo4j node will connect with you by phone or email.', 'Language': 'en_US', 'Keywords': None}), ('https://neo4j.com/sitemap/', ['https://neo4j.com/product/', 'https://neo4j.com/graph-machine-learning-algorithms/', 'https://neo4j.com/use-cases/', 'https://neo4j.com/use-cases/', 'https://neo4j.com/use-cases/artificial-intelligence-analytics/', 'https://neo4j.com/use-cases/fraud-detection/', 'https://neo4j.com/use-cases/identity-and-access-management/', 'https://neo4j.com/use-cases/knowledge-graph', 'https://neo4j.com/use-cases/master-data-management/', 'https://neo4j.com/use-cases/network-and-it-operations/', 'https://neo4j.com/use-cases/real-time-recommendation-engine/', 'https://neo4j.com/use-cases/social-network/', 'https://neo4j.com/industries/retail/', 'https://neo4j.com/industries/financial-services/', 'https://neo4j.com/industries/retail/', 'https://neo4j.com/partners/oem-partner/', 'https://neo4j.com/use-cases/gdpr-compliance/', 'https://neo4j.com/business-edge/', 'https://neo4j.com/partners/', 'https://neo4j.com/partners/', 'https://neo4j.com/partners/', 'https://neo4j.com/partners/neo4j-partner-program/', 'https://neo4j.com/partners/oem-partner/', 'https://neo4j.com/ambassador/', 'https://neo4j.com/customers/', 'https://neo4j.com/graphacademy/', 'https://neo4j.com/graphacademy/', 'https://neo4j.com/graphacademy/', 'https://neo4j.com/graphacademy/neo4j-certification/', 'https://neo4j.com/books/', 'https://neo4j.com/why-graph-databases/', 'https://neo4j.com/why-graph-databases/', 'https://neo4j.com/developer/graph-db-vs-rdbms/', 'https://neo4j.com/events/', 'https://neo4j.com/graphtour', 'https://neo4j.com/events/', 'https://neo4j.com/developer/', 'https://neo4j.com/developer/', 'https://neo4j.com/developer/get-started/', 'https://neo4j.com/developer/cypher/', 'https://neo4j.com/developer/data-modeling/', 'https://neo4j.com/developer/language-guides/', 'https://neo4j.com/developer/integration/', 'https://neo4j.com/developer/in-production/', 'https://neo4j.com/startup-program/?ref=developers', 'https://neo4j.com/docs/', 'https://neo4j.com/developer/kb/', 'https://neo4j.com/product/?ref=footer', 'https://neo4j.com/use-cases/?ref=footer', 'https://neo4j.com/partners/?ref=footer', 'https://neo4j.com/customers/?ref=footer', 'https://neo4j.com/graphacademy/?ref=footer', 'https://neo4j.com/developer/get-started/?ref=footer', 'https://neo4j.com/why-graph-databases/?ref=footer', 'https://neo4j.com/developer/graph-db-vs-rdbms/?ref=footer', 'https://neo4j.com/whats-new-in-neo4j/?ref=footer', 'https://neo4j.com/company/?ref=footer', 'https://neo4j.com/news/?ref=footer', 'https://neo4j.com/awards/?ref=footer', 'https://neo4j.com/careers/?ref=footer', 'https://neo4j.com/staff/?ref=footer', 'https://neo4j.com/terms/', 'https://neo4j.com/privacy-policy/'], {'Title': 'Sitemap - Neo4j Graph Database Platform', 'Description': 'Looking for something? Find everything on the entire site all on page.', 'Language': 'en_US', 'Keywords': None}), ('https://neo4j.com/privacy-policy/', ['https://neo4j.com/product/', 'https://neo4j.com/graph-machine-learning-algorithms/', 'https://neo4j.com/use-cases/', 'https://neo4j.com/use-cases/', 'https://neo4j.com/use-cases/artificial-intelligence-analytics/', 'https://neo4j.com/use-cases/fraud-detection/', 'https://neo4j.com/use-cases/identity-and-access-management/', 'https://neo4j.com/use-cases/knowledge-graph', 'https://neo4j.com/use-cases/master-data-management/', 'https://neo4j.com/use-cases/network-and-it-operations/', 'https://neo4j.com/use-cases/real-time-recommendation-engine/', 'https://neo4j.com/use-cases/social-network/', 'https://neo4j.com/industries/retail/', 'https://neo4j.com/industries/financial-services/', 'https://neo4j.com/industries/retail/', 'https://neo4j.com/partners/oem-partner/', 'https://neo4j.com/use-cases/gdpr-compliance/', 'https://neo4j.com/business-edge/', 'https://neo4j.com/partners/', 'https://neo4j.com/partners/', 'https://neo4j.com/partners/', 'https://neo4j.com/partners/neo4j-partner-program/', 'https://neo4j.com/partners/oem-partner/', 'https://neo4j.com/ambassador/', 'https://neo4j.com/customers/', 'https://neo4j.com/graphacademy/', 'https://neo4j.com/graphacademy/', 'https://neo4j.com/graphacademy/', 'https://neo4j.com/graphacademy/neo4j-certification/', 'https://neo4j.com/books/', 'https://neo4j.com/why-graph-databases/', 'https://neo4j.com/why-graph-databases/', 'https://neo4j.com/developer/graph-db-vs-rdbms/', 'https://neo4j.com/events/', 'https://neo4j.com/graphtour', 'https://neo4j.com/events/', 'https://neo4j.com/developer/', 'https://neo4j.com/developer/', 'https://neo4j.com/developer/get-started/', 'https://neo4j.com/developer/cypher/', 'https://neo4j.com/developer/data-modeling/', 'https://neo4j.com/developer/language-guides/', 'https://neo4j.com/developer/integration/', 'https://neo4j.com/developer/in-production/', 'https://neo4j.com/startup-program/?ref=developers', 'https://neo4j.com/docs/', 'https://neo4j.com/developer/kb/', 'https://neo4j.com/terms/', 'https://neo4j.com/trademark-policy/', 'https://neo4j.com/product/?ref=footer', 'https://neo4j.com/use-cases/?ref=footer', 'https://neo4j.com/partners/?ref=footer', 'https://neo4j.com/customers/?ref=footer', 'https://neo4j.com/graphacademy/?ref=footer', 'https://neo4j.com/developer/get-started/?ref=footer', 'https://neo4j.com/why-graph-databases/?ref=footer', 'https://neo4j.com/developer/graph-db-vs-rdbms/?ref=footer', 'https://neo4j.com/whats-new-in-neo4j/?ref=footer', 'https://neo4j.com/company/?ref=footer', 'https://neo4j.com/news/?ref=footer', 'https://neo4j.com/awards/?ref=footer', 'https://neo4j.com/careers/?ref=footer', 'https://neo4j.com/staff/?ref=footer', 'https://neo4j.com/terms/'], {'Title': 'Privacy Policy - Neo4j Graph Database Platform', 'Description': 'Legal Notices \\xa0Terms Privacy Policy Trademark Policy Thank you for visiting this Internet web site at neo4j.com, neo4j.org, neo4j.io, graphconnect.com, graphdatabases.com, and opencypher.org(and subdomains thereof) (each a “Site”) offered by Neo4j, Inc., Neo4j Sweden AB , and Neo4j UK Limited… Read\\xa0more\\xa0→', 'Language': 'en_US', 'Keywords': None}), ('https://neo4j.com/terms/', ['https://neo4j.com/product/', 'https://neo4j.com/graph-machine-learning-algorithms/', 'https://neo4j.com/use-cases/', 'https://neo4j.com/use-cases/', 'https://neo4j.com/use-cases/artificial-intelligence-analytics/', 'https://neo4j.com/use-cases/fraud-detection/', 'https://neo4j.com/use-cases/identity-and-access-management/', 'https://neo4j.com/use-cases/knowledge-graph', 'https://neo4j.com/use-cases/master-data-management/', 'https://neo4j.com/use-cases/network-and-it-operations/', 'https://neo4j.com/use-cases/real-time-recommendation-engine/', 'https://neo4j.com/use-cases/social-network/', 'https://neo4j.com/industries/retail/', 'https://neo4j.com/industries/financial-services/', 'https://neo4j.com/industries/retail/', 'https://neo4j.com/partners/oem-partner/', 'https://neo4j.com/use-cases/gdpr-compliance/', 'https://neo4j.com/business-edge/', 'https://neo4j.com/partners/', 'https://neo4j.com/partners/', 'https://neo4j.com/partners/', 'https://neo4j.com/partners/neo4j-partner-program/', 'https://neo4j.com/partners/oem-partner/', 'https://neo4j.com/ambassador/', 'https://neo4j.com/customers/', 'https://neo4j.com/graphacademy/', 'https://neo4j.com/graphacademy/', 'https://neo4j.com/graphacademy/', 'https://neo4j.com/graphacademy/neo4j-certification/', 'https://neo4j.com/books/', 'https://neo4j.com/why-graph-databases/', 'https://neo4j.com/why-graph-databases/', 'https://neo4j.com/developer/graph-db-vs-rdbms/', 'https://neo4j.com/events/', 'https://neo4j.com/graphtour', 'https://neo4j.com/events/', 'https://neo4j.com/developer/', 'https://neo4j.com/developer/', 'https://neo4j.com/developer/get-started/', 'https://neo4j.com/developer/cypher/', 'https://neo4j.com/developer/data-modeling/', 'https://neo4j.com/developer/language-guides/', 'https://neo4j.com/developer/integration/', 'https://neo4j.com/developer/in-production/', 'https://neo4j.com/startup-program/?ref=developers', 'https://neo4j.com/docs/', 'https://neo4j.com/developer/kb/', 'https://neo4j.com/trademark-policy/', 'https://neo4j.com/product/?ref=footer', 'https://neo4j.com/use-cases/?ref=footer', 'https://neo4j.com/partners/?ref=footer', 'https://neo4j.com/customers/?ref=footer', 'https://neo4j.com/graphacademy/?ref=footer', 'https://neo4j.com/developer/get-started/?ref=footer', 'https://neo4j.com/why-graph-databases/?ref=footer', 'https://neo4j.com/developer/graph-db-vs-rdbms/?ref=footer', 'https://neo4j.com/whats-new-in-neo4j/?ref=footer', 'https://neo4j.com/company/?ref=footer', 'https://neo4j.com/news/?ref=footer', 'https://neo4j.com/awards/?ref=footer', 'https://neo4j.com/careers/?ref=footer', 'https://neo4j.com/staff/?ref=footer'], {'Title': 'Terms - Neo4j Graph Database Platform', 'Description': 'Legal Notices \\xa0 Terms Privacy Policy Trademark Policy Acceptance of Terms Thank you for visiting Neo4j, Inc.’s website (the “Site”). This Agreement contains the complete terms and conditions that apply when you visit our Site or use choose to browse… Read\\xa0more\\xa0→', 'Language': 'en_US', 'Keywords': None}), ('https://neo4j.com/staff/?ref=footer', ['https://neo4j.com/product/', 'https://neo4j.com/graph-machine-learning-algorithms/', 'https://neo4j.com/use-cases/', 'https://neo4j.com/use-cases/', 'https://neo4j.com/use-cases/artificial-intelligence-analytics/', 'https://neo4j.com/use-cases/fraud-detection/', 'https://neo4j.com/use-cases/identity-and-access-management/', 'https://neo4j.com/use-cases/knowledge-graph', 'https://neo4j.com/use-cases/master-data-management/', 'https://neo4j.com/use-cases/network-and-it-operations/', 'https://neo4j.com/use-cases/real-time-recommendation-engine/', 'https://neo4j.com/use-cases/social-network/', 'https://neo4j.com/industries/retail/', 'https://neo4j.com/industries/financial-services/', 'https://neo4j.com/industries/retail/', 'https://neo4j.com/partners/oem-partner/', 'https://neo4j.com/use-cases/gdpr-compliance/', 'https://neo4j.com/business-edge/', 'https://neo4j.com/partners/', 'https://neo4j.com/partners/', 'https://neo4j.com/partners/', 'https://neo4j.com/partners/neo4j-partner-program/', 'https://neo4j.com/partners/oem-partner/', 'https://neo4j.com/ambassador/', 'https://neo4j.com/customers/', 'https://neo4j.com/graphacademy/', 'https://neo4j.com/graphacademy/', 'https://neo4j.com/graphacademy/', 'https://neo4j.com/graphacademy/neo4j-certification/', 'https://neo4j.com/books/', 'https://neo4j.com/why-graph-databases/', 'https://neo4j.com/why-graph-databases/', 'https://neo4j.com/developer/graph-db-vs-rdbms/', 'https://neo4j.com/events/', 'https://neo4j.com/graphtour', 'https://neo4j.com/events/', 'https://neo4j.com/developer/', 'https://neo4j.com/developer/', 'https://neo4j.com/developer/get-started/', 'https://neo4j.com/developer/cypher/', 'https://neo4j.com/developer/data-modeling/', 'https://neo4j.com/developer/language-guides/', 'https://neo4j.com/developer/integration/', 'https://neo4j.com/developer/in-production/', 'https://neo4j.com/startup-program/?ref=developers', 'https://neo4j.com/docs/', 'https://neo4j.com/developer/kb/', 'https://neo4j.com/company/', 'https://neo4j.com/news/', 'https://neo4j.com/awards/', 'https://neo4j.com/careers/', 'https://neo4j.com/staff/', 'https://neo4j.com/style-guide/', 'https://neo4j.com/product/?ref=footer', 'https://neo4j.com/use-cases/?ref=footer', 'https://neo4j.com/partners/?ref=footer', 'https://neo4j.com/customers/?ref=footer', 'https://neo4j.com/graphacademy/?ref=footer', 'https://neo4j.com/developer/get-started/?ref=footer', 'https://neo4j.com/why-graph-databases/?ref=footer', 'https://neo4j.com/developer/graph-db-vs-rdbms/?ref=footer', 'https://neo4j.com/whats-new-in-neo4j/?ref=footer', 'https://neo4j.com/company/?ref=footer', 'https://neo4j.com/news/?ref=footer', 'https://neo4j.com/awards/?ref=footer', 'https://neo4j.com/careers/?ref=footer'], {'Title': 'Staff and Leadership - Neo4j Graph Database Platform', 'Description': None, 'Language': 'en_US', 'Keywords': None}), ('https://neo4j.com/careers/?ref=footer', ['https://neo4j.com/product/', 'https://neo4j.com/graph-machine-learning-algorithms/', 'https://neo4j.com/use-cases/', 'https://neo4j.com/use-cases/', 'https://neo4j.com/use-cases/artificial-intelligence-analytics/', 'https://neo4j.com/use-cases/fraud-detection/', 'https://neo4j.com/use-cases/identity-and-access-management/', 'https://neo4j.com/use-cases/knowledge-graph', 'https://neo4j.com/use-cases/master-data-management/', 'https://neo4j.com/use-cases/network-and-it-operations/', 'https://neo4j.com/use-cases/real-time-recommendation-engine/', 'https://neo4j.com/use-cases/social-network/', 'https://neo4j.com/industries/retail/', 'https://neo4j.com/industries/financial-services/', 'https://neo4j.com/industries/retail/', 'https://neo4j.com/partners/oem-partner/', 'https://neo4j.com/use-cases/gdpr-compliance/', 'https://neo4j.com/business-edge/', 'https://neo4j.com/partners/', 'https://neo4j.com/partners/', 'https://neo4j.com/partners/', 'https://neo4j.com/partners/neo4j-partner-program/', 'https://neo4j.com/partners/oem-partner/', 'https://neo4j.com/ambassador/', 'https://neo4j.com/customers/', 'https://neo4j.com/graphacademy/', 'https://neo4j.com/graphacademy/', 'https://neo4j.com/graphacademy/', 'https://neo4j.com/graphacademy/neo4j-certification/', 'https://neo4j.com/books/', 'https://neo4j.com/why-graph-databases/', 'https://neo4j.com/why-graph-databases/', 'https://neo4j.com/developer/graph-db-vs-rdbms/', 'https://neo4j.com/events/', 'https://neo4j.com/graphtour', 'https://neo4j.com/events/', 'https://neo4j.com/developer/', 'https://neo4j.com/developer/', 'https://neo4j.com/developer/get-started/', 'https://neo4j.com/developer/cypher/', 'https://neo4j.com/developer/data-modeling/', 'https://neo4j.com/developer/language-guides/', 'https://neo4j.com/developer/integration/', 'https://neo4j.com/developer/in-production/', 'https://neo4j.com/startup-program/?ref=developers', 'https://neo4j.com/docs/', 'https://neo4j.com/developer/kb/', 'https://neo4j.com/privacy-policy/recruitment-process/', 'https://neo4j.com/product/?ref=footer', 'https://neo4j.com/use-cases/?ref=footer', 'https://neo4j.com/partners/?ref=footer', 'https://neo4j.com/customers/?ref=footer', 'https://neo4j.com/graphacademy/?ref=footer', 'https://neo4j.com/developer/get-started/?ref=footer', 'https://neo4j.com/why-graph-databases/?ref=footer', 'https://neo4j.com/developer/graph-db-vs-rdbms/?ref=footer', 'https://neo4j.com/whats-new-in-neo4j/?ref=footer', 'https://neo4j.com/company/?ref=footer', 'https://neo4j.com/news/?ref=footer', 'https://neo4j.com/awards/?ref=footer'], {'Title': 'Careers - Neo4j Graph Database Platform', 'Description': None, 'Language': 'en_US', 'Keywords': None}), ('https://neo4j.com/awards/?ref=footer', ['https://neo4j.com/product/', 'https://neo4j.com/graph-machine-learning-algorithms/', 'https://neo4j.com/use-cases/', 'https://neo4j.com/use-cases/', 'https://neo4j.com/use-cases/artificial-intelligence-analytics/', 'https://neo4j.com/use-cases/fraud-detection/', 'https://neo4j.com/use-cases/identity-and-access-management/', 'https://neo4j.com/use-cases/knowledge-graph', 'https://neo4j.com/use-cases/master-data-management/', 'https://neo4j.com/use-cases/network-and-it-operations/', 'https://neo4j.com/use-cases/real-time-recommendation-engine/', 'https://neo4j.com/use-cases/social-network/', 'https://neo4j.com/industries/retail/', 'https://neo4j.com/industries/financial-services/', 'https://neo4j.com/industries/retail/', 'https://neo4j.com/partners/oem-partner/', 'https://neo4j.com/use-cases/gdpr-compliance/', 'https://neo4j.com/business-edge/', 'https://neo4j.com/partners/', 'https://neo4j.com/partners/', 'https://neo4j.com/partners/', 'https://neo4j.com/partners/neo4j-partner-program/', 'https://neo4j.com/partners/oem-partner/', 'https://neo4j.com/ambassador/', 'https://neo4j.com/customers/', 'https://neo4j.com/graphacademy/', 'https://neo4j.com/graphacademy/', 'https://neo4j.com/graphacademy/', 'https://neo4j.com/graphacademy/neo4j-certification/', 'https://neo4j.com/books/', 'https://neo4j.com/why-graph-databases/', 'https://neo4j.com/why-graph-databases/', 'https://neo4j.com/developer/graph-db-vs-rdbms/', 'https://neo4j.com/events/', 'https://neo4j.com/graphtour', 'https://neo4j.com/events/', 'https://neo4j.com/developer/', 'https://neo4j.com/developer/', 'https://neo4j.com/developer/get-started/', 'https://neo4j.com/developer/cypher/', 'https://neo4j.com/developer/data-modeling/', 'https://neo4j.com/developer/language-guides/', 'https://neo4j.com/developer/integration/', 'https://neo4j.com/developer/in-production/', 'https://neo4j.com/startup-program/?ref=developers', 'https://neo4j.com/docs/', 'https://neo4j.com/developer/kb/', 'https://neo4j.com/company/', 'https://neo4j.com/news/', 'https://neo4j.com/awards/', 'https://neo4j.com/careers/', 'https://neo4j.com/staff/', 'https://neo4j.com/style-guide/', 'https://neo4j.com/product/?ref=footer', 'https://neo4j.com/use-cases/?ref=footer', 'https://neo4j.com/partners/?ref=footer', 'https://neo4j.com/customers/?ref=footer', 'https://neo4j.com/graphacademy/?ref=footer', 'https://neo4j.com/developer/get-started/?ref=footer', 'https://neo4j.com/why-graph-databases/?ref=footer', 'https://neo4j.com/developer/graph-db-vs-rdbms/?ref=footer', 'https://neo4j.com/whats-new-in-neo4j/?ref=footer', 'https://neo4j.com/company/?ref=footer', 'https://neo4j.com/news/?ref=footer'], {'Title': 'Neo4j Awards and Honors - Neo4j Graph Database Platform', 'Description': None, 'Language': 'en_US', 'Keywords': None}), ('https://neo4j.com/news/?ref=footer', ['https://neo4j.com/product/', 'https://neo4j.com/graph-machine-learning-algorithms/', 'https://neo4j.com/use-cases/', 'https://neo4j.com/use-cases/', 'https://neo4j.com/use-cases/artificial-intelligence-analytics/', 'https://neo4j.com/use-cases/fraud-detection/', 'https://neo4j.com/use-cases/identity-and-access-management/', 'https://neo4j.com/use-cases/knowledge-graph', 'https://neo4j.com/use-cases/master-data-management/', 'https://neo4j.com/use-cases/network-and-it-operations/', 'https://neo4j.com/use-cases/real-time-recommendation-engine/', 'https://neo4j.com/use-cases/social-network/', 'https://neo4j.com/industries/retail/', 'https://neo4j.com/industries/financial-services/', 'https://neo4j.com/industries/retail/', 'https://neo4j.com/partners/oem-partner/', 'https://neo4j.com/use-cases/gdpr-compliance/', 'https://neo4j.com/business-edge/', 'https://neo4j.com/partners/', 'https://neo4j.com/partners/', 'https://neo4j.com/partners/', 'https://neo4j.com/partners/neo4j-partner-program/', 'https://neo4j.com/partners/oem-partner/', 'https://neo4j.com/ambassador/', 'https://neo4j.com/customers/', 'https://neo4j.com/graphacademy/', 'https://neo4j.com/graphacademy/', 'https://neo4j.com/graphacademy/', 'https://neo4j.com/graphacademy/neo4j-certification/', 'https://neo4j.com/books/', 'https://neo4j.com/why-graph-databases/', 'https://neo4j.com/why-graph-databases/', 'https://neo4j.com/developer/graph-db-vs-rdbms/', 'https://neo4j.com/events/', 'https://neo4j.com/graphtour', 'https://neo4j.com/events/', 'https://neo4j.com/developer/', 'https://neo4j.com/developer/', 'https://neo4j.com/developer/get-started/', 'https://neo4j.com/developer/cypher/', 'https://neo4j.com/developer/data-modeling/', 'https://neo4j.com/developer/language-guides/', 'https://neo4j.com/developer/integration/', 'https://neo4j.com/developer/in-production/', 'https://neo4j.com/startup-program/?ref=developers', 'https://neo4j.com/docs/', 'https://neo4j.com/developer/kb/', 'https://neo4j.com/product/?ref=footer', 'https://neo4j.com/use-cases/?ref=footer', 'https://neo4j.com/partners/?ref=footer', 'https://neo4j.com/customers/?ref=footer', 'https://neo4j.com/graphacademy/?ref=footer', 'https://neo4j.com/developer/get-started/?ref=footer', 'https://neo4j.com/why-graph-databases/?ref=footer', 'https://neo4j.com/developer/graph-db-vs-rdbms/?ref=footer', 'https://neo4j.com/whats-new-in-neo4j/?ref=footer', 'https://neo4j.com/company/?ref=footer'], {'Title': 'Neo4j News and Press Releases', 'Description': None, 'Language': 'en_US', 'Keywords': None})]\n",
      "{'https://neo4j.com/contact-us/', 'https://neo4j.com/terms/', 'https://neo4j.com/privacy-policy/', 'https://neo4j.com/staff/?ref=footer', 'https://neo4j.com/contact-us?ref=footer', 'https://neo4j.com/news/?ref=footer', 'https://neo4j.com/awards/?ref=footer', 'https://neo4j.com/', 'https://neo4j.com/sitemap/', 'https://neo4j.com/careers/?ref=footer'}\n",
      "['https://neo4j.com/news/', 'https://neo4j.com/product/', 'https://neo4j.com/graph-machine-learning-algorithms/', 'https://neo4j.com/use-cases/', 'https://neo4j.com/use-cases/', 'https://neo4j.com/use-cases/artificial-intelligence-analytics/', 'https://neo4j.com/use-cases/fraud-detection/', 'https://neo4j.com/use-cases/identity-and-access-management/', 'https://neo4j.com/use-cases/knowledge-graph', 'https://neo4j.com/use-cases/master-data-management/', 'https://neo4j.com/use-cases/network-and-it-operations/', 'https://neo4j.com/use-cases/real-time-recommendation-engine/', 'https://neo4j.com/use-cases/social-network/', 'https://neo4j.com/industries/retail/', 'https://neo4j.com/industries/financial-services/', 'https://neo4j.com/industries/retail/', 'https://neo4j.com/partners/oem-partner/', 'https://neo4j.com/use-cases/gdpr-compliance/', 'https://neo4j.com/business-edge/', 'https://neo4j.com/partners/', 'https://neo4j.com/partners/', 'https://neo4j.com/partners/', 'https://neo4j.com/partners/neo4j-partner-program/', 'https://neo4j.com/partners/oem-partner/', 'https://neo4j.com/ambassador/', 'https://neo4j.com/customers/', 'https://neo4j.com/graphacademy/', 'https://neo4j.com/graphacademy/', 'https://neo4j.com/graphacademy/', 'https://neo4j.com/graphacademy/neo4j-certification/', 'https://neo4j.com/books/', 'https://neo4j.com/why-graph-databases/', 'https://neo4j.com/why-graph-databases/', 'https://neo4j.com/developer/graph-db-vs-rdbms/', 'https://neo4j.com/events/', 'https://neo4j.com/graphtour', 'https://neo4j.com/events/', 'https://neo4j.com/developer/', 'https://neo4j.com/developer/', 'https://neo4j.com/developer/get-started/', 'https://neo4j.com/developer/cypher/', 'https://neo4j.com/developer/data-modeling/', 'https://neo4j.com/developer/language-guides/', 'https://neo4j.com/developer/integration/', 'https://neo4j.com/developer/in-production/', 'https://neo4j.com/startup-program/?ref=developers', 'https://neo4j.com/docs/', 'https://neo4j.com/developer/kb/', 'https://neo4j.com/graph-algorithms-book/?ref=home-banner', 'https://neo4j.com/neo4j-for-google-cloud', 'https://neo4j.com/customers/?ref=home', 'https://neo4j.com/graph-databases-book/?ref=home', 'https://neo4j.com/graph-databases-book/?ref=home', 'https://neo4j.com/sandbox-v2/?ref=hcard', 'https://neo4j.com/sandbox-v2/?ref=hcard', 'https://neo4j.com/whitepapers/graph-databases-beginners-ebook/?ref=home', 'https://neo4j.com/whitepapers/graph-databases-beginners-ebook/?ref=home', 'https://neo4j.com/product/?ref=home', 'https://neo4j.com/product/?ref=home', 'https://neo4j.com/professional-services/?ref=home', 'https://neo4j.com/professional-services/?ref=home', 'https://neo4j.com/developer/?ref=home', 'https://neo4j.com/developer/?ref=home', 'https://neo4j.com/developer/?ref=home-2', 'https://neo4j.com/developer/?ref=home-2', 'https://neo4j.com/resources/rdbms-developer-graphs/?ref=home-2', 'https://neo4j.com/whitepapers/rdbms-developers-graph-databases-ebook/?ref=home-2', 'https://neo4j.com/whitepapers/sustainable-competitive-advantage-graph-databases/?ref=home', 'https://neo4j.com/events/', 'https://neo4j.com/product/?ref=footer', 'https://neo4j.com/use-cases/?ref=footer', 'https://neo4j.com/partners/?ref=footer', 'https://neo4j.com/customers/?ref=footer', 'https://neo4j.com/graphacademy/?ref=footer', 'https://neo4j.com/developer/get-started/?ref=footer', 'https://neo4j.com/why-graph-databases/?ref=footer', 'https://neo4j.com/developer/graph-db-vs-rdbms/?ref=footer', 'https://neo4j.com/whats-new-in-neo4j/?ref=footer', 'https://neo4j.com/company/?ref=footer', 'https://neo4j.com/news/?ref=footer', 'https://neo4j.com/awards/?ref=footer', 'https://neo4j.com/careers/?ref=footer', 'https://neo4j.com/staff/?ref=footer', 'https://neo4j.com/terms/', 'https://neo4j.com/privacy-policy/', 'https://neo4j.com/sitemap/', 'https://neo4j.com/contact-us?ref=footer', 'https://neo4j.com/product/', 'https://neo4j.com/graph-machine-learning-algorithms/', 'https://neo4j.com/use-cases/', 'https://neo4j.com/use-cases/', 'https://neo4j.com/use-cases/artificial-intelligence-analytics/', 'https://neo4j.com/use-cases/fraud-detection/', 'https://neo4j.com/use-cases/identity-and-access-management/', 'https://neo4j.com/use-cases/knowledge-graph', 'https://neo4j.com/use-cases/master-data-management/', 'https://neo4j.com/use-cases/network-and-it-operations/', 'https://neo4j.com/use-cases/real-time-recommendation-engine/', 'https://neo4j.com/use-cases/social-network/', 'https://neo4j.com/industries/retail/', 'https://neo4j.com/industries/financial-services/', 'https://neo4j.com/industries/retail/', 'https://neo4j.com/partners/oem-partner/', 'https://neo4j.com/use-cases/gdpr-compliance/', 'https://neo4j.com/business-edge/', 'https://neo4j.com/partners/', 'https://neo4j.com/partners/', 'https://neo4j.com/partners/', 'https://neo4j.com/partners/neo4j-partner-program/', 'https://neo4j.com/partners/oem-partner/', 'https://neo4j.com/ambassador/', 'https://neo4j.com/customers/', 'https://neo4j.com/graphacademy/', 'https://neo4j.com/graphacademy/', 'https://neo4j.com/graphacademy/', 'https://neo4j.com/graphacademy/neo4j-certification/', 'https://neo4j.com/books/', 'https://neo4j.com/why-graph-databases/', 'https://neo4j.com/why-graph-databases/', 'https://neo4j.com/developer/graph-db-vs-rdbms/', 'https://neo4j.com/events/', 'https://neo4j.com/graphtour', 'https://neo4j.com/events/', 'https://neo4j.com/developer/', 'https://neo4j.com/developer/', 'https://neo4j.com/developer/get-started/', 'https://neo4j.com/developer/cypher/', 'https://neo4j.com/developer/data-modeling/', 'https://neo4j.com/developer/language-guides/', 'https://neo4j.com/developer/integration/', 'https://neo4j.com/developer/in-production/', 'https://neo4j.com/startup-program/?ref=developers', 'https://neo4j.com/docs/', 'https://neo4j.com/developer/kb/', 'https://neo4j.com/jobs/', 'https://neo4j.com/partners/', 'https://neo4j.com/news/', 'https://neo4j.com/product/?ref=footer', 'https://neo4j.com/use-cases/?ref=footer', 'https://neo4j.com/partners/?ref=footer', 'https://neo4j.com/customers/?ref=footer', 'https://neo4j.com/graphacademy/?ref=footer', 'https://neo4j.com/developer/get-started/?ref=footer', 'https://neo4j.com/why-graph-databases/?ref=footer', 'https://neo4j.com/developer/graph-db-vs-rdbms/?ref=footer', 'https://neo4j.com/whats-new-in-neo4j/?ref=footer', 'https://neo4j.com/company/?ref=footer', 'https://neo4j.com/news/?ref=footer', 'https://neo4j.com/awards/?ref=footer', 'https://neo4j.com/careers/?ref=footer', 'https://neo4j.com/staff/?ref=footer', 'https://neo4j.com/terms/', 'https://neo4j.com/privacy-policy/', 'https://neo4j.com/sitemap/', 'https://neo4j.com/product/', 'https://neo4j.com/graph-machine-learning-algorithms/', 'https://neo4j.com/use-cases/', 'https://neo4j.com/use-cases/', 'https://neo4j.com/use-cases/artificial-intelligence-analytics/', 'https://neo4j.com/use-cases/fraud-detection/', 'https://neo4j.com/use-cases/identity-and-access-management/', 'https://neo4j.com/use-cases/knowledge-graph', 'https://neo4j.com/use-cases/master-data-management/', 'https://neo4j.com/use-cases/network-and-it-operations/', 'https://neo4j.com/use-cases/real-time-recommendation-engine/', 'https://neo4j.com/use-cases/social-network/', 'https://neo4j.com/industries/retail/', 'https://neo4j.com/industries/financial-services/', 'https://neo4j.com/industries/retail/', 'https://neo4j.com/partners/oem-partner/', 'https://neo4j.com/use-cases/gdpr-compliance/', 'https://neo4j.com/business-edge/', 'https://neo4j.com/partners/', 'https://neo4j.com/partners/', 'https://neo4j.com/partners/', 'https://neo4j.com/partners/neo4j-partner-program/', 'https://neo4j.com/partners/oem-partner/', 'https://neo4j.com/ambassador/', 'https://neo4j.com/customers/', 'https://neo4j.com/graphacademy/', 'https://neo4j.com/graphacademy/', 'https://neo4j.com/graphacademy/', 'https://neo4j.com/graphacademy/neo4j-certification/', 'https://neo4j.com/books/', 'https://neo4j.com/why-graph-databases/', 'https://neo4j.com/why-graph-databases/', 'https://neo4j.com/developer/graph-db-vs-rdbms/', 'https://neo4j.com/events/', 'https://neo4j.com/graphtour', 'https://neo4j.com/events/', 'https://neo4j.com/developer/', 'https://neo4j.com/developer/', 'https://neo4j.com/developer/get-started/', 'https://neo4j.com/developer/cypher/', 'https://neo4j.com/developer/data-modeling/', 'https://neo4j.com/developer/language-guides/', 'https://neo4j.com/developer/integration/', 'https://neo4j.com/developer/in-production/', 'https://neo4j.com/startup-program/?ref=developers', 'https://neo4j.com/docs/', 'https://neo4j.com/developer/kb/', 'https://neo4j.com/jobs/', 'https://neo4j.com/partners/', 'https://neo4j.com/news/', 'https://neo4j.com/product/?ref=footer', 'https://neo4j.com/use-cases/?ref=footer', 'https://neo4j.com/partners/?ref=footer', 'https://neo4j.com/customers/?ref=footer', 'https://neo4j.com/graphacademy/?ref=footer', 'https://neo4j.com/developer/get-started/?ref=footer', 'https://neo4j.com/why-graph-databases/?ref=footer', 'https://neo4j.com/developer/graph-db-vs-rdbms/?ref=footer', 'https://neo4j.com/whats-new-in-neo4j/?ref=footer', 'https://neo4j.com/company/?ref=footer', 'https://neo4j.com/news/?ref=footer', 'https://neo4j.com/awards/?ref=footer', 'https://neo4j.com/careers/?ref=footer', 'https://neo4j.com/staff/?ref=footer', 'https://neo4j.com/terms/', 'https://neo4j.com/privacy-policy/', 'https://neo4j.com/product/', 'https://neo4j.com/graph-machine-learning-algorithms/', 'https://neo4j.com/use-cases/', 'https://neo4j.com/use-cases/', 'https://neo4j.com/use-cases/artificial-intelligence-analytics/', 'https://neo4j.com/use-cases/fraud-detection/', 'https://neo4j.com/use-cases/identity-and-access-management/', 'https://neo4j.com/use-cases/knowledge-graph', 'https://neo4j.com/use-cases/master-data-management/', 'https://neo4j.com/use-cases/network-and-it-operations/', 'https://neo4j.com/use-cases/real-time-recommendation-engine/', 'https://neo4j.com/use-cases/social-network/', 'https://neo4j.com/industries/retail/', 'https://neo4j.com/industries/financial-services/', 'https://neo4j.com/industries/retail/', 'https://neo4j.com/partners/oem-partner/', 'https://neo4j.com/use-cases/gdpr-compliance/', 'https://neo4j.com/business-edge/', 'https://neo4j.com/partners/', 'https://neo4j.com/partners/', 'https://neo4j.com/partners/', 'https://neo4j.com/partners/neo4j-partner-program/', 'https://neo4j.com/partners/oem-partner/', 'https://neo4j.com/ambassador/', 'https://neo4j.com/customers/', 'https://neo4j.com/graphacademy/', 'https://neo4j.com/graphacademy/', 'https://neo4j.com/graphacademy/', 'https://neo4j.com/graphacademy/neo4j-certification/', 'https://neo4j.com/books/', 'https://neo4j.com/why-graph-databases/', 'https://neo4j.com/why-graph-databases/', 'https://neo4j.com/developer/graph-db-vs-rdbms/', 'https://neo4j.com/events/', 'https://neo4j.com/graphtour', 'https://neo4j.com/events/', 'https://neo4j.com/developer/', 'https://neo4j.com/developer/', 'https://neo4j.com/developer/get-started/', 'https://neo4j.com/developer/cypher/', 'https://neo4j.com/developer/data-modeling/', 'https://neo4j.com/developer/language-guides/', 'https://neo4j.com/developer/integration/', 'https://neo4j.com/developer/in-production/', 'https://neo4j.com/startup-program/?ref=developers', 'https://neo4j.com/docs/', 'https://neo4j.com/developer/kb/', 'https://neo4j.com/product/?ref=footer', 'https://neo4j.com/use-cases/?ref=footer', 'https://neo4j.com/partners/?ref=footer', 'https://neo4j.com/customers/?ref=footer', 'https://neo4j.com/graphacademy/?ref=footer', 'https://neo4j.com/developer/get-started/?ref=footer', 'https://neo4j.com/why-graph-databases/?ref=footer', 'https://neo4j.com/developer/graph-db-vs-rdbms/?ref=footer', 'https://neo4j.com/whats-new-in-neo4j/?ref=footer', 'https://neo4j.com/company/?ref=footer', 'https://neo4j.com/news/?ref=footer', 'https://neo4j.com/awards/?ref=footer', 'https://neo4j.com/careers/?ref=footer', 'https://neo4j.com/staff/?ref=footer', 'https://neo4j.com/terms/', 'https://neo4j.com/product/', 'https://neo4j.com/graph-machine-learning-algorithms/', 'https://neo4j.com/use-cases/', 'https://neo4j.com/use-cases/', 'https://neo4j.com/use-cases/artificial-intelligence-analytics/', 'https://neo4j.com/use-cases/fraud-detection/', 'https://neo4j.com/use-cases/identity-and-access-management/', 'https://neo4j.com/use-cases/knowledge-graph', 'https://neo4j.com/use-cases/master-data-management/', 'https://neo4j.com/use-cases/network-and-it-operations/', 'https://neo4j.com/use-cases/real-time-recommendation-engine/', 'https://neo4j.com/use-cases/social-network/', 'https://neo4j.com/industries/retail/', 'https://neo4j.com/industries/financial-services/', 'https://neo4j.com/industries/retail/', 'https://neo4j.com/partners/oem-partner/', 'https://neo4j.com/use-cases/gdpr-compliance/', 'https://neo4j.com/business-edge/', 'https://neo4j.com/partners/', 'https://neo4j.com/partners/', 'https://neo4j.com/partners/', 'https://neo4j.com/partners/neo4j-partner-program/', 'https://neo4j.com/partners/oem-partner/', 'https://neo4j.com/ambassador/', 'https://neo4j.com/customers/', 'https://neo4j.com/graphacademy/', 'https://neo4j.com/graphacademy/', 'https://neo4j.com/graphacademy/', 'https://neo4j.com/graphacademy/neo4j-certification/', 'https://neo4j.com/books/', 'https://neo4j.com/why-graph-databases/', 'https://neo4j.com/why-graph-databases/', 'https://neo4j.com/developer/graph-db-vs-rdbms/', 'https://neo4j.com/events/', 'https://neo4j.com/graphtour', 'https://neo4j.com/events/', 'https://neo4j.com/developer/', 'https://neo4j.com/developer/', 'https://neo4j.com/developer/get-started/', 'https://neo4j.com/developer/cypher/', 'https://neo4j.com/developer/data-modeling/', 'https://neo4j.com/developer/language-guides/', 'https://neo4j.com/developer/integration/', 'https://neo4j.com/developer/in-production/', 'https://neo4j.com/startup-program/?ref=developers', 'https://neo4j.com/docs/', 'https://neo4j.com/developer/kb/', 'https://neo4j.com/terms/', 'https://neo4j.com/trademark-policy/', 'https://neo4j.com/product/?ref=footer', 'https://neo4j.com/use-cases/?ref=footer', 'https://neo4j.com/partners/?ref=footer', 'https://neo4j.com/customers/?ref=footer', 'https://neo4j.com/graphacademy/?ref=footer', 'https://neo4j.com/developer/get-started/?ref=footer', 'https://neo4j.com/why-graph-databases/?ref=footer', 'https://neo4j.com/developer/graph-db-vs-rdbms/?ref=footer', 'https://neo4j.com/whats-new-in-neo4j/?ref=footer', 'https://neo4j.com/company/?ref=footer', 'https://neo4j.com/news/?ref=footer', 'https://neo4j.com/awards/?ref=footer', 'https://neo4j.com/careers/?ref=footer', 'https://neo4j.com/staff/?ref=footer', 'https://neo4j.com/product/', 'https://neo4j.com/graph-machine-learning-algorithms/', 'https://neo4j.com/use-cases/', 'https://neo4j.com/use-cases/', 'https://neo4j.com/use-cases/artificial-intelligence-analytics/', 'https://neo4j.com/use-cases/fraud-detection/', 'https://neo4j.com/use-cases/identity-and-access-management/', 'https://neo4j.com/use-cases/knowledge-graph', 'https://neo4j.com/use-cases/master-data-management/', 'https://neo4j.com/use-cases/network-and-it-operations/', 'https://neo4j.com/use-cases/real-time-recommendation-engine/', 'https://neo4j.com/use-cases/social-network/', 'https://neo4j.com/industries/retail/', 'https://neo4j.com/industries/financial-services/', 'https://neo4j.com/industries/retail/', 'https://neo4j.com/partners/oem-partner/', 'https://neo4j.com/use-cases/gdpr-compliance/', 'https://neo4j.com/business-edge/', 'https://neo4j.com/partners/', 'https://neo4j.com/partners/', 'https://neo4j.com/partners/', 'https://neo4j.com/partners/neo4j-partner-program/', 'https://neo4j.com/partners/oem-partner/', 'https://neo4j.com/ambassador/', 'https://neo4j.com/customers/', 'https://neo4j.com/graphacademy/', 'https://neo4j.com/graphacademy/', 'https://neo4j.com/graphacademy/', 'https://neo4j.com/graphacademy/neo4j-certification/', 'https://neo4j.com/books/', 'https://neo4j.com/why-graph-databases/', 'https://neo4j.com/why-graph-databases/', 'https://neo4j.com/developer/graph-db-vs-rdbms/', 'https://neo4j.com/events/', 'https://neo4j.com/graphtour', 'https://neo4j.com/events/', 'https://neo4j.com/developer/', 'https://neo4j.com/developer/', 'https://neo4j.com/developer/get-started/', 'https://neo4j.com/developer/cypher/', 'https://neo4j.com/developer/data-modeling/', 'https://neo4j.com/developer/language-guides/', 'https://neo4j.com/developer/integration/', 'https://neo4j.com/developer/in-production/', 'https://neo4j.com/startup-program/?ref=developers', 'https://neo4j.com/docs/', 'https://neo4j.com/developer/kb/', 'https://neo4j.com/trademark-policy/', 'https://neo4j.com/product/?ref=footer', 'https://neo4j.com/use-cases/?ref=footer', 'https://neo4j.com/partners/?ref=footer', 'https://neo4j.com/customers/?ref=footer', 'https://neo4j.com/graphacademy/?ref=footer', 'https://neo4j.com/developer/get-started/?ref=footer', 'https://neo4j.com/why-graph-databases/?ref=footer', 'https://neo4j.com/developer/graph-db-vs-rdbms/?ref=footer', 'https://neo4j.com/whats-new-in-neo4j/?ref=footer', 'https://neo4j.com/company/?ref=footer', 'https://neo4j.com/news/?ref=footer', 'https://neo4j.com/awards/?ref=footer', 'https://neo4j.com/careers/?ref=footer', 'https://neo4j.com/product/', 'https://neo4j.com/graph-machine-learning-algorithms/', 'https://neo4j.com/use-cases/', 'https://neo4j.com/use-cases/', 'https://neo4j.com/use-cases/artificial-intelligence-analytics/', 'https://neo4j.com/use-cases/fraud-detection/', 'https://neo4j.com/use-cases/identity-and-access-management/', 'https://neo4j.com/use-cases/knowledge-graph', 'https://neo4j.com/use-cases/master-data-management/', 'https://neo4j.com/use-cases/network-and-it-operations/', 'https://neo4j.com/use-cases/real-time-recommendation-engine/', 'https://neo4j.com/use-cases/social-network/', 'https://neo4j.com/industries/retail/', 'https://neo4j.com/industries/financial-services/', 'https://neo4j.com/industries/retail/', 'https://neo4j.com/partners/oem-partner/', 'https://neo4j.com/use-cases/gdpr-compliance/', 'https://neo4j.com/business-edge/', 'https://neo4j.com/partners/', 'https://neo4j.com/partners/', 'https://neo4j.com/partners/', 'https://neo4j.com/partners/neo4j-partner-program/', 'https://neo4j.com/partners/oem-partner/', 'https://neo4j.com/ambassador/', 'https://neo4j.com/customers/', 'https://neo4j.com/graphacademy/', 'https://neo4j.com/graphacademy/', 'https://neo4j.com/graphacademy/', 'https://neo4j.com/graphacademy/neo4j-certification/', 'https://neo4j.com/books/', 'https://neo4j.com/why-graph-databases/', 'https://neo4j.com/why-graph-databases/', 'https://neo4j.com/developer/graph-db-vs-rdbms/', 'https://neo4j.com/events/', 'https://neo4j.com/graphtour', 'https://neo4j.com/events/', 'https://neo4j.com/developer/', 'https://neo4j.com/developer/', 'https://neo4j.com/developer/get-started/', 'https://neo4j.com/developer/cypher/', 'https://neo4j.com/developer/data-modeling/', 'https://neo4j.com/developer/language-guides/', 'https://neo4j.com/developer/integration/', 'https://neo4j.com/developer/in-production/', 'https://neo4j.com/startup-program/?ref=developers', 'https://neo4j.com/docs/', 'https://neo4j.com/developer/kb/', 'https://neo4j.com/company/', 'https://neo4j.com/news/', 'https://neo4j.com/awards/', 'https://neo4j.com/careers/', 'https://neo4j.com/staff/', 'https://neo4j.com/style-guide/', 'https://neo4j.com/product/?ref=footer', 'https://neo4j.com/use-cases/?ref=footer', 'https://neo4j.com/partners/?ref=footer', 'https://neo4j.com/customers/?ref=footer', 'https://neo4j.com/graphacademy/?ref=footer', 'https://neo4j.com/developer/get-started/?ref=footer', 'https://neo4j.com/why-graph-databases/?ref=footer', 'https://neo4j.com/developer/graph-db-vs-rdbms/?ref=footer', 'https://neo4j.com/whats-new-in-neo4j/?ref=footer', 'https://neo4j.com/company/?ref=footer', 'https://neo4j.com/news/?ref=footer', 'https://neo4j.com/awards/?ref=footer', 'https://neo4j.com/product/', 'https://neo4j.com/graph-machine-learning-algorithms/', 'https://neo4j.com/use-cases/', 'https://neo4j.com/use-cases/', 'https://neo4j.com/use-cases/artificial-intelligence-analytics/', 'https://neo4j.com/use-cases/fraud-detection/', 'https://neo4j.com/use-cases/identity-and-access-management/', 'https://neo4j.com/use-cases/knowledge-graph', 'https://neo4j.com/use-cases/master-data-management/', 'https://neo4j.com/use-cases/network-and-it-operations/', 'https://neo4j.com/use-cases/real-time-recommendation-engine/', 'https://neo4j.com/use-cases/social-network/', 'https://neo4j.com/industries/retail/', 'https://neo4j.com/industries/financial-services/', 'https://neo4j.com/industries/retail/', 'https://neo4j.com/partners/oem-partner/', 'https://neo4j.com/use-cases/gdpr-compliance/', 'https://neo4j.com/business-edge/', 'https://neo4j.com/partners/', 'https://neo4j.com/partners/', 'https://neo4j.com/partners/', 'https://neo4j.com/partners/neo4j-partner-program/', 'https://neo4j.com/partners/oem-partner/', 'https://neo4j.com/ambassador/', 'https://neo4j.com/customers/', 'https://neo4j.com/graphacademy/', 'https://neo4j.com/graphacademy/', 'https://neo4j.com/graphacademy/', 'https://neo4j.com/graphacademy/neo4j-certification/', 'https://neo4j.com/books/', 'https://neo4j.com/why-graph-databases/', 'https://neo4j.com/why-graph-databases/', 'https://neo4j.com/developer/graph-db-vs-rdbms/', 'https://neo4j.com/events/', 'https://neo4j.com/graphtour', 'https://neo4j.com/events/', 'https://neo4j.com/developer/', 'https://neo4j.com/developer/', 'https://neo4j.com/developer/get-started/', 'https://neo4j.com/developer/cypher/', 'https://neo4j.com/developer/data-modeling/', 'https://neo4j.com/developer/language-guides/', 'https://neo4j.com/developer/integration/', 'https://neo4j.com/developer/in-production/', 'https://neo4j.com/startup-program/?ref=developers', 'https://neo4j.com/docs/', 'https://neo4j.com/developer/kb/', 'https://neo4j.com/privacy-policy/recruitment-process/', 'https://neo4j.com/product/?ref=footer', 'https://neo4j.com/use-cases/?ref=footer', 'https://neo4j.com/partners/?ref=footer', 'https://neo4j.com/customers/?ref=footer', 'https://neo4j.com/graphacademy/?ref=footer', 'https://neo4j.com/developer/get-started/?ref=footer', 'https://neo4j.com/why-graph-databases/?ref=footer', 'https://neo4j.com/developer/graph-db-vs-rdbms/?ref=footer', 'https://neo4j.com/whats-new-in-neo4j/?ref=footer', 'https://neo4j.com/company/?ref=footer', 'https://neo4j.com/news/?ref=footer', 'https://neo4j.com/product/', 'https://neo4j.com/graph-machine-learning-algorithms/', 'https://neo4j.com/use-cases/', 'https://neo4j.com/use-cases/', 'https://neo4j.com/use-cases/artificial-intelligence-analytics/', 'https://neo4j.com/use-cases/fraud-detection/', 'https://neo4j.com/use-cases/identity-and-access-management/', 'https://neo4j.com/use-cases/knowledge-graph', 'https://neo4j.com/use-cases/master-data-management/', 'https://neo4j.com/use-cases/network-and-it-operations/', 'https://neo4j.com/use-cases/real-time-recommendation-engine/', 'https://neo4j.com/use-cases/social-network/', 'https://neo4j.com/industries/retail/', 'https://neo4j.com/industries/financial-services/', 'https://neo4j.com/industries/retail/', 'https://neo4j.com/partners/oem-partner/', 'https://neo4j.com/use-cases/gdpr-compliance/', 'https://neo4j.com/business-edge/', 'https://neo4j.com/partners/', 'https://neo4j.com/partners/', 'https://neo4j.com/partners/', 'https://neo4j.com/partners/neo4j-partner-program/', 'https://neo4j.com/partners/oem-partner/', 'https://neo4j.com/ambassador/', 'https://neo4j.com/customers/', 'https://neo4j.com/graphacademy/', 'https://neo4j.com/graphacademy/', 'https://neo4j.com/graphacademy/', 'https://neo4j.com/graphacademy/neo4j-certification/', 'https://neo4j.com/books/', 'https://neo4j.com/why-graph-databases/', 'https://neo4j.com/why-graph-databases/', 'https://neo4j.com/developer/graph-db-vs-rdbms/', 'https://neo4j.com/events/', 'https://neo4j.com/graphtour', 'https://neo4j.com/events/', 'https://neo4j.com/developer/', 'https://neo4j.com/developer/', 'https://neo4j.com/developer/get-started/', 'https://neo4j.com/developer/cypher/', 'https://neo4j.com/developer/data-modeling/', 'https://neo4j.com/developer/language-guides/', 'https://neo4j.com/developer/integration/', 'https://neo4j.com/developer/in-production/', 'https://neo4j.com/startup-program/?ref=developers', 'https://neo4j.com/docs/', 'https://neo4j.com/developer/kb/', 'https://neo4j.com/company/', 'https://neo4j.com/news/', 'https://neo4j.com/awards/', 'https://neo4j.com/careers/', 'https://neo4j.com/staff/', 'https://neo4j.com/style-guide/', 'https://neo4j.com/product/?ref=footer', 'https://neo4j.com/use-cases/?ref=footer', 'https://neo4j.com/partners/?ref=footer', 'https://neo4j.com/customers/?ref=footer', 'https://neo4j.com/graphacademy/?ref=footer', 'https://neo4j.com/developer/get-started/?ref=footer', 'https://neo4j.com/why-graph-databases/?ref=footer', 'https://neo4j.com/developer/graph-db-vs-rdbms/?ref=footer', 'https://neo4j.com/whats-new-in-neo4j/?ref=footer', 'https://neo4j.com/company/?ref=footer', 'https://neo4j.com/product/', 'https://neo4j.com/graph-machine-learning-algorithms/', 'https://neo4j.com/use-cases/', 'https://neo4j.com/use-cases/', 'https://neo4j.com/use-cases/artificial-intelligence-analytics/', 'https://neo4j.com/use-cases/fraud-detection/', 'https://neo4j.com/use-cases/identity-and-access-management/', 'https://neo4j.com/use-cases/knowledge-graph', 'https://neo4j.com/use-cases/master-data-management/', 'https://neo4j.com/use-cases/network-and-it-operations/', 'https://neo4j.com/use-cases/real-time-recommendation-engine/', 'https://neo4j.com/use-cases/social-network/', 'https://neo4j.com/industries/retail/', 'https://neo4j.com/industries/financial-services/', 'https://neo4j.com/industries/retail/', 'https://neo4j.com/partners/oem-partner/', 'https://neo4j.com/use-cases/gdpr-compliance/', 'https://neo4j.com/business-edge/', 'https://neo4j.com/partners/', 'https://neo4j.com/partners/', 'https://neo4j.com/partners/', 'https://neo4j.com/partners/neo4j-partner-program/', 'https://neo4j.com/partners/oem-partner/', 'https://neo4j.com/ambassador/', 'https://neo4j.com/customers/', 'https://neo4j.com/graphacademy/', 'https://neo4j.com/graphacademy/', 'https://neo4j.com/graphacademy/', 'https://neo4j.com/graphacademy/neo4j-certification/', 'https://neo4j.com/books/', 'https://neo4j.com/why-graph-databases/', 'https://neo4j.com/why-graph-databases/', 'https://neo4j.com/developer/graph-db-vs-rdbms/', 'https://neo4j.com/events/', 'https://neo4j.com/graphtour', 'https://neo4j.com/events/', 'https://neo4j.com/developer/', 'https://neo4j.com/developer/', 'https://neo4j.com/developer/get-started/', 'https://neo4j.com/developer/cypher/', 'https://neo4j.com/developer/data-modeling/', 'https://neo4j.com/developer/language-guides/', 'https://neo4j.com/developer/integration/', 'https://neo4j.com/developer/in-production/', 'https://neo4j.com/startup-program/?ref=developers', 'https://neo4j.com/docs/', 'https://neo4j.com/developer/kb/', 'https://neo4j.com/product/?ref=footer', 'https://neo4j.com/use-cases/?ref=footer', 'https://neo4j.com/partners/?ref=footer', 'https://neo4j.com/customers/?ref=footer', 'https://neo4j.com/graphacademy/?ref=footer', 'https://neo4j.com/developer/get-started/?ref=footer', 'https://neo4j.com/why-graph-databases/?ref=footer', 'https://neo4j.com/developer/graph-db-vs-rdbms/?ref=footer', 'https://neo4j.com/whats-new-in-neo4j/?ref=footer', 'https://neo4j.com/company/?ref=footer']\n"
     ]
    }
   ],
   "source": [
    "#Crawler workflow\n",
    "import requests, re\n",
    "from bs4 import BeautifulSoup\n",
    "\n",
    "queue_limit = 10\n",
    "visited = set()\n",
    "to_visit = ['https://neo4j.com/']\n",
    "crawled_host = 'https://neo4j.com'\n",
    "\n",
    "results = []\n",
    "\n",
    "while len(to_visit) > 0 and len(results) < queue_limit :\n",
    "\n",
    "    crawled_url = to_visit.pop()\n",
    "    urls = []\n",
    "\n",
    "    if crawled_url not in visited:\n",
    "        r = requests.get(crawled_url)\n",
    "        visited.add(crawled_url)\n",
    "\n",
    "        if r.status_code == 200:\n",
    "            soup = BeautifulSoup(r.text)\n",
    "            \n",
    "            for a in soup.find_all('a', href=True):\n",
    "                current_path = a['href']\n",
    "            \n",
    "                if current_path.startswith('/') and not '#' in current_path:\n",
    "                    current_url = crawled_host + current_path\n",
    "                \n",
    "                    if current_url not in visited:\n",
    "                        urls.append(current_url)\n",
    "                        to_visit.append(current_url)\n",
    "                        # print(\"Found the URL:\", current_url)\n",
    "            \n",
    "            metadata = create_metadata(soup)\n",
    "            result = (crawled_url, urls, metadata)\n",
    "            results.append(result)\n",
    "        else:\n",
    "            print(r.status_code)\n",
    "    \n",
    "print(results)\n",
    "print(visited)\n",
    "print(to_visit)"
   ]
  },
  {
   "cell_type": "code",
   "execution_count": 4,
   "metadata": {},
   "outputs": [
    {
     "name": "stdout",
     "output_type": "stream",
     "text": [
      "CoffeeDesk - Blog - Najwięcej kawowych wieści w Polsce!\n",
      "CoffeeDesk.pl to największy sklep z kawą specialty i akcesoriami w Polsce, a nasz blog doskonale uzupełnia cały asortyment o merytoryczną wiedzę kawową!\n",
      "pl_PL\n",
      "None\n"
     ]
    }
   ],
   "source": [
    "r = requests.get('https://www.coffeedesk.pl/blog/')\n",
    "soup = BeautifulSoup(r.text)\n",
    "title = soup.find(\"meta\",  property=\"og:title\")\n",
    "desc = soup.find(\"meta\",  property=\"og:description\")\n",
    "language = soup.find(\"meta\",  property=\"og:locale\")\n",
    "keywords = soup.find(\"meta\", attrs = {'name':\"keywords\"})\n",
    "print (title['content'] if title else None)\n",
    "print(desc['content']if desc else None)\n",
    "print(language['content'] if language else None)\n",
    "print(keywords['content'] if keywords else None)"
   ]
  },
  {
   "cell_type": "code",
   "execution_count": 5,
   "metadata": {},
   "outputs": [
    {
     "name": "stdout",
     "output_type": "stream",
     "text": [
      "name:  None\n",
      "content: None\n",
      "property:  None\n",
      "name:  viewport\n",
      "content: width=device-width, initial-scale=1.0\n",
      "property:  None\n",
      "name:  description\n",
      "content: CoffeeDesk.pl to największy sklep z kawą specialty i akcesoriami w Polsce, a nasz blog doskonale uzupełnia cały asortyment o merytoryczną wiedzę kawową!\n",
      "property:  None\n",
      "name:  None\n",
      "content: pl_PL\n",
      "property:  og:locale\n",
      "name:  None\n",
      "content: website\n",
      "property:  og:type\n",
      "name:  None\n",
      "content: CoffeeDesk - Blog - Najwięcej kawowych wieści w Polsce!\n",
      "property:  og:title\n",
      "name:  None\n",
      "content: CoffeeDesk.pl to największy sklep z kawą specialty i akcesoriami w Polsce, a nasz blog doskonale uzupełnia cały asortyment o merytoryczną wiedzę kawową!\n",
      "property:  og:description\n",
      "name:  None\n",
      "content: https://www.coffeedesk.pl/blog/\n",
      "property:  og:url\n",
      "name:  None\n",
      "content: Blog Coffeedesk.pl\n",
      "property:  og:site_name\n",
      "name:  twitter:card\n",
      "content: summary\n",
      "property:  None\n",
      "name:  twitter:description\n",
      "content: CoffeeDesk.pl to największy sklep z kawą specialty i akcesoriami w Polsce, a nasz blog doskonale uzupełnia cały asortyment o merytoryczną wiedzę kawową!\n",
      "property:  None\n",
      "name:  twitter:title\n",
      "content: CoffeeDesk - Blog - Najwięcej kawowych wieści w Polsce!\n",
      "property:  None\n",
      "name:  twitter:creator\n",
      "content: @twitter\n",
      "property:  None\n",
      "name:  generator\n",
      "content: WordPress 5.2.1\n",
      "property:  None\n",
      "name:  generator\n",
      "content: WPML ver:4.2.6 stt:1,41;\n",
      "property:  None\n"
     ]
    }
   ],
   "source": [
    "for name in soup.find_all('meta'):\n",
    "    print('name: ', name.get('name'))\n",
    "    print('content:', name.get('content'))\n",
    "    print('property: ', name.get('property'))"
   ]
  },
  {
   "cell_type": "code",
   "execution_count": 6,
   "metadata": {},
   "outputs": [],
   "source": [
    "metadata = {\n",
    "    'Title': title['content'] if title else None,\n",
    "    'Description': desc['content']if desc else None,\n",
    "    'Language': language['content'] if language else None,\n",
    "    'Keywords': keywords['content'] if keywords else None}"
   ]
  },
  {
   "cell_type": "code",
   "execution_count": 7,
   "metadata": {},
   "outputs": [
    {
     "data": {
      "text/plain": [
       "[<meta charset=\"utf-8\"/>,\n",
       " <meta content=\"width=device-width, initial-scale=1.0\" name=\"viewport\">\n",
       " <link href=\"https://www.coffeedesk.pl/favicon-192x192.png\" rel=\"shortcut icon\"/>\n",
       " <link href=\"https://www.coffeedesk.pl/blog/xmlrpc.php\" rel=\"pingback\"/>\n",
       " <!-- head extras -->\n",
       " <link href=\"https://www.coffeedesk.pl/blog/wp-content/cache/autoptimize/css/autoptimize_f0ba74ac3ef3d6dcc8d86e9c4c8b3e19.css\" media=\"all\" rel=\"stylesheet\" type=\"text/css\"><title>CoffeeDesk - Blog - Najwięcej kawowych wieści w Polsce!</title>\n",
       " <link href=\"https://www.coffeedesk.pl/blog\" hreflang=\"pl\" rel=\"alternate\">\n",
       " <link href=\"https://www.coffeedesk.com/blog/\" hreflang=\"en\" rel=\"alternate\"/>\n",
       " <!-- This site is optimized with the Yoast SEO plugin v11.3 - https://yoast.com/wordpress/plugins/seo/ -->\n",
       " <meta content=\"CoffeeDesk.pl to największy sklep z kawą specialty i akcesoriami w Polsce, a nasz blog doskonale uzupełnia cały asortyment o merytoryczną wiedzę kawową!\" name=\"description\"/>\n",
       " <link href=\"https://www.coffeedesk.pl/blog/\" rel=\"canonical\"/>\n",
       " <meta content=\"pl_PL\" property=\"og:locale\"/>\n",
       " <meta content=\"website\" property=\"og:type\"/>\n",
       " <meta content=\"CoffeeDesk - Blog - Najwięcej kawowych wieści w Polsce!\" property=\"og:title\"/>\n",
       " <meta content=\"CoffeeDesk.pl to największy sklep z kawą specialty i akcesoriami w Polsce, a nasz blog doskonale uzupełnia cały asortyment o merytoryczną wiedzę kawową!\" property=\"og:description\"/>\n",
       " <meta content=\"https://www.coffeedesk.pl/blog/\" property=\"og:url\"/>\n",
       " <meta content=\"Blog Coffeedesk.pl\" property=\"og:site_name\"/>\n",
       " <meta content=\"summary\" name=\"twitter:card\"/>\n",
       " <meta content=\"CoffeeDesk.pl to największy sklep z kawą specialty i akcesoriami w Polsce, a nasz blog doskonale uzupełnia cały asortyment o merytoryczną wiedzę kawową!\" name=\"twitter:description\"/>\n",
       " <meta content=\"CoffeeDesk - Blog - Najwięcej kawowych wieści w Polsce!\" name=\"twitter:title\"/>\n",
       " <meta content=\"@twitter\" name=\"twitter:creator\"/>\n",
       " <script class=\"yoast-schema-graph yoast-schema-graph--main\" type=\"application/ld+json\">{\"@context\":\"https://schema.org\",\"@graph\":[{\"@type\":\"Organization\",\"@id\":\"https://www.coffeedesk.pl/blog/#organization\",\"name\":\"\",\"url\":\"https://www.coffeedesk.pl/blog/\",\"sameAs\":[]},{\"@type\":\"WebSite\",\"@id\":\"https://www.coffeedesk.pl/blog/#website\",\"url\":\"https://www.coffeedesk.pl/blog/\",\"name\":\"Blog Coffeedesk.pl\",\"publisher\":{\"@id\":\"https://www.coffeedesk.pl/blog/#organization\"},\"potentialAction\":{\"@type\":\"SearchAction\",\"target\":\"https://www.coffeedesk.pl/blog/?s={search_term_string}\",\"query-input\":\"required name=search_term_string\"}},{\"@type\":\"WebPage\",\"@id\":\"https://www.coffeedesk.pl/blog/#webpage\",\"url\":\"https://www.coffeedesk.pl/blog/\",\"inLanguage\":\"pl-PL\",\"name\":\"CoffeeDesk - Blog - Najwi\\u0119cej kawowych wie\\u015bci w Polsce!\",\"isPartOf\":{\"@id\":\"https://www.coffeedesk.pl/blog/#website\"},\"about\":{\"@id\":\"https://www.coffeedesk.pl/blog/#organization\"},\"datePublished\":\"2016-05-24T15:25:27+00:00\",\"dateModified\":\"2016-10-14T15:20:41+00:00\",\"description\":\"CoffeeDesk.pl to najwi\\u0119kszy sklep z kaw\\u0105 specialty i akcesoriami w Polsce, a nasz blog doskonale uzupe\\u0142nia ca\\u0142y asortyment o merytoryczn\\u0105 wiedz\\u0119 kawow\\u0105!\"}]}</script>\n",
       " <!-- / Yoast SEO plugin. -->\n",
       " <link href=\"//s0.wp.com\" rel=\"dns-prefetch\"/>\n",
       " <link href=\"//www.google.com\" rel=\"dns-prefetch\"/>\n",
       " <link href=\"//maxcdn.bootstrapcdn.com\" rel=\"dns-prefetch\"/>\n",
       " <link href=\"//fonts.googleapis.com\" rel=\"dns-prefetch\"/>\n",
       " <link href=\"//s.w.org\" rel=\"dns-prefetch\"/>\n",
       " <link href=\"https://cdn.shortpixel.ai\" rel=\"preconnect\"/>\n",
       " <link href=\"https://www.coffeedesk.pl/blog/feed/\" rel=\"alternate\" title=\"Blog Coffeedesk.pl » Kanał z wpisami\" type=\"application/rss+xml\"/>\n",
       " <link href=\"https://www.coffeedesk.pl/blog/comments/feed/\" rel=\"alternate\" title=\"Blog Coffeedesk.pl » Kanał z komentarzami\" type=\"application/rss+xml\"/>\n",
       " <script type=\"text/javascript\">\n",
       " \t\t\twindow._wpemojiSettings = {\"baseUrl\":\"https:\\/\\/s.w.org\\/images\\/core\\/emoji\\/12.0.0-1\\/72x72\\/\",\"ext\":\".png\",\"svgUrl\":\"https:\\/\\/s.w.org\\/images\\/core\\/emoji\\/12.0.0-1\\/svg\\/\",\"svgExt\":\".svg\",\"source\":{\"concatemoji\":\"https:\\/\\/www.coffeedesk.pl\\/blog\\/wp-includes\\/js\\/wp-emoji-release.min.js?ver=5.2.1\"}};\n",
       " \t\t\t!function(a,b,c){function d(a,b){var c=String.fromCharCode;l.clearRect(0,0,k.width,k.height),l.fillText(c.apply(this,a),0,0);var d=k.toDataURL();l.clearRect(0,0,k.width,k.height),l.fillText(c.apply(this,b),0,0);var e=k.toDataURL();return d===e}function e(a){var b;if(!l||!l.fillText)return!1;switch(l.textBaseline=\"top\",l.font=\"600 32px Arial\",a){case\"flag\":return!(b=d([55356,56826,55356,56819],[55356,56826,8203,55356,56819]))&&(b=d([55356,57332,56128,56423,56128,56418,56128,56421,56128,56430,56128,56423,56128,56447],[55356,57332,8203,56128,56423,8203,56128,56418,8203,56128,56421,8203,56128,56430,8203,56128,56423,8203,56128,56447]),!b);case\"emoji\":return b=d([55357,56424,55356,57342,8205,55358,56605,8205,55357,56424,55356,57340],[55357,56424,55356,57342,8203,55358,56605,8203,55357,56424,55356,57340]),!b}return!1}function f(a){var c=b.createElement(\"script\");c.src=a,c.defer=c.type=\"text/javascript\",b.getElementsByTagName(\"head\")[0].appendChild(c)}var g,h,i,j,k=b.createElement(\"canvas\"),l=k.getContext&&k.getContext(\"2d\");for(j=Array(\"flag\",\"emoji\"),c.supports={everything:!0,everythingExceptFlag:!0},i=0;i<j.length;i++)c.supports[j[i]]=e(j[i]),c.supports.everything=c.supports.everything&&c.supports[j[i]],\"flag\"!==j[i]&&(c.supports.everythingExceptFlag=c.supports.everythingExceptFlag&&c.supports[j[i]]);c.supports.everythingExceptFlag=c.supports.everythingExceptFlag&&!c.supports.flag,c.DOMReady=!1,c.readyCallback=function(){c.DOMReady=!0},c.supports.everything||(h=function(){c.readyCallback()},b.addEventListener?(b.addEventListener(\"DOMContentLoaded\",h,!1),a.addEventListener(\"load\",h,!1)):(a.attachEvent(\"onload\",h),b.attachEvent(\"onreadystatechange\",function(){\"complete\"===b.readyState&&c.readyCallback()})),g=c.source||{},g.concatemoji?f(g.concatemoji):g.wpemoji&&g.twemoji&&(f(g.twemoji),f(g.wpemoji)))}(window,document,window._wpemojiSettings);\n",
       " \t\t</script>\n",
       " <link href=\"https://maxcdn.bootstrapcdn.com/font-awesome/4.7.0/css/font-awesome.min.css\" id=\"sb-font-awesome-css\" media=\"all\" rel=\"stylesheet\" type=\"text/css\"/>\n",
       " <link href=\"//fonts.googleapis.com/css?family=Open+Sans%3A400%2C700%7COpen+Sans%3A400%2C700%2C400italic&amp;subset=latin%2Clatin-ext&amp;ver=2.2.3\" id=\"cb-font-stylesheet-css\" media=\"all\" rel=\"stylesheet\" type=\"text/css\"/>\n",
       " <!--[if lt IE 10]>\n",
       " <link rel='stylesheet' id='cb-ie-only-css'  href='https://www.coffeedesk.pl/blog/wp-content/themes/15zine/library/css/ie.css?ver=2.2.3' type='text/css' media='all' />\n",
       " <![endif]-->\n",
       " <script>if (document.location.protocol != \"https:\") {document.location = document.URL.replace(/^http:/i, \"https:\");}</script><script src=\"https://www.coffeedesk.pl/blog/wp-includes/js/jquery/jquery.js?ver=1.12.4-wp\" type=\"text/javascript\"></script>\n",
       " <script type=\"text/javascript\">\n",
       " /* <![CDATA[ */\n",
       " var LWA = {\"ajaxurl\":\"https:\\/\\/www.coffeedesk.pl\\/blog\\/wp-admin\\/admin-ajax.php\"};\n",
       " /* ]]> */\n",
       " </script>\n",
       " <script type=\"text/javascript\">\n",
       " jQuery(document).ready(function(jQuery){jQuery.datepicker.setDefaults({\"closeText\":\"Zamknij\",\"currentText\":\"Dzi\\u015b\",\"monthNames\":[\"Stycze\\u0144\",\"Luty\",\"Marzec\",\"Kwiecie\\u0144\",\"Maj\",\"Czerwiec\",\"Lipiec\",\"Sierpie\\u0144\",\"Wrzesie\\u0144\",\"Pa\\u017adziernik\",\"Listopad\",\"Grudzie\\u0144\"],\"monthNamesShort\":[\"Sty\",\"Lut\",\"Mar\",\"Kwi\",\"Maj\",\"Cze\",\"Lip\",\"Sie\",\"Wrz\",\"Pa\\u017a\",\"Lis\",\"Gru\"],\"nextText\":\"Nast\\u0119pny\",\"prevText\":\"Poprzedni\",\"dayNames\":[\"niedziela\",\"poniedzia\\u0142ek\",\"wtorek\",\"\\u015broda\",\"czwartek\",\"pi\\u0105tek\",\"sobota\"],\"dayNamesShort\":[\"nie\",\"pon\",\"wt\",\"\\u015br\",\"czw\",\"pt\",\"sob\"],\"dayNamesMin\":[\"N\",\"P\",\"W\",\"\\u015a\",\"C\",\"P\",\"S\"],\"dateFormat\":\"d MM yy\",\"firstDay\":1,\"isRTL\":false});});\n",
       " </script>\n",
       " <script type=\"text/javascript\">\n",
       " /* <![CDATA[ */\n",
       " var uiAutocompleteL10n = {\"noResults\":\"Brak wynik\\u00f3w.\",\"oneResult\":\"Znaleziono jeden wynik. U\\u017cyj strza\\u0142ek g\\u00f3ra\\/d\\u00f3\\u0142 do nawigacji.\",\"manyResults\":\"Znaleziono %d wynik\\u00f3w. U\\u017cyj strza\\u0142ek g\\u00f3ra\\/d\\u00f3\\u0142 do nawigacji.\",\"itemSelected\":\"Wybrano obiekt.\"};\n",
       " /* ]]> */\n",
       " </script>\n",
       " <script type=\"text/javascript\">\n",
       " /* <![CDATA[ */\n",
       " var EM = {\"ajaxurl\":\"https:\\/\\/www.coffeedesk.pl\\/blog\\/wp-admin\\/admin-ajax.php\",\"locationajaxurl\":\"https:\\/\\/www.coffeedesk.pl\\/blog\\/wp-admin\\/admin-ajax.php?action=locations_search\",\"firstDay\":\"1\",\"locale\":\"pl\",\"dateFormat\":\"dd\\/mm\\/yy\",\"ui_css\":\"https:\\/\\/www.coffeedesk.pl\\/blog\\/wp-content\\/plugins\\/events-manager\\/includes\\/css\\/jquery-ui.min.css\",\"show24hours\":\"1\",\"is_ssl\":\"1\",\"bookingInProgress\":\"Prosz\\u0119 czeka\\u0107, rezerwacja jest wysy\\u0142ana. \",\"tickets_save\":\"Zapisz bilet.\",\"bookingajaxurl\":\"https:\\/\\/www.coffeedesk.pl\\/blog\\/wp-admin\\/admin-ajax.php\",\"bookings_export_save\":\"Eksportuj rezerwacje\",\"bookings_settings_save\":\"Zapisz ustawienia\",\"booking_delete\":\"Czy na pewno chcesz usun\\u0105\\u0107?\",\"booking_offset\":\"30\",\"bb_full\":\"Wyprzedane\",\"bb_book\":\"Zarezerwuj\",\"bb_booking\":\"Rezerwuj\\u0119...\",\"bb_booked\":\"Rezerwacja wys\\u0142ana\",\"bb_error\":\"Rezerwacja - b\\u0142\\u0105d. Spr\\u00f3buj ponownie?\",\"bb_cancel\":\"Anuluj\",\"bb_canceling\":\"Anulowanie...\",\"bb_cancelled\":\"Odwo\\u0142ane\",\"bb_cancel_error\":\"Anulacja - b\\u0142\\u0105d. Spr\\u00f3buj ponownie?\",\"txt_search\":\"Szukaj\",\"txt_searching\":\"Szukam...\",\"txt_loading\":\"Chwila...\",\"event_detach_warning\":\"Czy na pewno chcesz oddzieli\\u0107 to wydarzenie? Je\\u015bli tak, to wydarzenie b\\u0119dzie niezale\\u017cne od serii wydarze\\u0144 cyklicznych. \",\"delete_recurrence_warning\":\"Czy na pewno chcesz wykasowa\\u0107 wszystkie serie tego wydarzenia?  Wszystkie wydarzenia zostan\\u0105 przeniesione do kosza.\",\"disable_bookings_warning\":\"Czy na pewno chcesz wy\\u0142\\u0105czy\\u0107 rejestracj\\u0119? Je\\u015bli chcia\\u0142by\\u015b wy\\u0142\\u0105czy\\u0107 przysz\\u0142e rezerwacje zredukuj g\\u00f3rn\\u0105 granic\\u0119 miejsc do ilo\\u015bci ju\\u017c zarezerwowanych bilet\\u00f3w. Je\\u015bli jednak wy\\u0142\\u0105czysz rejestracj\\u0119, stracisz wszystkie swoje zaakceptowane rezerwacje.\",\"booking_warning_cancel\":\"Na pewno anulowa\\u0107 Twoj\\u0105 rezerwacj\\u0119?\"};\n",
       " /* ]]> */\n",
       " </script>\n",
       " <script type=\"text/javascript\">\n",
       " /* <![CDATA[ */\n",
       " var wpml_xdomain_data = {\"css_selector\":\"wpml-ls-item\",\"ajax_url\":\"https:\\/\\/www.coffeedesk.pl\\/blog\\/wp-admin\\/admin-ajax.php\",\"current_lang\":\"pl\"};\n",
       " /* ]]> */\n",
       " </script>\n",
       " <link href=\"https://www.coffeedesk.pl/blog/wp-json/\" rel=\"https://api.w.org/\"/>\n",
       " <link href=\"https://www.coffeedesk.pl/blog/xmlrpc.php?rsd\" rel=\"EditURI\" title=\"RSD\" type=\"application/rsd+xml\"/>\n",
       " <link href=\"https://www.coffeedesk.pl/blog/wp-includes/wlwmanifest.xml\" rel=\"wlwmanifest\" type=\"application/wlwmanifest+xml\"/>\n",
       " <meta content=\"WordPress 5.2.1\" name=\"generator\"/>\n",
       " <link href=\"https://wp.me/P7zAPy-8E\" rel=\"shortlink\"/>\n",
       " <link href=\"https://www.coffeedesk.pl/blog/wp-json/oembed/1.0/embed?url=https%3A%2F%2Fwww.coffeedesk.pl%2Fblog%2F\" rel=\"alternate\" type=\"application/json+oembed\"/>\n",
       " <link href=\"https://www.coffeedesk.pl/blog/wp-json/oembed/1.0/embed?url=https%3A%2F%2Fwww.coffeedesk.pl%2Fblog%2F&amp;format=xml\" rel=\"alternate\" type=\"text/xml+oembed\"/>\n",
       " <meta content=\"WPML ver:4.2.6 stt:1,41;\" name=\"generator\"/>\n",
       " <!-- Hotjar Tracking Code for http://www.coffeedesk.pl -->\n",
       " <script>\n",
       "     (function(h,o,t,j,a,r){\n",
       "         h.hj=h.hj||function(){(h.hj.q=h.hj.q||[]).push(arguments)};\n",
       "         h._hjSettings={hjid:138350,hjsv:5};\n",
       "         a=o.getElementsByTagName('head')[0];\n",
       "         r=o.createElement('script');r.async=1;\n",
       "         r.src=t+h._hjSettings.hjid+j+h._hjSettings.hjsv;\n",
       "         a.appendChild(r);\n",
       "     })(window,document,'//static.hotjar.com/c/hotjar-','.js?sv=');\n",
       " </script>\n",
       " <link href=\"//v0.wordpress.com\" rel=\"dns-prefetch\"/>\n",
       " <link href=\"//i0.wp.com\" rel=\"dns-prefetch\"/>\n",
       " <link href=\"//i1.wp.com\" rel=\"dns-prefetch\"/>\n",
       " <link href=\"//i2.wp.com\" rel=\"dns-prefetch\"/>\n",
       " <link href=\"//c0.wp.com\" rel=\"dns-prefetch\"/>\n",
       " <!-- end custom css -->\n",
       " <script>\n",
       " \t\t\t\tdocument.documentElement.classList.add(\n",
       " \t\t\t\t\t'jetpack-lazy-images-js-enabled'\n",
       " \t\t\t\t);\n",
       " \t\t\t</script>\n",
       " <!-- end head extras -->\n",
       " <!-- Global Site Tag (gtag.js) - Google Analytics -->\n",
       " <!--<script async src=\"https://www.googletagmanager.com/gtag/js?id=UA-38251154-1\"></script>\n",
       "         <script>\n",
       "           window.dataLayer = window.dataLayer || [];\n",
       "           function gtag(){dataLayer.push(arguments);}\n",
       "           gtag('js', new Date());\n",
       "         \n",
       "           gtag('config', 'UA-38251154-1');\n",
       "         </script>-->\n",
       " <!-- Google Tag Manager -->\n",
       " <script>(function(w,d,s,l,i){w[l]=w[l]||[];w[l].push({'gtm.start':\n",
       " new Date().getTime(),event:'gtm.js'});var f=d.getElementsByTagName(s)[0],\n",
       " j=d.createElement(s),dl=l!='dataLayer'?'&l='+l:'';j.async=true;j.src=\n",
       " 'https://www.googletagmanager.com/gtm.js?id='+i+dl;f.parentNode.insertBefore(j,f);\n",
       " })(window,document,'script','dataLayer','GTM-N3J32F');</script>\n",
       " <!-- End Google Tag Manager -->\n",
       " </link></link></meta>,\n",
       " <meta content=\"CoffeeDesk.pl to największy sklep z kawą specialty i akcesoriami w Polsce, a nasz blog doskonale uzupełnia cały asortyment o merytoryczną wiedzę kawową!\" name=\"description\"/>,\n",
       " <meta content=\"pl_PL\" property=\"og:locale\"/>,\n",
       " <meta content=\"website\" property=\"og:type\"/>,\n",
       " <meta content=\"CoffeeDesk - Blog - Najwięcej kawowych wieści w Polsce!\" property=\"og:title\"/>,\n",
       " <meta content=\"CoffeeDesk.pl to największy sklep z kawą specialty i akcesoriami w Polsce, a nasz blog doskonale uzupełnia cały asortyment o merytoryczną wiedzę kawową!\" property=\"og:description\"/>,\n",
       " <meta content=\"https://www.coffeedesk.pl/blog/\" property=\"og:url\"/>,\n",
       " <meta content=\"Blog Coffeedesk.pl\" property=\"og:site_name\"/>,\n",
       " <meta content=\"summary\" name=\"twitter:card\"/>,\n",
       " <meta content=\"CoffeeDesk.pl to największy sklep z kawą specialty i akcesoriami w Polsce, a nasz blog doskonale uzupełnia cały asortyment o merytoryczną wiedzę kawową!\" name=\"twitter:description\"/>,\n",
       " <meta content=\"CoffeeDesk - Blog - Najwięcej kawowych wieści w Polsce!\" name=\"twitter:title\"/>,\n",
       " <meta content=\"@twitter\" name=\"twitter:creator\"/>,\n",
       " <meta content=\"WordPress 5.2.1\" name=\"generator\"/>,\n",
       " <meta content=\"WPML ver:4.2.6 stt:1,41;\" name=\"generator\"/>]"
      ]
     },
     "execution_count": 7,
     "metadata": {},
     "output_type": "execute_result"
    }
   ],
   "source": [
    "soup.find_all('meta')"
   ]
  },
  {
   "cell_type": "code",
   "execution_count": null,
   "metadata": {},
   "outputs": [],
   "source": []
  }
 ],
 "metadata": {
  "kernelspec": {
   "display_name": "Python 3",
   "language": "python",
   "name": "python3"
  },
  "language_info": {
   "codemirror_mode": {
    "name": "ipython",
    "version": 3
   },
   "file_extension": ".py",
   "mimetype": "text/x-python",
   "name": "python",
   "nbconvert_exporter": "python",
   "pygments_lexer": "ipython3",
   "version": "3.7.1"
  }
 },
 "nbformat": 4,
 "nbformat_minor": 2
}
