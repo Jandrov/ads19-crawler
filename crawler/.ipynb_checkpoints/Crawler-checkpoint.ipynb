{
 "cells": [
  {
   "cell_type": "markdown",
   "metadata": {},
   "source": [
    "# Crawler Project"
   ]
  },
  {
   "cell_type": "markdown",
   "metadata": {},
   "source": [
    "### Firstly, we define some methods that will be used in the \"Crawler\" cell"
   ]
  },
  {
   "cell_type": "code",
   "execution_count": null,
   "metadata": {},
   "outputs": [],
   "source": [
    "def create_metadata(soup):\n",
    "    title = soup.find(\"meta\",  property=\"og:title\")\n",
    "    desc = soup.find(\"meta\",  property=\"og:description\")\n",
    "    language = soup.find(\"meta\",  property=\"og:locale\")\n",
    "    keywords = soup.find(\"meta\", attrs = {'name':\"keywords\"})\n",
    "    metadata = {\n",
    "        'Title': title['content'] if title else None,\n",
    "        'Description': desc['content']if desc else None,\n",
    "        'Language': language['content'] if language else None,\n",
    "        'Keywords': keywords['content'] if keywords else None}\n",
    "    return metadata"
   ]
  },
  {
   "cell_type": "markdown",
   "metadata": {},
   "source": [
    "### We install this [library](https://www.crummy.com/software/BeautifulSoup/bs4/doc/) because it helps us extracting data from the webpages"
   ]
  },
  {
   "cell_type": "code",
   "execution_count": null,
   "metadata": {},
   "outputs": [],
   "source": [
    "!pip3 install beautifulsoup4"
   ]
  },
  {
   "cell_type": "code",
   "execution_count": null,
   "metadata": {},
   "outputs": [],
   "source": [
    "#Crawler workflow\n",
    "import requests, re\n",
    "from bs4 import BeautifulSoup         \n",
    "   \n",
    "visited = set()\n",
    "to_visit = ['https://neo4j.com']\n",
    "crawled_host = 'https://neo4j.com'\n",
    "results = []\n",
    "\n",
    "# This limit be changed depending on how many nodes we want in the results\n",
    "# With 100, it has taken 90 seconds to run the cell, but it can depend on the internet \n",
    "queue_limit = 100 \n",
    "\n",
    "\n",
    "while len(to_visit) > 0 and len(results) < queue_limit :\n",
    "\n",
    "    crawled_url = to_visit.pop()\n",
    "    urls = set()\n",
    "\n",
    "    if crawled_url not in visited:\n",
    "        r = requests.get(crawled_url)\n",
    "        visited.add(crawled_url)\n",
    "\n",
    "        if r.status_code == 200:\n",
    "            soup = BeautifulSoup(r.text)\n",
    "            \n",
    "            for a in soup.find_all('a', href=True):\n",
    "                current_path = a['href']\n",
    "            \n",
    "                if current_path.startswith('/') and not '#' in current_path:\n",
    "                    current_url = crawled_host + current_path\n",
    "\n",
    "                    if current_url.find('?') != -1:\n",
    "                        current_url = current_url[0:current_url.find('?')]\n",
    "                    \n",
    "                    if not current_url.endswith('/'):\n",
    "                        current_url += '/' \n",
    "\n",
    "                    if current_url not in visited and current_url not in to_visit:\n",
    "                        urls.add(current_url)\n",
    "                        to_visit.append(current_url)\n",
    "           \n",
    "            metadata = create_metadata(soup)\n",
    "            result = (crawled_url, list(urls), metadata)\n",
    "            results.append(result)\n",
    "        else:\n",
    "            print(r.status_code)\n"
   ]
  },
  {
   "cell_type": "code",
   "execution_count": null,
   "metadata": {},
   "outputs": [],
   "source": [
    "# This is how one of those tuples looks like\n",
    "results[0]"
   ]
  },
  {
   "cell_type": "markdown",
   "metadata": {},
   "source": [
    "### Now, we define some methods that will be used in the \"Neo4j\" cells"
   ]
  },
  {
   "cell_type": "code",
   "execution_count": null,
   "metadata": {},
   "outputs": [],
   "source": [
    "def connect(uri, username, password):\n",
    "    try:\n",
    "        return GraphDatabase.driver(uri, auth=(username, password))\n",
    "    except ClientError as e:\n",
    "        print(e)\n",
    "        return -1"
   ]
  },
  {
   "cell_type": "code",
   "execution_count": null,
   "metadata": {},
   "outputs": [],
   "source": [
    "def create_node(tx, tup):\n",
    "    url,subpages,metadata = tup[:3]\n",
    "    tx.run(\"MERGE (main:Url {url: $url}) \"\n",
    "           \"SET main = $properties, main.url = $url \"\n",
    "           \"FOREACH (sub IN $subpages| \"\n",
    "                    \"MERGE (u:Url {url: sub})\"\n",
    "                    \"MERGE (main) -[:CONTAINS]-> (u)) \",\n",
    "           url=url, subpages=subpages, properties=metadata)"
   ]
  },
  {
   "cell_type": "code",
   "execution_count": null,
   "metadata": {},
   "outputs": [],
   "source": [
    "def add_constraint(tx):\n",
    "    tx.run(\"CREATE CONSTRAINT ON (u:Url) ASSERT u.url IS UNIQUE\") "
   ]
  },
  {
   "cell_type": "code",
   "execution_count": null,
   "metadata": {},
   "outputs": [],
   "source": [
    "def add_user(tx, username, password):\n",
    "    try:\n",
    "        result = tx.run(\"CALL dbms.security.createUser($username,$password, false)\", username=username, password=password)\n",
    "    except ClientError as e:\n",
    "        print(e)"
   ]
  },
  {
   "cell_type": "code",
   "execution_count": null,
   "metadata": {},
   "outputs": [],
   "source": [
    "def change_password(tx, password):\n",
    "    try:\n",
    "        result = tx.run(\"CALL dbms.security.changePassword($password)\", password=password)\n",
    "    except ClientError as e:\n",
    "        print(e)"
   ]
  },
  {
   "cell_type": "code",
   "execution_count": null,
   "metadata": {},
   "outputs": [],
   "source": [
    "def delete_all(tx):\n",
    "    try:\n",
    "        result = tx.run(\"MATCH (n) DETACH DELETE n\")\n",
    "    except ClientError as e:\n",
    "        print(e)"
   ]
  },
  {
   "cell_type": "markdown",
   "metadata": {},
   "source": [
    "### We install this driver to work with Neo4j"
   ]
  },
  {
   "cell_type": "code",
   "execution_count": null,
   "metadata": {},
   "outputs": [],
   "source": [
    "!pip install neo4j"
   ]
  },
  {
   "cell_type": "markdown",
   "metadata": {},
   "source": [
    "### At this point, you should have started the Neo4j database on your localhost"
   ]
  },
  {
   "cell_type": "code",
   "execution_count": null,
   "metadata": {
    "scrolled": true
   },
   "outputs": [],
   "source": [
    "from neo4j import GraphDatabase\n",
    "from neo4j.exceptions import ClientError\n",
    "\n",
    "uri = \"bolt://localhost:7687\"\n",
    "our_username = \"ads\"\n",
    "our_password = \"ads\"\n",
    "message = \"Response\"\n",
    "default = \"neo4j\"\n",
    "\n",
    "# Logging with default user and password\n",
    "driver = connect(uri, default, default)\n",
    "# If we have already run this before, then the password is already changed\n",
    "if driver != -1:\n",
    "    ''' But if it is the first time we log as that default user, \n",
    "        we are forced to change the password '''\n",
    "    with driver.session() as session:\n",
    "        session.write_transaction(change_password, our_password) # e.g. our_password\n",
    "    # We should exit and connect again after changing the password\n",
    "    driver.close()\n",
    "\n",
    "driver = connect(uri, default, our_password)\n",
    "\n",
    "# Add the user that will be used for the rest of operations\n",
    "with driver.session() as session:\n",
    "    try: \n",
    "        session.write_transaction(add_user, our_username, our_password)\n",
    "    except ClientError as e:\n",
    "        print(e)\n",
    "driver.close()\n"
   ]
  },
  {
   "cell_type": "code",
   "execution_count": null,
   "metadata": {},
   "outputs": [],
   "source": [
    "# Add a constraint to make UNIQUE the url of every node\n",
    "driver = connect(uri, our_username, our_password)\n",
    "with driver.session() as session:\n",
    "    session.write_transaction(add_constraint)\n",
    "driver.close()"
   ]
  },
  {
   "cell_type": "code",
   "execution_count": null,
   "metadata": {},
   "outputs": [],
   "source": [
    "# Create the nodes of the results\n",
    "driver = connect(uri, our_username, our_password)\n",
    "with driver.session() as session:\n",
    "    for res in results:\n",
    "        session.write_transaction(create_node, res)\n",
    "driver.close()"
   ]
  },
  {
   "cell_type": "markdown",
   "metadata": {},
   "source": [
    "### Now to check the results:\n",
    "1. Go to http://localhost:7474/ on your browser\n",
    "2. Log in with:\n",
    "    1. Username: ads\n",
    "    2. Password: ads\n",
    "3. Run this query on the field at the top of the page: \n",
    "##### MATCH (n) RETURN n"
   ]
  },
  {
   "cell_type": "markdown",
   "metadata": {},
   "source": [
    "### After this, we are going to create a simpler list with results, in order to show that our script works when there are connections in both directions between two pages"
   ]
  },
  {
   "cell_type": "code",
   "execution_count": null,
   "metadata": {},
   "outputs": [],
   "source": [
    "# Delete all the nodes of the results\n",
    "driver = connect(uri, our_username, our_password)\n",
    "with driver.session() as session:\n",
    "    session.write_transaction(delete_all)\n",
    "driver.close()"
   ]
  },
  {
   "cell_type": "code",
   "execution_count": null,
   "metadata": {},
   "outputs": [],
   "source": [
    "# Some fake results to try connections in both ways\n",
    "fake_results = [('url1', ['url2', 'url3'], {'Title': 'title1'}),\n",
    "                ('url2', ['url4', 'url5'], {'Title': 'title2'}),\n",
    "                ('url4', ['url2', 'url5'], {'Title': 'title4'})]"
   ]
  },
  {
   "cell_type": "code",
   "execution_count": null,
   "metadata": {},
   "outputs": [],
   "source": [
    "fake_results"
   ]
  },
  {
   "cell_type": "code",
   "execution_count": null,
   "metadata": {},
   "outputs": [],
   "source": [
    "# Create the nodes of the results\n",
    "driver = connect(uri, our_username, our_password)\n",
    "with driver.session() as session:\n",
    "    for res in fake_results:\n",
    "        session.write_transaction(create_node, res)\n",
    "driver.close()"
   ]
  },
  {
   "cell_type": "markdown",
   "metadata": {},
   "source": [
    "### Now to check the results:\n",
    "1. Go again to http://localhost:7474/ on your browser\n",
    "2. If you are not logged in, do it like before\n",
    "3. Run this query on the field at the top of the page: \n",
    "##### MATCH (n) RETURN n"
   ]
  },
  {
   "cell_type": "code",
   "execution_count": null,
   "metadata": {},
   "outputs": [],
   "source": []
  }
 ],
 "metadata": {
  "kernelspec": {
   "display_name": "Python 3",
   "language": "python",
   "name": "python3"
  },
  "language_info": {
   "codemirror_mode": {
    "name": "ipython",
    "version": 3
   },
   "file_extension": ".py",
   "mimetype": "text/x-python",
   "name": "python",
   "nbconvert_exporter": "python",
   "pygments_lexer": "ipython3",
   "version": "3.7.2"
  }
 },
 "nbformat": 4,
 "nbformat_minor": 2
}
