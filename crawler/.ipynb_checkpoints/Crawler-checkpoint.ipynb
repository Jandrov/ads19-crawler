{
 "cells": [
  {
   "cell_type": "code",
   "execution_count": null,
   "metadata": {},
   "outputs": [],
   "source": [
    "#Get Neo4J official Python driver\n",
    "!pip install neo4j"
   ]
  },
  {
   "cell_type": "code",
   "execution_count": null,
   "metadata": {},
   "outputs": [],
   "source": [
    "def connect(uri, username, password):\n",
    "    try:\n",
    "        return GraphDatabase.driver(uri, auth=(username, password))\n",
    "    except ClientError as e:\n",
    "        print(e)\n",
    "        return -1"
   ]
  },
  {
   "cell_type": "code",
   "execution_count": null,
   "metadata": {},
   "outputs": [],
   "source": [
    "def create_and_return_greeting(tx, message):\n",
    "    result = tx.run(\"CREATE (a:Greeting) \"\n",
    "                    \"SET a.message = $message \"\n",
    "                    \"RETURN a.message + ', from node ' + id(a)\", message=message)\n",
    "    return result.single()[0]"
   ]
  },
  {
   "cell_type": "code",
   "execution_count": null,
   "metadata": {},
   "outputs": [],
   "source": [
    "def add_user(tx, username, password):\n",
    "    try:\n",
    "        result = tx.run(\"CALL dbms.security.createUser($username,$password, false)\", username=username, password=password)\n",
    "    except ClientError as e:\n",
    "        print(e)"
   ]
  },
  {
   "cell_type": "code",
   "execution_count": null,
   "metadata": {},
   "outputs": [],
   "source": [
    "def change_password(tx, password):\n",
    "    try:\n",
    "        result = tx.run(\"CALL dbms.security.changePassword($password)\", password=password)\n",
    "    except ClientError as e:\n",
    "        print(e)"
   ]
  },
  {
   "cell_type": "code",
   "execution_count": null,
   "metadata": {},
   "outputs": [],
   "source": [
    "#Neo4J connection test\n",
    "from neo4j import GraphDatabase\n",
    "from neo4j.exceptions import ClientError\n",
    "\n",
    "uri = \"bolt://localhost:7687\"\n",
    "our_username = \"ads\"\n",
    "our_password = \"ads\"\n",
    "message = \"Response\"\n",
    "default = \"neo4j\"\n",
    "\n",
    "# Logging with default user and password\n",
    "driver = connect(uri, default, default)\n",
    "# If we have already run this before, then the password is already changed\n",
    "if driver != -1:\n",
    "    ''' But if it is the first time we log as that default user, \n",
    "        we are forced to change the password '''\n",
    "    with driver.session() as session:\n",
    "        session.write_transaction(change_password, our_password) # e.g. our_password\n",
    "    # We should exit and connect again after changing the password\n",
    "    driver.close()\n",
    "\n",
    "driver = connect(uri, default, our_password)\n",
    "\n",
    "# Add the user that will be used for the rest of operations\n",
    "with driver.session() as session:\n",
    "    try: \n",
    "        session.write_transaction(add_user, our_username, our_password)\n",
    "    except ClientError as e:\n",
    "        print(e)\n",
    "driver.close()\n",
    "\n",
    "driver = connect(uri, our_username, our_password)\n",
    "with driver.session() as session:\n",
    "    greeting = session.write_transaction(create_and_return_greeting, message)\n",
    "    print(greeting) \n",
    "driver.close()"
   ]
  },
  {
   "cell_type": "code",
   "execution_count": null,
   "metadata": {},
   "outputs": [],
   "source": []
  }
 ],
 "metadata": {
  "kernelspec": {
   "display_name": "Python 3",
   "language": "python",
   "name": "python3"
  },
  "language_info": {
   "codemirror_mode": {
    "name": "ipython",
    "version": 3
   },
   "file_extension": ".py",
   "mimetype": "text/x-python",
   "name": "python",
   "nbconvert_exporter": "python",
   "pygments_lexer": "ipython3",
   "version": "3.7.2"
  }
 },
 "nbformat": 4,
 "nbformat_minor": 2
}
