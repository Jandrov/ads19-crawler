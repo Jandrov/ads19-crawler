{
 "cells": [
  {
   "cell_type": "code",
   "execution_count": 1,
   "metadata": {},
   "outputs": [
    {
     "name": "stdout",
     "output_type": "stream",
     "text": [
      "Collecting neo4j\n",
      "  Downloading https://files.pythonhosted.org/packages/01/c0/5143e27477d5b7db2f9f9b784762ec65b56fbe42fe618e5adfac1ed7bb57/neo4j-1.7.4.tar.gz\n",
      "Collecting neobolt~=1.7.13 (from neo4j)\n",
      "\u001b[?25l  Downloading https://files.pythonhosted.org/packages/60/60/80ff9b440ecfc649689d5ff7836f608b675711842a07c5ad17eff48ae4e7/neobolt-1.7.13.tar.gz (183kB)\n",
      "\u001b[K    100% |████████████████████████████████| 184kB 2.7MB/s ta 0:00:01\n",
      "\u001b[?25hCollecting neotime~=1.7.1 (from neo4j)\n",
      "  Downloading https://files.pythonhosted.org/packages/0b/7e/ca368a8d8e288be1352d4e2df35da1e01f8aaffbf526695df71630bcb8a6/neotime-1.7.4.tar.gz\n",
      "Requirement already satisfied: pytz in /Users/Jandrov/anaconda3/lib/python3.7/site-packages (from neotime~=1.7.1->neo4j) (2018.5)\n",
      "Requirement already satisfied: six in /Users/Jandrov/anaconda3/lib/python3.7/site-packages (from neotime~=1.7.1->neo4j) (1.11.0)\n",
      "Building wheels for collected packages: neo4j, neobolt, neotime\n",
      "  Running setup.py bdist_wheel for neo4j ... \u001b[?25ldone\n",
      "\u001b[?25h  Stored in directory: /Users/Jandrov/Library/Caches/pip/wheels/fe/6a/fb/b20ef7ea20d7f26c7e8f538e3ea0694322c99b7bafab8956c5\n",
      "  Running setup.py bdist_wheel for neobolt ... \u001b[?25ldone\n",
      "\u001b[?25h  Stored in directory: /Users/Jandrov/Library/Caches/pip/wheels/53/66/08/88253cffcc2a51a0adc022795487b68e013560fe2fd73352ae\n",
      "  Running setup.py bdist_wheel for neotime ... \u001b[?25ldone\n",
      "\u001b[?25h  Stored in directory: /Users/Jandrov/Library/Caches/pip/wheels/d4/b4/c4/ab867cd0ac9e667f8cd269f9364fd1cb8ee75fe50f5ce97c79\n",
      "Successfully built neo4j neobolt neotime\n",
      "Installing collected packages: neobolt, neotime, neo4j\n",
      "Successfully installed neo4j-1.7.4 neobolt-1.7.13 neotime-1.7.4\n",
      "\u001b[33mYou are using pip version 18.1, however version 19.1.1 is available.\n",
      "You should consider upgrading via the 'pip install --upgrade pip' command.\u001b[0m\n"
     ]
    }
   ],
   "source": [
    "#Get Neo4J official Python driver\n",
    "!pip install neo4j"
   ]
  },
  {
   "cell_type": "code",
   "execution_count": 5,
   "metadata": {},
   "outputs": [],
   "source": [
    "def create_and_return_greeting(tx, message):\n",
    "    result = tx.run(\"CREATE (a:Greeting) \"\n",
    "                    \"SET a.message = $message \"\n",
    "                    \"RETURN a.message + ', from node ' + id(a)\", message=message)\n",
    "    return result.single()[0]"
   ]
  },
  {
   "cell_type": "code",
   "execution_count": 15,
   "metadata": {},
   "outputs": [],
   "source": [
    "def add_user(tx, username, password):\n",
    "    result = tx.run(\"CALL dbms.security.createUser(\"\n",
    "                    \"$username,$password, false)\", username=username, password=password)"
   ]
  },
  {
   "cell_type": "code",
   "execution_count": 20,
   "metadata": {},
   "outputs": [
    {
     "name": "stdout",
     "output_type": "stream",
     "text": [
      "The specified user 'ads' already exists.\n",
      "Response, from node 0\n"
     ]
    }
   ],
   "source": [
    "#Neo4J connection test\n",
    "from neo4j import GraphDatabase\n",
    "from neo4j.exceptions import ClientError\n",
    "\n",
    "uri = \"bolt://localhost:7687\"\n",
    "username = \"ads\"\n",
    "password = \"ads\"\n",
    "message = \"Response\"\n",
    "default = \"neo4j\"\n",
    "\n",
    "# Logging with default user and password\n",
    "driver = GraphDatabase.driver(uri, auth=(default, default))\n",
    "\n",
    "# Add the user that will be used for the rest of operations\n",
    "with driver.session() as session:\n",
    "    try:\n",
    "        session.write_transaction(add_user, user, password)\n",
    "    except ClientError as e:\n",
    "        print(e)\n",
    "        \n",
    "driver.close()\n",
    "driver = GraphDatabase.driver(uri, auth=(user, password))\n",
    "with driver.session() as session:\n",
    "    greeting = session.write_transaction(create_and_return_greeting, message)\n",
    "    print(greeting)\n",
    "    \n",
    "driver.close()"
   ]
  },
  {
   "cell_type": "code",
   "execution_count": null,
   "metadata": {},
   "outputs": [],
   "source": []
  }
 ],
 "metadata": {
  "kernelspec": {
   "display_name": "Python 3",
   "language": "python",
   "name": "python3"
  },
  "language_info": {
   "codemirror_mode": {
    "name": "ipython",
    "version": 3
   },
   "file_extension": ".py",
   "mimetype": "text/x-python",
   "name": "python",
   "nbconvert_exporter": "python",
   "pygments_lexer": "ipython3",
   "version": "3.7.2"
  }
 },
 "nbformat": 4,
 "nbformat_minor": 2
}
