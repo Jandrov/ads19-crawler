{
 "cells": [
  {
   "cell_type": "code",
   "execution_count": 1,
   "metadata": {},
   "outputs": [
    {
     "name": "stdout",
     "output_type": "stream",
     "text": [
      "Requirement already satisfied: neo4j in /home/sywi/Documents/vpd/lib/python3.7/site-packages (1.7.4)\r\n",
      "Requirement already satisfied: neotime~=1.7.1 in /home/sywi/Documents/vpd/lib/python3.7/site-packages (from neo4j) (1.7.4)\r\n",
      "Requirement already satisfied: neobolt~=1.7.13 in /home/sywi/Documents/vpd/lib/python3.7/site-packages (from neo4j) (1.7.13)\r\n",
      "Requirement already satisfied: six in /home/sywi/Documents/vpd/lib/python3.7/site-packages (from neotime~=1.7.1->neo4j) (1.12.0)\r\n",
      "Requirement already satisfied: pytz in /home/sywi/Documents/vpd/lib/python3.7/site-packages (from neotime~=1.7.1->neo4j) (2019.1)\r\n"
     ]
    }
   ],
   "source": [
    "#Get Neo4J official Python driver\n",
    "!pip install neo4j"
   ]
  },
  {
   "cell_type": "code",
   "execution_count": 1,
   "metadata": {},
   "outputs": [],
   "source": [
    "def connect(uri, username, password):\n",
    "    try:\n",
    "        return GraphDatabase.driver(uri, auth=(username, password))\n",
    "    except ClientError as e:\n",
    "        print(e)\n",
    "        return -1"
   ]
  },
  {
   "cell_type": "code",
   "execution_count": 46,
   "metadata": {},
   "outputs": [],
   "source": [
    "def create_node(tx, url, subpages, metadata):\n",
    "    tx.run(\"MERGE (main:Url)\"\n",
    "            \"ON CREATE SET main = $properties, main.url = $url \"\n",
    "           , url=url, properties=metadata)\n",
    "    for subpage in subpages:\n",
    "        tx.run(\"CREATE (s:Url {url: $url})\", url=subpage)"
   ]
  },
  {
   "cell_type": "code",
   "execution_count": 39,
   "metadata": {},
   "outputs": [],
   "source": [
    "def add_constraint(tx):\n",
    "    tx.run(\"CREATE CONSTRAINT ON (u:Url)ASSERT u.url IS UNIQUE\") "
   ]
  },
  {
   "cell_type": "code",
   "execution_count": 3,
   "metadata": {},
   "outputs": [],
   "source": [
    "def add_user(tx, username, password):\n",
    "    try:\n",
    "        result = tx.run(\"CALL dbms.security.createUser($username,$password, false)\", username=username, password=password)\n",
    "    except ClientError as e:\n",
    "        print(e)"
   ]
  },
  {
   "cell_type": "code",
   "execution_count": 4,
   "metadata": {},
   "outputs": [],
   "source": [
    "def change_password(tx, password):\n",
    "    try:\n",
    "        result = tx.run(\"CALL dbms.security.changePassword($password)\", password=password)\n",
    "    except ClientError as e:\n",
    "        print(e)"
   ]
  },
  {
   "cell_type": "code",
   "execution_count": 5,
   "metadata": {},
   "outputs": [],
   "source": [
    "def create_metadata(soup):\n",
    "    title = soup.find(\"meta\",  property=\"og:title\")\n",
    "    desc = soup.find(\"meta\",  property=\"og:description\")\n",
    "    language = soup.find(\"meta\",  property=\"og:locale\")\n",
    "    keywords = soup.find(\"meta\", attrs = {'name':\"keywords\"})\n",
    "    metadata = {\n",
    "        'Title': title['content'] if title else None,\n",
    "        'Description': desc['content']if desc else None,\n",
    "        'Language': language['content'] if language else None,\n",
    "        'Keywords': keywords['content'] if keywords else None}\n",
    "    return metadata"
   ]
  },
  {
   "cell_type": "code",
   "execution_count": 6,
   "metadata": {},
   "outputs": [
    {
     "name": "stdout",
     "output_type": "stream",
     "text": [
      "Requirement already satisfied: beautifulsoup4 in /Users/Jandrov/anaconda3/lib/python3.7/site-packages (4.6.3)\n",
      "\u001b[33mYou are using pip version 18.1, however version 19.1.1 is available.\n",
      "You should consider upgrading via the 'pip install --upgrade pip' command.\u001b[0m\n"
     ]
    }
   ],
   "source": [
    "#Get Requests\n",
    "!pip3 install beautifulsoup4"
   ]
  },
  {
   "cell_type": "code",
   "execution_count": 7,
   "metadata": {},
   "outputs": [
    {
     "data": {
      "text/plain": [
       "'utf-8'"
      ]
     },
     "execution_count": 7,
     "metadata": {},
     "output_type": "execute_result"
    }
   ],
   "source": [
    "#Simple get example\n",
    "import requests\n",
    "\n",
    "r = requests.get('https://www.agh.edu.pl/')\n",
    "r.status_code\n",
    "r.headers['content-type']\n",
    "r.encoding\n",
    "# r.text holds html file"
   ]
  },
  {
   "cell_type": "code",
   "execution_count": 51,
   "metadata": {},
   "outputs": [],
   "source": [
    "#Crawler workflow\n",
    "import requests, re\n",
    "from bs4 import BeautifulSoup\n",
    "\n",
    "queue_limit = 10\n",
    "visited = set()\n",
    "to_visit = ['https://neo4j.com/']\n",
    "crawled_host = 'https://neo4j.com'\n",
    "\n",
    "results = []\n",
    "\n",
    "while len(to_visit) > 0 and len(results) < queue_limit :\n",
    "\n",
    "    crawled_url = to_visit.pop()\n",
    "    urls = set()\n",
    "\n",
    "    if crawled_url not in visited:\n",
    "        r = requests.get(crawled_url)\n",
    "        visited.add(crawled_url)\n",
    "\n",
    "        if r.status_code == 200:\n",
    "            soup = BeautifulSoup(r.text)\n",
    "            \n",
    "            for a in soup.find_all('a', href=True):\n",
    "                current_path = a['href']\n",
    "            \n",
    "                if current_path.startswith('/') and not '#' in current_path:\n",
    "                    current_url = crawled_host + current_path\n",
    "                \n",
    "                    if current_url not in visited:\n",
    "                        urls.add(current_url)\n",
    "                        to_visit.append(current_url)\n",
    "                        # print(\"Found the URL:\", current_url)\n",
    "            \n",
    "            metadata = create_metadata(soup)\n",
    "            result = (crawled_url, list(urls), metadata)\n",
    "            results.append(result)\n",
    "        else:\n",
    "            print(r.status_code)"
   ]
  },
  {
   "cell_type": "code",
   "execution_count": 52,
   "metadata": {},
   "outputs": [
    {
     "data": {
      "text/plain": [
       "('https://neo4j.com/',\n",
       " ['https://neo4j.com/startup-program/',\n",
       "  'https://neo4j.com/developer/data-modeling/',\n",
       "  'https://neo4j.com/terms/',\n",
       "  'https://neo4j.com/blog/',\n",
       "  'https://neo4j.com/whitepapers/rdbms-developers-graph-databases-ebook/?ref=home-2',\n",
       "  'https://neo4j.com/sandbox-v2/?ref=hcard',\n",
       "  'https://neo4j.com/graphacademy/',\n",
       "  'https://neo4j.com/licensing/',\n",
       "  'https://neo4j.com/industries/financial-services/',\n",
       "  'https://neo4j.com/startup-program/?ref=developers',\n",
       "  'https://neo4j.com/subscriptions/',\n",
       "  'https://neo4j.com/whitepapers/sustainable-competitive-advantage-graph-databases/?ref=home',\n",
       "  'https://neo4j.com/download/',\n",
       "  'https://neo4j.com/events',\n",
       "  'https://neo4j.com/graphacademy/neo4j-certification/',\n",
       "  'https://neo4j.com/use-cases/social-network/',\n",
       "  'https://neo4j.com/download-center/',\n",
       "  'https://neo4j.com/industries/retail/',\n",
       "  'https://neo4j.com/developer/graph-db-vs-rdbms/',\n",
       "  'https://neo4j.com/community/',\n",
       "  'https://neo4j.com/docs/',\n",
       "  'https://neo4j.com/developer/graph-db-vs-rdbms/?ref=footer',\n",
       "  'https://neo4j.com/developer/in-production/',\n",
       "  'https://neo4j.com/ambassador/',\n",
       "  'https://neo4j.com/developer/?ref=home-2',\n",
       "  'https://neo4j.com/use-cases/knowledge-graph',\n",
       "  'https://neo4j.com/whats-new-in-neo4j/',\n",
       "  'https://neo4j.com/customers/?ref=footer',\n",
       "  'https://neo4j.com/customers/',\n",
       "  'https://neo4j.com/graphtour/',\n",
       "  'https://neo4j.com/whats-new-in-neo4j/?ref=footer',\n",
       "  'https://neo4j.com/business-edge/',\n",
       "  'https://neo4j.com/why-graph-databases/',\n",
       "  'https://neo4j.com/graph-algorithms-book/?ref=home-banner',\n",
       "  'https://neo4j.com/customers/?ref=home',\n",
       "  'https://neo4j.com/staff/?ref=footer',\n",
       "  'https://neo4j.com/professional-services/?ref=home',\n",
       "  'https://neo4j.com/use-cases/',\n",
       "  'https://neo4j.com/contact-us?ref=footer',\n",
       "  'https://neo4j.com/events/',\n",
       "  'https://neo4j.com/graph-databases-book/?ref=home',\n",
       "  'https://neo4j.com/use-cases/network-and-it-operations/',\n",
       "  'https://neo4j.com/developer/language-guides/',\n",
       "  'https://neo4j.com/partners/',\n",
       "  'https://neo4j.com/product/',\n",
       "  'https://neo4j.com/developer/graph-db-rdbms/',\n",
       "  'https://neo4j.com/whitepapers/graph-databases-beginners-ebook/?ref=home',\n",
       "  'https://neo4j.com/graphtour',\n",
       "  'https://neo4j.com/neo4j-cloud-services/',\n",
       "  'https://neo4j.com/news/',\n",
       "  'https://neo4j.com/use-cases/artificial-intelligence-analytics/',\n",
       "  'https://neo4j.com/privacy-policy/',\n",
       "  'https://neo4j.com/top-ten-reasons/',\n",
       "  'https://neo4j.com/use-cases/?ref=footer',\n",
       "  'https://neo4j.com/company/?ref=footer',\n",
       "  'https://neo4j.com/contact-us/',\n",
       "  'https://neo4j.com/webinars/',\n",
       "  'https://neo4j.com/graphacademy/?ref=footer',\n",
       "  'https://neo4j.com/use-cases/master-data-management/',\n",
       "  'https://neo4j.com/graph-machine-learning-algorithms/',\n",
       "  'https://neo4j.com/developer/?ref=home',\n",
       "  'https://neo4j.com/use-cases/identity-and-access-management/',\n",
       "  'https://neo4j.com/partners/oem-partner/',\n",
       "  'https://neo4j.com/careers/?ref=footer',\n",
       "  'https://neo4j.com/developer/get-started/',\n",
       "  'https://neo4j.com/developer/kb/',\n",
       "  'https://neo4j.com/open-source-project/',\n",
       "  'https://neo4j.com/neo4j-for-google-cloud',\n",
       "  'https://neo4j.com/product/?ref=home',\n",
       "  'https://neo4j.com/resources/rdbms-developer-graphs/?ref=home-2',\n",
       "  'https://neo4j.com/awards/?ref=footer',\n",
       "  'https://neo4j.com/product/?ref=footer',\n",
       "  'https://neo4j.com/sandbox-v2/',\n",
       "  'https://neo4j.com/developer/get-started/?ref=footer',\n",
       "  'https://neo4j.com/developer/',\n",
       "  'https://neo4j.com/professional-services/',\n",
       "  'https://neo4j.com/sitemap/',\n",
       "  'https://neo4j.com/graphtour/?ref=menu',\n",
       "  'https://neo4j.com/why-graph-databases/?ref=footer',\n",
       "  'https://neo4j.com/use-cases/real-time-recommendation-engine/',\n",
       "  'https://neo4j.com/use-cases/fraud-detection/',\n",
       "  'https://neo4j.com/resources/',\n",
       "  'https://neo4j.com/partners/neo4j-partner-program/',\n",
       "  'https://neo4j.com/books/',\n",
       "  'https://neo4j.com/sandbox/',\n",
       "  'https://neo4j.com/labs/',\n",
       "  'https://neo4j.com/use-cases/gdpr-compliance/',\n",
       "  'https://neo4j.com/graphgists/',\n",
       "  'https://neo4j.com/developer/integration/',\n",
       "  'https://neo4j.com/partners/?ref=footer',\n",
       "  'https://neo4j.com/news/?ref=footer',\n",
       "  'https://neo4j.com/developer/cypher/'],\n",
       " {'Title': 'Neo4j Graph Platform – The Leader in Graph Databases',\n",
       "  'Description': \"Meet Neo4j: The graph database platform powering today's mission-critical enterprise applications, including artificial intelligence, fraud detection and recommendations.\",\n",
       "  'Language': 'en_US',\n",
       "  'Keywords': None})"
      ]
     },
     "execution_count": 52,
     "metadata": {},
     "output_type": "execute_result"
    }
   ],
   "source": [
    "results[0]"
   ]
  },
  {
   "cell_type": "code",
   "execution_count": null,
   "metadata": {},
   "outputs": [],
   "source": [
    "#Neo4J connection test (Neo4j must be running on your localhost)\n",
    "from neo4j import GraphDatabase\n",
    "from neo4j.exceptions import ClientError\n",
    "\n",
    "uri = \"bolt://localhost:7687\"\n",
    "our_username = \"ads\"\n",
    "our_password = \"ads\"\n",
    "message = \"Response\"\n",
    "default = \"neo4j\"\n",
    "\n",
    "# Logging with default user and password\n",
    "driver = connect(uri, default, default)\n",
    "# If we have already run this before, then the password is already changed\n",
    "if driver != -1:\n",
    "    ''' But if it is the first time we log as that default user, \n",
    "        we are forced to change the password '''\n",
    "    with driver.session() as session:\n",
    "        session.write_transaction(change_password, our_password) # e.g. our_password\n",
    "    # We should exit and connect again after changing the password\n",
    "    driver.close()\n",
    "\n",
    "driver = connect(uri, default, our_password)\n",
    "\n",
    "# Add the user that will be used for the rest of operations\n",
    "with driver.session() as session:\n",
    "    try: \n",
    "        session.write_transaction(add_user, our_username, our_password)\n",
    "    except ClientError as e:\n",
    "        print(e)\n",
    "driver.close()\n"
   ]
  },
  {
   "cell_type": "code",
   "execution_count": 40,
   "metadata": {},
   "outputs": [
    {
     "name": "stderr",
     "output_type": "stream",
     "text": [
      "Failed to write data to connection Address(host='localhost', port=7687) (Address(host='127.0.0.1', port=7687)); (\"0; 'Underlying socket connection gone (_ssl.c:2259)'\")\n",
      "Failed to write data to connection Address(host='localhost', port=7687) (Address(host='127.0.0.1', port=7687)); (\"0; 'Underlying socket connection gone (_ssl.c:2259)'\")\n"
     ]
    }
   ],
   "source": [
    "driver = connect(uri, our_username, our_password)\n",
    "with driver.session() as session:\n",
    "    session.write_transaction(add_constraint)\n",
    "driver.close()"
   ]
  },
  {
   "cell_type": "code",
   "execution_count": 56,
   "metadata": {},
   "outputs": [
    {
     "ename": "ConstraintError",
     "evalue": "Node(1) already exists with label `Url` and property `url` = 'https://neo4j.com/startup-program/'",
     "output_type": "error",
     "traceback": [
      "\u001b[0;31m---------------------------------------------------------------------------\u001b[0m",
      "\u001b[0;31mConstraintError\u001b[0m                           Traceback (most recent call last)",
      "\u001b[0;32m<ipython-input-56-bcebea84222d>\u001b[0m in \u001b[0;36m<module>\u001b[0;34m()\u001b[0m\n\u001b[1;32m      1\u001b[0m \u001b[0mdriver\u001b[0m \u001b[0;34m=\u001b[0m \u001b[0mconnect\u001b[0m\u001b[0;34m(\u001b[0m\u001b[0muri\u001b[0m\u001b[0;34m,\u001b[0m \u001b[0mour_username\u001b[0m\u001b[0;34m,\u001b[0m \u001b[0mour_password\u001b[0m\u001b[0;34m)\u001b[0m\u001b[0;34m\u001b[0m\u001b[0;34m\u001b[0m\u001b[0m\n\u001b[1;32m      2\u001b[0m \u001b[0;32mwith\u001b[0m \u001b[0mdriver\u001b[0m\u001b[0;34m.\u001b[0m\u001b[0msession\u001b[0m\u001b[0;34m(\u001b[0m\u001b[0;34m)\u001b[0m \u001b[0;32mas\u001b[0m \u001b[0msession\u001b[0m\u001b[0;34m:\u001b[0m\u001b[0;34m\u001b[0m\u001b[0;34m\u001b[0m\u001b[0m\n\u001b[0;32m----> 3\u001b[0;31m     \u001b[0msession\u001b[0m\u001b[0;34m.\u001b[0m\u001b[0mwrite_transaction\u001b[0m\u001b[0;34m(\u001b[0m\u001b[0mcreate_node\u001b[0m\u001b[0;34m,\u001b[0m \u001b[0mresults\u001b[0m\u001b[0;34m[\u001b[0m\u001b[0;36m0\u001b[0m\u001b[0;34m]\u001b[0m\u001b[0;34m[\u001b[0m\u001b[0;36m0\u001b[0m\u001b[0;34m]\u001b[0m\u001b[0;34m,\u001b[0m \u001b[0mresults\u001b[0m\u001b[0;34m[\u001b[0m\u001b[0;36m0\u001b[0m\u001b[0;34m]\u001b[0m\u001b[0;34m[\u001b[0m\u001b[0;36m1\u001b[0m\u001b[0;34m]\u001b[0m\u001b[0;34m[\u001b[0m\u001b[0;34m:\u001b[0m\u001b[0;36m5\u001b[0m\u001b[0;34m]\u001b[0m\u001b[0;34m,\u001b[0m \u001b[0mresults\u001b[0m\u001b[0;34m[\u001b[0m\u001b[0;36m0\u001b[0m\u001b[0;34m]\u001b[0m\u001b[0;34m[\u001b[0m\u001b[0;36m2\u001b[0m\u001b[0;34m]\u001b[0m\u001b[0;34m)\u001b[0m\u001b[0;34m\u001b[0m\u001b[0;34m\u001b[0m\u001b[0m\n\u001b[0m\u001b[1;32m      4\u001b[0m \u001b[0mdriver\u001b[0m\u001b[0;34m.\u001b[0m\u001b[0mclose\u001b[0m\u001b[0;34m(\u001b[0m\u001b[0;34m)\u001b[0m\u001b[0;34m\u001b[0m\u001b[0;34m\u001b[0m\u001b[0m\n",
      "\u001b[0;32m~/anaconda3/lib/python3.7/site-packages/neo4j/__init__.py\u001b[0m in \u001b[0;36mwrite_transaction\u001b[0;34m(self, unit_of_work, *args, **kwargs)\u001b[0m\n\u001b[1;32m    712\u001b[0m     \u001b[0;32mdef\u001b[0m \u001b[0mwrite_transaction\u001b[0m\u001b[0;34m(\u001b[0m\u001b[0mself\u001b[0m\u001b[0;34m,\u001b[0m \u001b[0munit_of_work\u001b[0m\u001b[0;34m,\u001b[0m \u001b[0;34m*\u001b[0m\u001b[0margs\u001b[0m\u001b[0;34m,\u001b[0m \u001b[0;34m**\u001b[0m\u001b[0mkwargs\u001b[0m\u001b[0;34m)\u001b[0m\u001b[0;34m:\u001b[0m\u001b[0;34m\u001b[0m\u001b[0;34m\u001b[0m\u001b[0m\n\u001b[1;32m    713\u001b[0m         \u001b[0mself\u001b[0m\u001b[0;34m.\u001b[0m\u001b[0m_assert_open\u001b[0m\u001b[0;34m(\u001b[0m\u001b[0;34m)\u001b[0m\u001b[0;34m\u001b[0m\u001b[0;34m\u001b[0m\u001b[0m\n\u001b[0;32m--> 714\u001b[0;31m         \u001b[0;32mreturn\u001b[0m \u001b[0mself\u001b[0m\u001b[0;34m.\u001b[0m\u001b[0m_run_transaction\u001b[0m\u001b[0;34m(\u001b[0m\u001b[0mWRITE_ACCESS\u001b[0m\u001b[0;34m,\u001b[0m \u001b[0munit_of_work\u001b[0m\u001b[0;34m,\u001b[0m \u001b[0;34m*\u001b[0m\u001b[0margs\u001b[0m\u001b[0;34m,\u001b[0m \u001b[0;34m**\u001b[0m\u001b[0mkwargs\u001b[0m\u001b[0;34m)\u001b[0m\u001b[0;34m\u001b[0m\u001b[0;34m\u001b[0m\u001b[0m\n\u001b[0m\u001b[1;32m    715\u001b[0m \u001b[0;34m\u001b[0m\u001b[0m\n\u001b[1;32m    716\u001b[0m     \u001b[0;32mdef\u001b[0m \u001b[0m_assert_open\u001b[0m\u001b[0;34m(\u001b[0m\u001b[0mself\u001b[0m\u001b[0;34m)\u001b[0m\u001b[0;34m:\u001b[0m\u001b[0;34m\u001b[0m\u001b[0;34m\u001b[0m\u001b[0m\n",
      "\u001b[0;32m~/anaconda3/lib/python3.7/site-packages/neo4j/__init__.py\u001b[0m in \u001b[0;36m_run_transaction\u001b[0;34m(self, access_mode, unit_of_work, *args, **kwargs)\u001b[0m\n\u001b[1;32m    684\u001b[0m                         \u001b[0mtx\u001b[0m\u001b[0;34m.\u001b[0m\u001b[0msuccess\u001b[0m \u001b[0;34m=\u001b[0m \u001b[0;32mTrue\u001b[0m\u001b[0;34m\u001b[0m\u001b[0;34m\u001b[0m\u001b[0m\n\u001b[1;32m    685\u001b[0m                 \u001b[0;32mfinally\u001b[0m\u001b[0;34m:\u001b[0m\u001b[0;34m\u001b[0m\u001b[0;34m\u001b[0m\u001b[0m\n\u001b[0;32m--> 686\u001b[0;31m                     \u001b[0mtx\u001b[0m\u001b[0;34m.\u001b[0m\u001b[0mclose\u001b[0m\u001b[0;34m(\u001b[0m\u001b[0;34m)\u001b[0m\u001b[0;34m\u001b[0m\u001b[0;34m\u001b[0m\u001b[0m\n\u001b[0m\u001b[1;32m    687\u001b[0m             \u001b[0;32mexcept\u001b[0m \u001b[0;34m(\u001b[0m\u001b[0mServiceUnavailable\u001b[0m\u001b[0;34m,\u001b[0m \u001b[0mSessionExpired\u001b[0m\u001b[0;34m,\u001b[0m \u001b[0mConnectionExpired\u001b[0m\u001b[0;34m)\u001b[0m \u001b[0;32mas\u001b[0m \u001b[0merror\u001b[0m\u001b[0;34m:\u001b[0m\u001b[0;34m\u001b[0m\u001b[0;34m\u001b[0m\u001b[0m\n\u001b[1;32m    688\u001b[0m                 \u001b[0merrors\u001b[0m\u001b[0;34m.\u001b[0m\u001b[0mappend\u001b[0m\u001b[0;34m(\u001b[0m\u001b[0merror\u001b[0m\u001b[0;34m)\u001b[0m\u001b[0;34m\u001b[0m\u001b[0;34m\u001b[0m\u001b[0m\n",
      "\u001b[0;32m~/anaconda3/lib/python3.7/site-packages/neo4j/__init__.py\u001b[0m in \u001b[0;36mclose\u001b[0;34m(self)\u001b[0m\n\u001b[1;32m    826\u001b[0m         \u001b[0mself\u001b[0m\u001b[0;34m.\u001b[0m\u001b[0m_assert_open\u001b[0m\u001b[0;34m(\u001b[0m\u001b[0;34m)\u001b[0m\u001b[0;34m\u001b[0m\u001b[0;34m\u001b[0m\u001b[0m\n\u001b[1;32m    827\u001b[0m         \u001b[0;32mtry\u001b[0m\u001b[0;34m:\u001b[0m\u001b[0;34m\u001b[0m\u001b[0;34m\u001b[0m\u001b[0m\n\u001b[0;32m--> 828\u001b[0;31m             \u001b[0mself\u001b[0m\u001b[0;34m.\u001b[0m\u001b[0msync\u001b[0m\u001b[0;34m(\u001b[0m\u001b[0;34m)\u001b[0m\u001b[0;34m\u001b[0m\u001b[0;34m\u001b[0m\u001b[0m\n\u001b[0m\u001b[1;32m    829\u001b[0m         \u001b[0;32mexcept\u001b[0m \u001b[0mCypherError\u001b[0m\u001b[0;34m:\u001b[0m\u001b[0;34m\u001b[0m\u001b[0;34m\u001b[0m\u001b[0m\n\u001b[1;32m    830\u001b[0m             \u001b[0mself\u001b[0m\u001b[0;34m.\u001b[0m\u001b[0msuccess\u001b[0m \u001b[0;34m=\u001b[0m \u001b[0;32mFalse\u001b[0m\u001b[0;34m\u001b[0m\u001b[0;34m\u001b[0m\u001b[0m\n",
      "\u001b[0;32m~/anaconda3/lib/python3.7/site-packages/neo4j/__init__.py\u001b[0m in \u001b[0;36msync\u001b[0;34m(self)\u001b[0m\n\u001b[1;32m    791\u001b[0m         \"\"\"\n\u001b[1;32m    792\u001b[0m         \u001b[0mself\u001b[0m\u001b[0;34m.\u001b[0m\u001b[0m_assert_open\u001b[0m\u001b[0;34m(\u001b[0m\u001b[0;34m)\u001b[0m\u001b[0;34m\u001b[0m\u001b[0;34m\u001b[0m\u001b[0m\n\u001b[0;32m--> 793\u001b[0;31m         \u001b[0mself\u001b[0m\u001b[0;34m.\u001b[0m\u001b[0msession\u001b[0m\u001b[0;34m.\u001b[0m\u001b[0msync\u001b[0m\u001b[0;34m(\u001b[0m\u001b[0;34m)\u001b[0m\u001b[0;34m\u001b[0m\u001b[0;34m\u001b[0m\u001b[0m\n\u001b[0m\u001b[1;32m    794\u001b[0m \u001b[0;34m\u001b[0m\u001b[0m\n\u001b[1;32m    795\u001b[0m     \u001b[0;32mdef\u001b[0m \u001b[0mcommit\u001b[0m\u001b[0;34m(\u001b[0m\u001b[0mself\u001b[0m\u001b[0;34m)\u001b[0m\u001b[0;34m:\u001b[0m\u001b[0;34m\u001b[0m\u001b[0;34m\u001b[0m\u001b[0m\n",
      "\u001b[0;32m~/anaconda3/lib/python3.7/site-packages/neo4j/__init__.py\u001b[0m in \u001b[0;36msync\u001b[0;34m(self)\u001b[0m\n\u001b[1;32m    536\u001b[0m         \u001b[0;32mif\u001b[0m \u001b[0mself\u001b[0m\u001b[0;34m.\u001b[0m\u001b[0m_connection\u001b[0m\u001b[0;34m:\u001b[0m\u001b[0;34m\u001b[0m\u001b[0;34m\u001b[0m\u001b[0m\n\u001b[1;32m    537\u001b[0m             \u001b[0;32mtry\u001b[0m\u001b[0;34m:\u001b[0m\u001b[0;34m\u001b[0m\u001b[0;34m\u001b[0m\u001b[0m\n\u001b[0;32m--> 538\u001b[0;31m                 \u001b[0mdetail_count\u001b[0m\u001b[0;34m,\u001b[0m \u001b[0m_\u001b[0m \u001b[0;34m=\u001b[0m \u001b[0mself\u001b[0m\u001b[0;34m.\u001b[0m\u001b[0m_connection\u001b[0m\u001b[0;34m.\u001b[0m\u001b[0msync\u001b[0m\u001b[0;34m(\u001b[0m\u001b[0;34m)\u001b[0m\u001b[0;34m\u001b[0m\u001b[0;34m\u001b[0m\u001b[0m\n\u001b[0m\u001b[1;32m    539\u001b[0m             \u001b[0;32mexcept\u001b[0m \u001b[0mConnectionExpired\u001b[0m \u001b[0;32mas\u001b[0m \u001b[0merror\u001b[0m\u001b[0;34m:\u001b[0m\u001b[0;34m\u001b[0m\u001b[0;34m\u001b[0m\u001b[0m\n\u001b[1;32m    540\u001b[0m                 \u001b[0;32mraise\u001b[0m \u001b[0mSessionExpired\u001b[0m\u001b[0;34m(\u001b[0m\u001b[0;34m*\u001b[0m\u001b[0merror\u001b[0m\u001b[0;34m.\u001b[0m\u001b[0margs\u001b[0m\u001b[0;34m)\u001b[0m\u001b[0;34m\u001b[0m\u001b[0;34m\u001b[0m\u001b[0m\n",
      "\u001b[0;32m~/anaconda3/lib/python3.7/site-packages/neobolt/direct.py\u001b[0m in \u001b[0;36msync\u001b[0;34m(self)\u001b[0m\n\u001b[1;32m    529\u001b[0m             \u001b[0mresponse\u001b[0m \u001b[0;34m=\u001b[0m \u001b[0mself\u001b[0m\u001b[0;34m.\u001b[0m\u001b[0mresponses\u001b[0m\u001b[0;34m[\u001b[0m\u001b[0;36m0\u001b[0m\u001b[0;34m]\u001b[0m\u001b[0;34m\u001b[0m\u001b[0;34m\u001b[0m\u001b[0m\n\u001b[1;32m    530\u001b[0m             \u001b[0;32mwhile\u001b[0m \u001b[0;32mnot\u001b[0m \u001b[0mresponse\u001b[0m\u001b[0;34m.\u001b[0m\u001b[0mcomplete\u001b[0m\u001b[0;34m:\u001b[0m\u001b[0;34m\u001b[0m\u001b[0;34m\u001b[0m\u001b[0m\n\u001b[0;32m--> 531\u001b[0;31m                 \u001b[0mdetail_delta\u001b[0m\u001b[0;34m,\u001b[0m \u001b[0msummary_delta\u001b[0m \u001b[0;34m=\u001b[0m \u001b[0mself\u001b[0m\u001b[0;34m.\u001b[0m\u001b[0mfetch\u001b[0m\u001b[0;34m(\u001b[0m\u001b[0;34m)\u001b[0m\u001b[0;34m\u001b[0m\u001b[0;34m\u001b[0m\u001b[0m\n\u001b[0m\u001b[1;32m    532\u001b[0m                 \u001b[0mdetail_count\u001b[0m \u001b[0;34m+=\u001b[0m \u001b[0mdetail_delta\u001b[0m\u001b[0;34m\u001b[0m\u001b[0;34m\u001b[0m\u001b[0m\n\u001b[1;32m    533\u001b[0m                 \u001b[0msummary_count\u001b[0m \u001b[0;34m+=\u001b[0m \u001b[0msummary_delta\u001b[0m\u001b[0;34m\u001b[0m\u001b[0;34m\u001b[0m\u001b[0m\n",
      "\u001b[0;32m~/anaconda3/lib/python3.7/site-packages/neobolt/direct.py\u001b[0m in \u001b[0;36mfetch\u001b[0;34m(self)\u001b[0m\n\u001b[1;32m    420\u001b[0m     \u001b[0;32mdef\u001b[0m \u001b[0mfetch\u001b[0m\u001b[0;34m(\u001b[0m\u001b[0mself\u001b[0m\u001b[0;34m)\u001b[0m\u001b[0;34m:\u001b[0m\u001b[0;34m\u001b[0m\u001b[0;34m\u001b[0m\u001b[0m\n\u001b[1;32m    421\u001b[0m         \u001b[0;32mtry\u001b[0m\u001b[0;34m:\u001b[0m\u001b[0;34m\u001b[0m\u001b[0;34m\u001b[0m\u001b[0m\n\u001b[0;32m--> 422\u001b[0;31m             \u001b[0;32mreturn\u001b[0m \u001b[0mself\u001b[0m\u001b[0;34m.\u001b[0m\u001b[0m_fetch\u001b[0m\u001b[0;34m(\u001b[0m\u001b[0;34m)\u001b[0m\u001b[0;34m\u001b[0m\u001b[0;34m\u001b[0m\u001b[0m\n\u001b[0m\u001b[1;32m    423\u001b[0m         \u001b[0;32mexcept\u001b[0m \u001b[0mself\u001b[0m\u001b[0;34m.\u001b[0m\u001b[0merror_handler\u001b[0m\u001b[0;34m.\u001b[0m\u001b[0mknown_errors\u001b[0m \u001b[0;32mas\u001b[0m \u001b[0merror\u001b[0m\u001b[0;34m:\u001b[0m\u001b[0;34m\u001b[0m\u001b[0;34m\u001b[0m\u001b[0m\n\u001b[1;32m    424\u001b[0m             \u001b[0mself\u001b[0m\u001b[0;34m.\u001b[0m\u001b[0merror_handler\u001b[0m\u001b[0;34m.\u001b[0m\u001b[0mhandle\u001b[0m\u001b[0;34m(\u001b[0m\u001b[0merror\u001b[0m\u001b[0;34m,\u001b[0m \u001b[0mself\u001b[0m\u001b[0;34m.\u001b[0m\u001b[0munresolved_address\u001b[0m\u001b[0;34m)\u001b[0m\u001b[0;34m\u001b[0m\u001b[0;34m\u001b[0m\u001b[0m\n",
      "\u001b[0;32m~/anaconda3/lib/python3.7/site-packages/neobolt/direct.py\u001b[0m in \u001b[0;36m_fetch\u001b[0;34m(self)\u001b[0m\n\u001b[1;32m    462\u001b[0m         \u001b[0;32melif\u001b[0m \u001b[0msummary_signature\u001b[0m \u001b[0;34m==\u001b[0m \u001b[0;34mb\"\\x7F\"\u001b[0m\u001b[0;34m:\u001b[0m\u001b[0;34m\u001b[0m\u001b[0;34m\u001b[0m\u001b[0m\n\u001b[1;32m    463\u001b[0m             \u001b[0mlog_debug\u001b[0m\u001b[0;34m(\u001b[0m\u001b[0;34m\"[#%04X]  S: FAILURE %r\"\u001b[0m\u001b[0;34m,\u001b[0m \u001b[0mself\u001b[0m\u001b[0;34m.\u001b[0m\u001b[0mlocal_port\u001b[0m\u001b[0;34m,\u001b[0m \u001b[0msummary_metadata\u001b[0m\u001b[0;34m)\u001b[0m\u001b[0;34m\u001b[0m\u001b[0;34m\u001b[0m\u001b[0m\n\u001b[0;32m--> 464\u001b[0;31m             \u001b[0mresponse\u001b[0m\u001b[0;34m.\u001b[0m\u001b[0mon_failure\u001b[0m\u001b[0;34m(\u001b[0m\u001b[0msummary_metadata\u001b[0m \u001b[0;32mor\u001b[0m \u001b[0;34m{\u001b[0m\u001b[0;34m}\u001b[0m\u001b[0;34m)\u001b[0m\u001b[0;34m\u001b[0m\u001b[0;34m\u001b[0m\u001b[0m\n\u001b[0m\u001b[1;32m    465\u001b[0m         \u001b[0;32melse\u001b[0m\u001b[0;34m:\u001b[0m\u001b[0;34m\u001b[0m\u001b[0;34m\u001b[0m\u001b[0m\n\u001b[1;32m    466\u001b[0m             \u001b[0;32mraise\u001b[0m \u001b[0mProtocolError\u001b[0m\u001b[0;34m(\u001b[0m\u001b[0;34m\"Unexpected response message with signature %02X\"\u001b[0m \u001b[0;34m%\u001b[0m \u001b[0msummary_signature\u001b[0m\u001b[0;34m)\u001b[0m\u001b[0;34m\u001b[0m\u001b[0;34m\u001b[0m\u001b[0m\n",
      "\u001b[0;32m~/anaconda3/lib/python3.7/site-packages/neobolt/direct.py\u001b[0m in \u001b[0;36mon_failure\u001b[0;34m(self, metadata)\u001b[0m\n\u001b[1;32m    757\u001b[0m         \u001b[0;32mif\u001b[0m \u001b[0mcallable\u001b[0m\u001b[0;34m(\u001b[0m\u001b[0mhandler\u001b[0m\u001b[0;34m)\u001b[0m\u001b[0;34m:\u001b[0m\u001b[0;34m\u001b[0m\u001b[0;34m\u001b[0m\u001b[0m\n\u001b[1;32m    758\u001b[0m             \u001b[0mhandler\u001b[0m\u001b[0;34m(\u001b[0m\u001b[0;34m)\u001b[0m\u001b[0;34m\u001b[0m\u001b[0;34m\u001b[0m\u001b[0m\n\u001b[0;32m--> 759\u001b[0;31m         \u001b[0;32mraise\u001b[0m \u001b[0mCypherError\u001b[0m\u001b[0;34m.\u001b[0m\u001b[0mhydrate\u001b[0m\u001b[0;34m(\u001b[0m\u001b[0;34m**\u001b[0m\u001b[0mmetadata\u001b[0m\u001b[0;34m)\u001b[0m\u001b[0;34m\u001b[0m\u001b[0;34m\u001b[0m\u001b[0m\n\u001b[0m\u001b[1;32m    760\u001b[0m \u001b[0;34m\u001b[0m\u001b[0m\n\u001b[1;32m    761\u001b[0m     \u001b[0;32mdef\u001b[0m \u001b[0mon_ignored\u001b[0m\u001b[0;34m(\u001b[0m\u001b[0mself\u001b[0m\u001b[0;34m,\u001b[0m \u001b[0mmetadata\u001b[0m\u001b[0;34m=\u001b[0m\u001b[0;32mNone\u001b[0m\u001b[0;34m)\u001b[0m\u001b[0;34m:\u001b[0m\u001b[0;34m\u001b[0m\u001b[0;34m\u001b[0m\u001b[0m\n",
      "\u001b[0;31mConstraintError\u001b[0m: Node(1) already exists with label `Url` and property `url` = 'https://neo4j.com/startup-program/'"
     ]
    }
   ],
   "source": [
    "driver = connect(uri, our_username, our_password)\n",
    "with driver.session() as session:\n",
    "    session.write_transaction(create_node, results[0][0], results[0][1][:5], results[0][2])\n",
    "driver.close()"
   ]
  },
  {
   "cell_type": "code",
   "execution_count": 14,
   "metadata": {},
   "outputs": [
    {
     "data": {
      "text/plain": [
       "'cqlCreate = \"CREATE (neo4j:crawled_url{name:{}})\".format(results[0][0])\\ndriver = connect(uri, our_username, our_password)\\nwith driver.session() as session:\\n    session.run(cqlCreate)'"
      ]
     },
     "execution_count": 14,
     "metadata": {},
     "output_type": "execute_result"
    }
   ],
   "source": [
    "'''\n",
    "driver = connect(uri, our_username, our_password)\n",
    "with driver.session() as session:\n",
    "    greeting = session.write_transaction(create_and_return_greeting, message)\n",
    "    print(greeting) \n",
    "driver.close() '''\n",
    "\n",
    "'''cqlCreate = \"CREATE (neo4j:crawled_url{name:{}})\".format(results[0][0])\n",
    "driver = connect(uri, our_username, our_password)\n",
    "with driver.session() as session:\n",
    "    session.run(cqlCreate)'''"
   ]
  },
  {
   "cell_type": "code",
   "execution_count": null,
   "metadata": {},
   "outputs": [],
   "source": []
  }
 ],
 "metadata": {
  "kernelspec": {
   "display_name": "Python 3",
   "language": "python",
   "name": "python3"
  },
  "language_info": {
   "codemirror_mode": {
    "name": "ipython",
    "version": 3
   },
   "file_extension": ".py",
   "mimetype": "text/x-python",
   "name": "python",
   "nbconvert_exporter": "python",
   "pygments_lexer": "ipython3",
   "version": "3.7.2"
  }
 },
 "nbformat": 4,
 "nbformat_minor": 2
}
