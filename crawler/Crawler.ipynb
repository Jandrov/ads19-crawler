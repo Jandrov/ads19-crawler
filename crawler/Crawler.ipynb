{
 "cells": [
  {
   "cell_type": "code",
   "execution_count": 4,
   "metadata": {},
   "outputs": [
    {
     "name": "stdout",
     "output_type": "stream",
     "text": [
      "Collecting neo4j\n",
      "\u001b[33m  Cache entry deserialization failed, entry ignored\u001b[0m\n",
      "\u001b[33m  Cache entry deserialization failed, entry ignored\u001b[0m\n",
      "  Downloading https://files.pythonhosted.org/packages/01/c0/5143e27477d5b7db2f9f9b784762ec65b56fbe42fe618e5adfac1ed7bb57/neo4j-1.7.4.tar.gz\n",
      "\u001b[31mCould not import setuptools which is required to install from a source distribution.\n",
      "Please install setuptools.\u001b[0m\n",
      "\u001b[33mYou are using pip version 9.0.3, however version 19.1.1 is available.\n",
      "You should consider upgrading via the 'pip install --upgrade pip' command.\u001b[0m\n"
     ]
    }
   ],
   "source": [
    "#Get Neo4J official Python driver\n",
    "!pip install neo4j"
   ]
  },
  {
   "cell_type": "code",
   "execution_count": null,
   "metadata": {},
   "outputs": [],
   "source": [
    "def connect(uri, username, password):\n",
    "    try:\n",
    "        return GraphDatabase.driver(uri, auth=(username, password))\n",
    "    except ClientError as e:\n",
    "        print(e)\n",
    "        return -1"
   ]
  },
  {
   "cell_type": "code",
   "execution_count": null,
   "metadata": {},
   "outputs": [],
   "source": [
    "def create_and_return_greeting(tx, message):\n",
    "    result = tx.run(\"CREATE (a:Greeting) \"\n",
    "                    \"SET a.message = $message \"\n",
    "                    \"RETURN a.message + ', from node ' + id(a)\", message=message)\n",
    "    return result.single()[0]"
   ]
  },
  {
   "cell_type": "code",
   "execution_count": null,
   "metadata": {},
   "outputs": [],
   "source": [
    "def add_user(tx, username, password):\n",
    "    try:\n",
    "        result = tx.run(\"CALL dbms.security.createUser($username,$password, false)\", username=username, password=password)\n",
    "    except ClientError as e:\n",
    "        print(e)"
   ]
  },
  {
   "cell_type": "code",
   "execution_count": null,
   "metadata": {},
   "outputs": [],
   "source": [
    "def change_password(tx, password):\n",
    "    try:\n",
    "        result = tx.run(\"CALL dbms.security.changePassword($password)\", password=password)\n",
    "    except ClientError as e:\n",
    "        print(e)"
   ]
  },
  {
   "cell_type": "code",
   "execution_count": null,
   "metadata": {},
   "outputs": [],
   "source": [
    "#Neo4J connection test\n",
    "from neo4j import GraphDatabase\n",
    "from neo4j.exceptions import ClientError\n",
    "\n",
    "uri = \"bolt://localhost:7687\"\n",
    "our_username = \"ads\"\n",
    "our_password = \"ads\"\n",
    "message = \"Response\"\n",
    "default = \"neo4j\"\n",
    "\n",
    "# Logging with default user and password\n",
    "driver = connect(uri, default, default)\n",
    "# If we have already run this before, then the password is already changed\n",
    "if driver != -1:\n",
    "    ''' But if it is the first time we log as that default user, \n",
    "        we are forced to change the password '''\n",
    "    with driver.session() as session:\n",
    "        session.write_transaction(change_password, our_password) # e.g. our_password\n",
    "    # We should exit and connect again after changing the password\n",
    "    driver.close()\n",
    "\n",
    "driver = connect(uri, default, our_password)\n",
    "\n",
    "# Add the user that will be used for the rest of operations\n",
    "with driver.session() as session:\n",
    "    try: \n",
    "        session.write_transaction(add_user, our_username, our_password)\n",
    "    except ClientError as e:\n",
    "        print(e)\n",
    "driver.close()\n",
    "\n",
    "driver = connect(uri, our_username, our_password)\n",
    "with driver.session() as session:\n",
    "    greeting = session.write_transaction(create_and_return_greeting, message)\n",
    "    print(greeting) \n",
    "driver.close()"
   ]
  },
  {
   "cell_type": "code",
   "execution_count": 3,
   "metadata": {},
   "outputs": [
    {
     "name": "stdout",
     "output_type": "stream",
     "text": [
      "Collecting beautifulsoup4\n",
      "  Using cached https://files.pythonhosted.org/packages/1d/5d/3260694a59df0ec52f8b4883f5d23b130bc237602a1411fa670eae12351e/beautifulsoup4-4.7.1-py3-none-any.whl\n",
      "Collecting soupsieve>=1.2 (from beautifulsoup4)\n",
      "  Using cached https://files.pythonhosted.org/packages/b9/a5/7ea40d0f8676bde6e464a6435a48bc5db09b1a8f4f06d41dd997b8f3c616/soupsieve-1.9.1-py2.py3-none-any.whl\n",
      "Installing collected packages: soupsieve, beautifulsoup4\n",
      "Successfully installed beautifulsoup4-4.7.1 soupsieve-1.9.1\n",
      "\u001b[33mYou are using pip version 8.1.1, however version 19.1.1 is available.\n",
      "You should consider upgrading via the 'pip install --upgrade pip' command.\u001b[0m\n"
     ]
    }
   ],
   "source": [
    "#Get Requests\n",
    "!pip3 install beautifulsoup4"
   ]
  },
  {
   "cell_type": "code",
   "execution_count": 9,
   "metadata": {},
   "outputs": [
    {
     "data": {
      "text/plain": [
       "'utf-8'"
      ]
     },
     "execution_count": 9,
     "metadata": {},
     "output_type": "execute_result"
    }
   ],
   "source": [
    "#Simple get example\n",
    "import requests\n",
    "\n",
    "r = requests.get('https://www.agh.edu.pl/')\n",
    "r.status_code\n",
    "r.headers['content-type']\n",
    "r.encoding\n",
    "# r.text holds html file"
   ]
  },
  {
   "cell_type": "code",
   "execution_count": 21,
   "metadata": {},
   "outputs": [
    {
     "name": "stdout",
     "output_type": "stream",
     "text": [
      "1\n",
      "2\n",
      "3\n",
      "4\n",
      "5\n",
      "6\n",
      "7\n",
      "8\n",
      "9\n",
      "10\n",
      "[('https://www.agh.edu.pl/', ['https://www.agh.edu.pl/mapa-strony/', 'https://www.agh.edu.pl/en/', 'https://www.agh.edu.pl/kandydaci/', 'https://www.agh.edu.pl/studenci/', 'https://www.agh.edu.pl/doktoranci/', 'https://www.agh.edu.pl/pracownicy/', 'https://www.agh.edu.pl/absolwenci/', 'https://www.agh.edu.pl/info/article/dzien-agh-8-czerwca/', 'https://www.agh.edu.pl/info/article/casting-do-widowiska-teatralno-muzycznego-z-okazji-jubileuszu-100-lecia-agh/', 'https://www.agh.edu.pl/info/article/rozrywkowo-z-con-fuoco-1/', 'https://www.agh.edu.pl/info/article/komputer-jako-pomoc-dla-osob-piszacych-felieton/', 'https://www.agh.edu.pl/aktualnosci/', 'https://www.agh.edu.pl/osiagniecia/', 'https://www.agh.edu.pl/nauka/', 'https://www.agh.edu.pl/uczelnia/multimedia/', 'https://www.agh.edu.pl/wydarzenia/', 'https://www.agh.edu.pl/konferencje/', 'https://www.agh.edu.pl/wydarzenia/kultura/', 'https://www.agh.edu.pl/wydarzenia/info/article/61-wystawa-i-gielda-mineralow-skamienialosci-i-wyrobow-jubilerskich/', 'https://www.agh.edu.pl/wydarzenia/info/article/marsz-spolecznosci-akademickiej-krakowa-z-okazji-30-rocznicy-wyborow-1989-r/', 'https://www.agh.edu.pl/wydarzenia/info/article/pomagamy-absolwentce-agh-kiermasz-charytatywny/', 'https://www.agh.edu.pl/wydarzenia/info/article/drilling-oil-gas-agh-2019/', 'https://www.agh.edu.pl/uczelnia/', 'https://www.agh.edu.pl/uczelnia/wladze/', 'https://www.agh.edu.pl/wydzialy-i-podstawowe-jednostki-organizacyjne/', 'https://www.agh.edu.pl/uczelnia/agh-w-liczbach/', 'https://www.agh.edu.pl/badania-naukowe/', 'https://www.agh.edu.pl/wspolpraca/oferta-dla-biznesu/', 'https://www.agh.edu.pl/ksztalcenie/', 'https://www.agh.edu.pl/ksztalcenie/oferta-ksztalcenia/studia-podyplomowe-kursy-doksztalcajace-i-szkolenia/', 'https://www.agh.edu.pl/ksztalcenie/oferta-ksztalcenia/e-materialy/', 'https://www.agh.edu.pl/dla-mediow/', 'https://www.agh.edu.pl/uczelnia/multimedia/wydawnictwa/', 'https://www.agh.edu.pl/uczelnia/praca-w-agh/', 'https://www.agh.edu.pl/konstytucja-dla-nauki/', 'https://www.agh.edu.pl/osiagniecia/info/article/agh-mecenasem-kultury-krakowa/', 'https://www.agh.edu.pl/uczelnia/kontakt/', 'https://www.agh.edu.pl/polityka-obslugi-plikow-cookies/', 'https://www.agh.edu.pl/uczelnia/kontakt', 'https://www.agh.edu.pl/webmaster'], {'metadata': 'TODO'}), ('https://www.agh.edu.pl/webmaster', ['https://www.agh.edu.pl/mapa-strony/', 'https://www.agh.edu.pl/webmaster/', 'https://www.agh.edu.pl/en/webmaster/', 'https://www.agh.edu.pl/kandydaci/', 'https://www.agh.edu.pl/studenci/', 'https://www.agh.edu.pl/doktoranci/', 'https://www.agh.edu.pl/pracownicy/', 'https://www.agh.edu.pl/absolwenci/', 'https://www.agh.edu.pl/uczelnia/kontakt'], {'metadata': 'TODO'}), ('https://www.agh.edu.pl/uczelnia/kontakt', ['https://www.agh.edu.pl/mapa-strony/', 'https://www.agh.edu.pl/uczelnia/kontakt/', 'https://www.agh.edu.pl/en/university/contact/', 'https://www.agh.edu.pl/kandydaci/', 'https://www.agh.edu.pl/studenci/', 'https://www.agh.edu.pl/doktoranci/', 'https://www.agh.edu.pl/pracownicy/', 'https://www.agh.edu.pl/absolwenci/', 'https://www.agh.edu.pl/uczelnia/', 'https://www.agh.edu.pl/uczelnia/historia-i-tradycja/', 'https://www.agh.edu.pl/uczelnia/wladze/', 'https://www.agh.edu.pl/uczelnia/struktura/', 'https://www.agh.edu.pl/uczelnia/konwent/', 'https://www.agh.edu.pl/uczelnia/rada-seniorow/', 'https://www.agh.edu.pl/uczelnia/agh-w-liczbach/', 'https://www.agh.edu.pl/uczelnia/system-identyfikacji-wizualnej/', 'https://www.agh.edu.pl/uczelnia/infrastruktura/', 'https://www.agh.edu.pl/uczelnia/dokumenty/', 'https://www.agh.edu.pl/uczelnia/multimedia/', 'https://www.agh.edu.pl/uczelnia/kontakt/', 'https://www.agh.edu.pl/uczelnia/praca-w-agh/', 'https://www.agh.edu.pl/ksztalcenie/', 'https://www.agh.edu.pl/badania-naukowe/', 'https://www.agh.edu.pl/wspolpraca/', 'https://www.agh.edu.pl/uczelnia/', 'https://www.agh.edu.pl/uczelnia/kontakt/', 'https://www.agh.edu.pl/uczelnia/struktura/administracja-centralna/pion-ksztalcenia/dzial-nauczania/', 'https://www.agh.edu.pl/wydzialy-i-podstawowe-jednostki-organizacyjne/', 'https://www.agh.edu.pl/uczelnia/multimedia/promocja-w-mediach-agh/strona-internetowa/', 'https://www.agh.edu.pl/wydzialy-i-podstawowe-jednostki-organizacyjne/'], {'metadata': 'TODO'}), ('https://www.agh.edu.pl/wydzialy-i-podstawowe-jednostki-organizacyjne/', ['https://www.agh.edu.pl/mapa-strony/', 'https://www.agh.edu.pl/en/agh-ust-faculties/', 'https://www.agh.edu.pl/wydzialy-i-podstawowe-jednostki-organizacyjne/wydzial-gornictwa-i-geoinzynierii/', 'https://www.agh.edu.pl/wydzialy-i-podstawowe-jednostki-organizacyjne/wydzial-inzynierii-metali-iinformatyki-przemyslowej/', 'https://www.agh.edu.pl/wydzialy-i-podstawowe-jednostki-organizacyjne/wydzial-elektrotechniki-automatyki-informatyki-iinzynierii-biomedycznej/', 'https://www.agh.edu.pl/wydzialy-i-podstawowe-jednostki-organizacyjne/wydzial-informatyki-elektroniki-itelekomunikacji/', 'https://www.agh.edu.pl/wydzialy-i-podstawowe-jednostki-organizacyjne/wydzial-inzynierii-mechanicznej-irobotyki/', 'https://www.agh.edu.pl/wydzialy-i-podstawowe-jednostki-organizacyjne/wydzial-geologii-geofizyki-iochrony-srodowiska/', 'https://www.agh.edu.pl/wydzialy-i-podstawowe-jednostki-organizacyjne/wydzial-geodezji-gorniczej-iinzynierii-srodowiska/', 'https://www.agh.edu.pl/wydzialy-i-podstawowe-jednostki-organizacyjne/wydzial-inzynierii-materialowej-iceramiki/', 'https://www.agh.edu.pl/wydzialy-i-podstawowe-jednostki-organizacyjne/wydzial-odlewnictwa/', 'https://www.agh.edu.pl/wydzialy-i-podstawowe-jednostki-organizacyjne/wydzial-metali-niezelaznych/', 'https://www.agh.edu.pl/wydzialy-i-podstawowe-jednostki-organizacyjne/wydzial-wiertnictwa-nafty-i-gazu/', 'https://www.agh.edu.pl/wydzialy-i-podstawowe-jednostki-organizacyjne/wydzial-zarzadzania/', 'https://www.agh.edu.pl/wydzialy-i-podstawowe-jednostki-organizacyjne/wydzial-energetyki-i-paliw/', 'https://www.agh.edu.pl/wydzialy-i-podstawowe-jednostki-organizacyjne/wydzial-fizyki-i-informatyki-stosowanej/', 'https://www.agh.edu.pl/wydzialy-i-podstawowe-jednostki-organizacyjne/wydzial-matematyki-stosowanej/', 'https://www.agh.edu.pl/wydzialy-i-podstawowe-jednostki-organizacyjne/wydzial-humanistyczny/', 'https://www.agh.edu.pl/wydzialy-i-podstawowe-jednostki-organizacyjne/akademickie-centrum-materialow-i-nanotechnologii/', 'https://www.agh.edu.pl/wydzialy-i-podstawowe-jednostki-organizacyjne/wydzial-gornictwa-i-geoinzynierii/', 'https://www.agh.edu.pl/wydzialy-i-podstawowe-jednostki-organizacyjne/wydzial-gornictwa-i-geoinzynierii/', 'https://www.agh.edu.pl/wydzialy-i-podstawowe-jednostki-organizacyjne/wydzial-elektrotechniki-automatyki-informatyki-iinzynierii-biomedycznej/', 'https://www.agh.edu.pl/wydzialy-i-podstawowe-jednostki-organizacyjne/wydzial-elektrotechniki-automatyki-informatyki-iinzynierii-biomedycznej/', 'https://www.agh.edu.pl/wydzialy-i-podstawowe-jednostki-organizacyjne/wydzial-inzynierii-mechanicznej-irobotyki/', 'https://www.agh.edu.pl/wydzialy-i-podstawowe-jednostki-organizacyjne/wydzial-inzynierii-mechanicznej-irobotyki/', 'https://www.agh.edu.pl/wydzialy-i-podstawowe-jednostki-organizacyjne/wydzial-geodezji-gorniczej-iinzynierii-srodowiska/', 'https://www.agh.edu.pl/wydzialy-i-podstawowe-jednostki-organizacyjne/wydzial-geodezji-gorniczej-iinzynierii-srodowiska/', 'https://www.agh.edu.pl/wydzialy-i-podstawowe-jednostki-organizacyjne/wydzial-odlewnictwa/', 'https://www.agh.edu.pl/wydzialy-i-podstawowe-jednostki-organizacyjne/wydzial-odlewnictwa/', 'https://www.agh.edu.pl/wydzialy-i-podstawowe-jednostki-organizacyjne/wydzial-wiertnictwa-nafty-i-gazu/', 'https://www.agh.edu.pl/wydzialy-i-podstawowe-jednostki-organizacyjne/wydzial-wiertnictwa-nafty-i-gazu/', 'https://www.agh.edu.pl/wydzialy-i-podstawowe-jednostki-organizacyjne/wydzial-energetyki-i-paliw/', 'https://www.agh.edu.pl/wydzialy-i-podstawowe-jednostki-organizacyjne/wydzial-matematyki-stosowanej/', 'https://www.agh.edu.pl/wydzialy-i-podstawowe-jednostki-organizacyjne/wydzial-matematyki-stosowanej/', 'https://www.agh.edu.pl/wydzialy-i-podstawowe-jednostki-organizacyjne/wydzial-inzynierii-metali-iinformatyki-przemyslowej/', 'https://www.agh.edu.pl/wydzialy-i-podstawowe-jednostki-organizacyjne/wydzial-inzynierii-metali-iinformatyki-przemyslowej/', 'https://www.agh.edu.pl/wydzialy-i-podstawowe-jednostki-organizacyjne/wydzial-informatyki-elektroniki-itelekomunikacji/', 'https://www.agh.edu.pl/wydzialy-i-podstawowe-jednostki-organizacyjne/wydzial-informatyki-elektroniki-itelekomunikacji/', 'https://www.agh.edu.pl/wydzialy-i-podstawowe-jednostki-organizacyjne/wydzial-geologii-geofizyki-iochrony-srodowiska/', 'https://www.agh.edu.pl/wydzialy-i-podstawowe-jednostki-organizacyjne/wydzial-geologii-geofizyki-iochrony-srodowiska/', 'https://www.agh.edu.pl/wydzialy-i-podstawowe-jednostki-organizacyjne/wydzial-inzynierii-materialowej-iceramiki/', 'https://www.agh.edu.pl/wydzialy-i-podstawowe-jednostki-organizacyjne/wydzial-inzynierii-materialowej-iceramiki/', 'https://www.agh.edu.pl/wydzialy-i-podstawowe-jednostki-organizacyjne/wydzial-metali-niezelaznych/', 'https://www.agh.edu.pl/wydzialy-i-podstawowe-jednostki-organizacyjne/wydzial-metali-niezelaznych/', 'https://www.agh.edu.pl/wydzialy-i-podstawowe-jednostki-organizacyjne/wydzial-zarzadzania/', 'https://www.agh.edu.pl/wydzialy-i-podstawowe-jednostki-organizacyjne/wydzial-zarzadzania/', 'https://www.agh.edu.pl/wydzialy-i-podstawowe-jednostki-organizacyjne/wydzial-fizyki-i-informatyki-stosowanej/', 'https://www.agh.edu.pl/wydzialy-i-podstawowe-jednostki-organizacyjne/wydzial-fizyki-i-informatyki-stosowanej/', 'https://www.agh.edu.pl/wydzialy-i-podstawowe-jednostki-organizacyjne/wydzial-humanistyczny/', 'https://www.agh.edu.pl/wydzialy-i-podstawowe-jednostki-organizacyjne/wydzial-humanistyczny/', 'https://www.agh.edu.pl/wydzialy-i-podstawowe-jednostki-organizacyjne/akademickie-centrum-materialow-i-nanotechnologii/', 'https://www.agh.edu.pl/wydzialy-i-podstawowe-jednostki-organizacyjne/akademickie-centrum-materialow-i-nanotechnologii/'], {'metadata': 'TODO'}), ('https://www.agh.edu.pl/wydzialy-i-podstawowe-jednostki-organizacyjne/akademickie-centrum-materialow-i-nanotechnologii/', ['https://www.agh.edu.pl/mapa-strony/', 'https://www.agh.edu.pl/en/agh-ust-faculties/academic-centre-for-materials-and-nanotechnology/', 'https://www.agh.edu.pl/wydzialy-i-podstawowe-jednostki-organizacyjne/wydzial-gornictwa-i-geoinzynierii/', 'https://www.agh.edu.pl/wydzialy-i-podstawowe-jednostki-organizacyjne/wydzial-inzynierii-metali-iinformatyki-przemyslowej/', 'https://www.agh.edu.pl/wydzialy-i-podstawowe-jednostki-organizacyjne/wydzial-elektrotechniki-automatyki-informatyki-iinzynierii-biomedycznej/', 'https://www.agh.edu.pl/wydzialy-i-podstawowe-jednostki-organizacyjne/wydzial-informatyki-elektroniki-itelekomunikacji/', 'https://www.agh.edu.pl/wydzialy-i-podstawowe-jednostki-organizacyjne/wydzial-inzynierii-mechanicznej-irobotyki/', 'https://www.agh.edu.pl/wydzialy-i-podstawowe-jednostki-organizacyjne/wydzial-geologii-geofizyki-iochrony-srodowiska/', 'https://www.agh.edu.pl/wydzialy-i-podstawowe-jednostki-organizacyjne/wydzial-geodezji-gorniczej-iinzynierii-srodowiska/', 'https://www.agh.edu.pl/wydzialy-i-podstawowe-jednostki-organizacyjne/wydzial-inzynierii-materialowej-iceramiki/', 'https://www.agh.edu.pl/wydzialy-i-podstawowe-jednostki-organizacyjne/wydzial-odlewnictwa/', 'https://www.agh.edu.pl/wydzialy-i-podstawowe-jednostki-organizacyjne/wydzial-metali-niezelaznych/', 'https://www.agh.edu.pl/wydzialy-i-podstawowe-jednostki-organizacyjne/wydzial-wiertnictwa-nafty-i-gazu/', 'https://www.agh.edu.pl/wydzialy-i-podstawowe-jednostki-organizacyjne/wydzial-zarzadzania/', 'https://www.agh.edu.pl/wydzialy-i-podstawowe-jednostki-organizacyjne/wydzial-energetyki-i-paliw/', 'https://www.agh.edu.pl/wydzialy-i-podstawowe-jednostki-organizacyjne/wydzial-fizyki-i-informatyki-stosowanej/', 'https://www.agh.edu.pl/wydzialy-i-podstawowe-jednostki-organizacyjne/wydzial-matematyki-stosowanej/', 'https://www.agh.edu.pl/wydzialy-i-podstawowe-jednostki-organizacyjne/wydzial-humanistyczny/'], {'metadata': 'TODO'}), ('https://www.agh.edu.pl/wydzialy-i-podstawowe-jednostki-organizacyjne/wydzial-humanistyczny/', ['https://www.agh.edu.pl/mapa-strony/', 'https://www.agh.edu.pl/en/agh-ust-faculties/faculty-of-humanities/', 'https://www.agh.edu.pl/wydzialy-i-podstawowe-jednostki-organizacyjne/wydzial-gornictwa-i-geoinzynierii/', 'https://www.agh.edu.pl/wydzialy-i-podstawowe-jednostki-organizacyjne/wydzial-inzynierii-metali-iinformatyki-przemyslowej/', 'https://www.agh.edu.pl/wydzialy-i-podstawowe-jednostki-organizacyjne/wydzial-elektrotechniki-automatyki-informatyki-iinzynierii-biomedycznej/', 'https://www.agh.edu.pl/wydzialy-i-podstawowe-jednostki-organizacyjne/wydzial-informatyki-elektroniki-itelekomunikacji/', 'https://www.agh.edu.pl/wydzialy-i-podstawowe-jednostki-organizacyjne/wydzial-inzynierii-mechanicznej-irobotyki/', 'https://www.agh.edu.pl/wydzialy-i-podstawowe-jednostki-organizacyjne/wydzial-geologii-geofizyki-iochrony-srodowiska/', 'https://www.agh.edu.pl/wydzialy-i-podstawowe-jednostki-organizacyjne/wydzial-geodezji-gorniczej-iinzynierii-srodowiska/', 'https://www.agh.edu.pl/wydzialy-i-podstawowe-jednostki-organizacyjne/wydzial-inzynierii-materialowej-iceramiki/', 'https://www.agh.edu.pl/wydzialy-i-podstawowe-jednostki-organizacyjne/wydzial-odlewnictwa/', 'https://www.agh.edu.pl/wydzialy-i-podstawowe-jednostki-organizacyjne/wydzial-metali-niezelaznych/', 'https://www.agh.edu.pl/wydzialy-i-podstawowe-jednostki-organizacyjne/wydzial-wiertnictwa-nafty-i-gazu/', 'https://www.agh.edu.pl/wydzialy-i-podstawowe-jednostki-organizacyjne/wydzial-zarzadzania/', 'https://www.agh.edu.pl/wydzialy-i-podstawowe-jednostki-organizacyjne/wydzial-energetyki-i-paliw/', 'https://www.agh.edu.pl/wydzialy-i-podstawowe-jednostki-organizacyjne/wydzial-fizyki-i-informatyki-stosowanej/', 'https://www.agh.edu.pl/wydzialy-i-podstawowe-jednostki-organizacyjne/wydzial-matematyki-stosowanej/'], {'metadata': 'TODO'}), ('https://www.agh.edu.pl/wydzialy-i-podstawowe-jednostki-organizacyjne/wydzial-matematyki-stosowanej/', ['https://www.agh.edu.pl/mapa-strony/', 'https://www.agh.edu.pl/en/agh-ust-faculties/faculty-of-applied-mathematics/', 'https://www.agh.edu.pl/wydzialy-i-podstawowe-jednostki-organizacyjne/wydzial-gornictwa-i-geoinzynierii/', 'https://www.agh.edu.pl/wydzialy-i-podstawowe-jednostki-organizacyjne/wydzial-inzynierii-metali-iinformatyki-przemyslowej/', 'https://www.agh.edu.pl/wydzialy-i-podstawowe-jednostki-organizacyjne/wydzial-elektrotechniki-automatyki-informatyki-iinzynierii-biomedycznej/', 'https://www.agh.edu.pl/wydzialy-i-podstawowe-jednostki-organizacyjne/wydzial-informatyki-elektroniki-itelekomunikacji/', 'https://www.agh.edu.pl/wydzialy-i-podstawowe-jednostki-organizacyjne/wydzial-inzynierii-mechanicznej-irobotyki/', 'https://www.agh.edu.pl/wydzialy-i-podstawowe-jednostki-organizacyjne/wydzial-geologii-geofizyki-iochrony-srodowiska/', 'https://www.agh.edu.pl/wydzialy-i-podstawowe-jednostki-organizacyjne/wydzial-geodezji-gorniczej-iinzynierii-srodowiska/', 'https://www.agh.edu.pl/wydzialy-i-podstawowe-jednostki-organizacyjne/wydzial-inzynierii-materialowej-iceramiki/', 'https://www.agh.edu.pl/wydzialy-i-podstawowe-jednostki-organizacyjne/wydzial-odlewnictwa/', 'https://www.agh.edu.pl/wydzialy-i-podstawowe-jednostki-organizacyjne/wydzial-metali-niezelaznych/', 'https://www.agh.edu.pl/wydzialy-i-podstawowe-jednostki-organizacyjne/wydzial-wiertnictwa-nafty-i-gazu/', 'https://www.agh.edu.pl/wydzialy-i-podstawowe-jednostki-organizacyjne/wydzial-zarzadzania/', 'https://www.agh.edu.pl/wydzialy-i-podstawowe-jednostki-organizacyjne/wydzial-energetyki-i-paliw/', 'https://www.agh.edu.pl/wydzialy-i-podstawowe-jednostki-organizacyjne/wydzial-fizyki-i-informatyki-stosowanej/'], {'metadata': 'TODO'}), ('https://www.agh.edu.pl/wydzialy-i-podstawowe-jednostki-organizacyjne/wydzial-fizyki-i-informatyki-stosowanej/', ['https://www.agh.edu.pl/mapa-strony/', 'https://www.agh.edu.pl/en/agh-ust-faculties/faculty-of-physics-and-applied-computer-science/', 'https://www.agh.edu.pl/wydzialy-i-podstawowe-jednostki-organizacyjne/wydzial-gornictwa-i-geoinzynierii/', 'https://www.agh.edu.pl/wydzialy-i-podstawowe-jednostki-organizacyjne/wydzial-inzynierii-metali-iinformatyki-przemyslowej/', 'https://www.agh.edu.pl/wydzialy-i-podstawowe-jednostki-organizacyjne/wydzial-elektrotechniki-automatyki-informatyki-iinzynierii-biomedycznej/', 'https://www.agh.edu.pl/wydzialy-i-podstawowe-jednostki-organizacyjne/wydzial-informatyki-elektroniki-itelekomunikacji/', 'https://www.agh.edu.pl/wydzialy-i-podstawowe-jednostki-organizacyjne/wydzial-inzynierii-mechanicznej-irobotyki/', 'https://www.agh.edu.pl/wydzialy-i-podstawowe-jednostki-organizacyjne/wydzial-geologii-geofizyki-iochrony-srodowiska/', 'https://www.agh.edu.pl/wydzialy-i-podstawowe-jednostki-organizacyjne/wydzial-geodezji-gorniczej-iinzynierii-srodowiska/', 'https://www.agh.edu.pl/wydzialy-i-podstawowe-jednostki-organizacyjne/wydzial-inzynierii-materialowej-iceramiki/', 'https://www.agh.edu.pl/wydzialy-i-podstawowe-jednostki-organizacyjne/wydzial-odlewnictwa/', 'https://www.agh.edu.pl/wydzialy-i-podstawowe-jednostki-organizacyjne/wydzial-metali-niezelaznych/', 'https://www.agh.edu.pl/wydzialy-i-podstawowe-jednostki-organizacyjne/wydzial-wiertnictwa-nafty-i-gazu/', 'https://www.agh.edu.pl/wydzialy-i-podstawowe-jednostki-organizacyjne/wydzial-zarzadzania/', 'https://www.agh.edu.pl/wydzialy-i-podstawowe-jednostki-organizacyjne/wydzial-energetyki-i-paliw/'], {'metadata': 'TODO'}), ('https://www.agh.edu.pl/wydzialy-i-podstawowe-jednostki-organizacyjne/wydzial-energetyki-i-paliw/', ['https://www.agh.edu.pl/mapa-strony/', 'https://www.agh.edu.pl/en/agh-ust-faculties/faculty-of-energy-and-fuels/', 'https://www.agh.edu.pl/wydzialy-i-podstawowe-jednostki-organizacyjne/wydzial-gornictwa-i-geoinzynierii/', 'https://www.agh.edu.pl/wydzialy-i-podstawowe-jednostki-organizacyjne/wydzial-inzynierii-metali-iinformatyki-przemyslowej/', 'https://www.agh.edu.pl/wydzialy-i-podstawowe-jednostki-organizacyjne/wydzial-elektrotechniki-automatyki-informatyki-iinzynierii-biomedycznej/', 'https://www.agh.edu.pl/wydzialy-i-podstawowe-jednostki-organizacyjne/wydzial-informatyki-elektroniki-itelekomunikacji/', 'https://www.agh.edu.pl/wydzialy-i-podstawowe-jednostki-organizacyjne/wydzial-inzynierii-mechanicznej-irobotyki/', 'https://www.agh.edu.pl/wydzialy-i-podstawowe-jednostki-organizacyjne/wydzial-geologii-geofizyki-iochrony-srodowiska/', 'https://www.agh.edu.pl/wydzialy-i-podstawowe-jednostki-organizacyjne/wydzial-geodezji-gorniczej-iinzynierii-srodowiska/', 'https://www.agh.edu.pl/wydzialy-i-podstawowe-jednostki-organizacyjne/wydzial-inzynierii-materialowej-iceramiki/', 'https://www.agh.edu.pl/wydzialy-i-podstawowe-jednostki-organizacyjne/wydzial-odlewnictwa/', 'https://www.agh.edu.pl/wydzialy-i-podstawowe-jednostki-organizacyjne/wydzial-metali-niezelaznych/', 'https://www.agh.edu.pl/wydzialy-i-podstawowe-jednostki-organizacyjne/wydzial-wiertnictwa-nafty-i-gazu/', 'https://www.agh.edu.pl/wydzialy-i-podstawowe-jednostki-organizacyjne/wydzial-zarzadzania/'], {'metadata': 'TODO'}), ('https://www.agh.edu.pl/wydzialy-i-podstawowe-jednostki-organizacyjne/wydzial-zarzadzania/', ['https://www.agh.edu.pl/mapa-strony/', 'https://www.agh.edu.pl/en/agh-ust-faculties/faculty-of-management/', 'https://www.agh.edu.pl/wydzialy-i-podstawowe-jednostki-organizacyjne/wydzial-gornictwa-i-geoinzynierii/', 'https://www.agh.edu.pl/wydzialy-i-podstawowe-jednostki-organizacyjne/wydzial-inzynierii-metali-iinformatyki-przemyslowej/', 'https://www.agh.edu.pl/wydzialy-i-podstawowe-jednostki-organizacyjne/wydzial-elektrotechniki-automatyki-informatyki-iinzynierii-biomedycznej/', 'https://www.agh.edu.pl/wydzialy-i-podstawowe-jednostki-organizacyjne/wydzial-informatyki-elektroniki-itelekomunikacji/', 'https://www.agh.edu.pl/wydzialy-i-podstawowe-jednostki-organizacyjne/wydzial-inzynierii-mechanicznej-irobotyki/', 'https://www.agh.edu.pl/wydzialy-i-podstawowe-jednostki-organizacyjne/wydzial-geologii-geofizyki-iochrony-srodowiska/', 'https://www.agh.edu.pl/wydzialy-i-podstawowe-jednostki-organizacyjne/wydzial-geodezji-gorniczej-iinzynierii-srodowiska/', 'https://www.agh.edu.pl/wydzialy-i-podstawowe-jednostki-organizacyjne/wydzial-inzynierii-materialowej-iceramiki/', 'https://www.agh.edu.pl/wydzialy-i-podstawowe-jednostki-organizacyjne/wydzial-odlewnictwa/', 'https://www.agh.edu.pl/wydzialy-i-podstawowe-jednostki-organizacyjne/wydzial-metali-niezelaznych/', 'https://www.agh.edu.pl/wydzialy-i-podstawowe-jednostki-organizacyjne/wydzial-wiertnictwa-nafty-i-gazu/'], {'metadata': 'TODO'})]\n",
      "{'https://www.agh.edu.pl/wydzialy-i-podstawowe-jednostki-organizacyjne/wydzial-fizyki-i-informatyki-stosowanej/', 'https://www.agh.edu.pl/wydzialy-i-podstawowe-jednostki-organizacyjne/wydzial-energetyki-i-paliw/', 'https://www.agh.edu.pl/wydzialy-i-podstawowe-jednostki-organizacyjne/akademickie-centrum-materialow-i-nanotechnologii/', 'https://www.agh.edu.pl/wydzialy-i-podstawowe-jednostki-organizacyjne/wydzial-humanistyczny/', 'https://www.agh.edu.pl/wydzialy-i-podstawowe-jednostki-organizacyjne/wydzial-matematyki-stosowanej/', 'https://www.agh.edu.pl/wydzialy-i-podstawowe-jednostki-organizacyjne/', 'https://www.agh.edu.pl/webmaster', 'https://www.agh.edu.pl/wydzialy-i-podstawowe-jednostki-organizacyjne/wydzial-zarzadzania/', 'https://www.agh.edu.pl/', 'https://www.agh.edu.pl/uczelnia/kontakt'}\n",
      "['https://www.agh.edu.pl/mapa-strony/', 'https://www.agh.edu.pl/en/', 'https://www.agh.edu.pl/kandydaci/', 'https://www.agh.edu.pl/studenci/', 'https://www.agh.edu.pl/doktoranci/', 'https://www.agh.edu.pl/pracownicy/', 'https://www.agh.edu.pl/absolwenci/', 'https://www.agh.edu.pl/info/article/dzien-agh-8-czerwca/', 'https://www.agh.edu.pl/info/article/casting-do-widowiska-teatralno-muzycznego-z-okazji-jubileuszu-100-lecia-agh/', 'https://www.agh.edu.pl/info/article/rozrywkowo-z-con-fuoco-1/', 'https://www.agh.edu.pl/info/article/komputer-jako-pomoc-dla-osob-piszacych-felieton/', 'https://www.agh.edu.pl/aktualnosci/', 'https://www.agh.edu.pl/osiagniecia/', 'https://www.agh.edu.pl/nauka/', 'https://www.agh.edu.pl/uczelnia/multimedia/', 'https://www.agh.edu.pl/wydarzenia/', 'https://www.agh.edu.pl/konferencje/', 'https://www.agh.edu.pl/wydarzenia/kultura/', 'https://www.agh.edu.pl/wydarzenia/info/article/61-wystawa-i-gielda-mineralow-skamienialosci-i-wyrobow-jubilerskich/', 'https://www.agh.edu.pl/wydarzenia/info/article/marsz-spolecznosci-akademickiej-krakowa-z-okazji-30-rocznicy-wyborow-1989-r/', 'https://www.agh.edu.pl/wydarzenia/info/article/pomagamy-absolwentce-agh-kiermasz-charytatywny/', 'https://www.agh.edu.pl/wydarzenia/info/article/drilling-oil-gas-agh-2019/', 'https://www.agh.edu.pl/uczelnia/', 'https://www.agh.edu.pl/uczelnia/wladze/', 'https://www.agh.edu.pl/wydzialy-i-podstawowe-jednostki-organizacyjne/', 'https://www.agh.edu.pl/uczelnia/agh-w-liczbach/', 'https://www.agh.edu.pl/badania-naukowe/', 'https://www.agh.edu.pl/wspolpraca/oferta-dla-biznesu/', 'https://www.agh.edu.pl/ksztalcenie/', 'https://www.agh.edu.pl/ksztalcenie/oferta-ksztalcenia/studia-podyplomowe-kursy-doksztalcajace-i-szkolenia/', 'https://www.agh.edu.pl/ksztalcenie/oferta-ksztalcenia/e-materialy/', 'https://www.agh.edu.pl/dla-mediow/', 'https://www.agh.edu.pl/uczelnia/multimedia/wydawnictwa/', 'https://www.agh.edu.pl/uczelnia/praca-w-agh/', 'https://www.agh.edu.pl/konstytucja-dla-nauki/', 'https://www.agh.edu.pl/osiagniecia/info/article/agh-mecenasem-kultury-krakowa/', 'https://www.agh.edu.pl/uczelnia/kontakt/', 'https://www.agh.edu.pl/polityka-obslugi-plikow-cookies/', 'https://www.agh.edu.pl/uczelnia/kontakt', 'https://www.agh.edu.pl/mapa-strony/', 'https://www.agh.edu.pl/webmaster/', 'https://www.agh.edu.pl/en/webmaster/', 'https://www.agh.edu.pl/kandydaci/', 'https://www.agh.edu.pl/studenci/', 'https://www.agh.edu.pl/doktoranci/', 'https://www.agh.edu.pl/pracownicy/', 'https://www.agh.edu.pl/absolwenci/', 'https://www.agh.edu.pl/mapa-strony/', 'https://www.agh.edu.pl/uczelnia/kontakt/', 'https://www.agh.edu.pl/en/university/contact/', 'https://www.agh.edu.pl/kandydaci/', 'https://www.agh.edu.pl/studenci/', 'https://www.agh.edu.pl/doktoranci/', 'https://www.agh.edu.pl/pracownicy/', 'https://www.agh.edu.pl/absolwenci/', 'https://www.agh.edu.pl/uczelnia/', 'https://www.agh.edu.pl/uczelnia/historia-i-tradycja/', 'https://www.agh.edu.pl/uczelnia/wladze/', 'https://www.agh.edu.pl/uczelnia/struktura/', 'https://www.agh.edu.pl/uczelnia/konwent/', 'https://www.agh.edu.pl/uczelnia/rada-seniorow/', 'https://www.agh.edu.pl/uczelnia/agh-w-liczbach/', 'https://www.agh.edu.pl/uczelnia/system-identyfikacji-wizualnej/', 'https://www.agh.edu.pl/uczelnia/infrastruktura/', 'https://www.agh.edu.pl/uczelnia/dokumenty/', 'https://www.agh.edu.pl/uczelnia/multimedia/', 'https://www.agh.edu.pl/uczelnia/kontakt/', 'https://www.agh.edu.pl/uczelnia/praca-w-agh/', 'https://www.agh.edu.pl/ksztalcenie/', 'https://www.agh.edu.pl/badania-naukowe/', 'https://www.agh.edu.pl/wspolpraca/', 'https://www.agh.edu.pl/uczelnia/', 'https://www.agh.edu.pl/uczelnia/kontakt/', 'https://www.agh.edu.pl/uczelnia/struktura/administracja-centralna/pion-ksztalcenia/dzial-nauczania/', 'https://www.agh.edu.pl/wydzialy-i-podstawowe-jednostki-organizacyjne/', 'https://www.agh.edu.pl/uczelnia/multimedia/promocja-w-mediach-agh/strona-internetowa/', 'https://www.agh.edu.pl/mapa-strony/', 'https://www.agh.edu.pl/en/agh-ust-faculties/', 'https://www.agh.edu.pl/wydzialy-i-podstawowe-jednostki-organizacyjne/wydzial-gornictwa-i-geoinzynierii/', 'https://www.agh.edu.pl/wydzialy-i-podstawowe-jednostki-organizacyjne/wydzial-inzynierii-metali-iinformatyki-przemyslowej/', 'https://www.agh.edu.pl/wydzialy-i-podstawowe-jednostki-organizacyjne/wydzial-elektrotechniki-automatyki-informatyki-iinzynierii-biomedycznej/', 'https://www.agh.edu.pl/wydzialy-i-podstawowe-jednostki-organizacyjne/wydzial-informatyki-elektroniki-itelekomunikacji/', 'https://www.agh.edu.pl/wydzialy-i-podstawowe-jednostki-organizacyjne/wydzial-inzynierii-mechanicznej-irobotyki/', 'https://www.agh.edu.pl/wydzialy-i-podstawowe-jednostki-organizacyjne/wydzial-geologii-geofizyki-iochrony-srodowiska/', 'https://www.agh.edu.pl/wydzialy-i-podstawowe-jednostki-organizacyjne/wydzial-geodezji-gorniczej-iinzynierii-srodowiska/', 'https://www.agh.edu.pl/wydzialy-i-podstawowe-jednostki-organizacyjne/wydzial-inzynierii-materialowej-iceramiki/', 'https://www.agh.edu.pl/wydzialy-i-podstawowe-jednostki-organizacyjne/wydzial-odlewnictwa/', 'https://www.agh.edu.pl/wydzialy-i-podstawowe-jednostki-organizacyjne/wydzial-metali-niezelaznych/', 'https://www.agh.edu.pl/wydzialy-i-podstawowe-jednostki-organizacyjne/wydzial-wiertnictwa-nafty-i-gazu/', 'https://www.agh.edu.pl/wydzialy-i-podstawowe-jednostki-organizacyjne/wydzial-zarzadzania/', 'https://www.agh.edu.pl/wydzialy-i-podstawowe-jednostki-organizacyjne/wydzial-energetyki-i-paliw/', 'https://www.agh.edu.pl/wydzialy-i-podstawowe-jednostki-organizacyjne/wydzial-fizyki-i-informatyki-stosowanej/', 'https://www.agh.edu.pl/wydzialy-i-podstawowe-jednostki-organizacyjne/wydzial-matematyki-stosowanej/', 'https://www.agh.edu.pl/wydzialy-i-podstawowe-jednostki-organizacyjne/wydzial-humanistyczny/', 'https://www.agh.edu.pl/wydzialy-i-podstawowe-jednostki-organizacyjne/akademickie-centrum-materialow-i-nanotechnologii/', 'https://www.agh.edu.pl/wydzialy-i-podstawowe-jednostki-organizacyjne/wydzial-gornictwa-i-geoinzynierii/', 'https://www.agh.edu.pl/wydzialy-i-podstawowe-jednostki-organizacyjne/wydzial-gornictwa-i-geoinzynierii/', 'https://www.agh.edu.pl/wydzialy-i-podstawowe-jednostki-organizacyjne/wydzial-elektrotechniki-automatyki-informatyki-iinzynierii-biomedycznej/', 'https://www.agh.edu.pl/wydzialy-i-podstawowe-jednostki-organizacyjne/wydzial-elektrotechniki-automatyki-informatyki-iinzynierii-biomedycznej/', 'https://www.agh.edu.pl/wydzialy-i-podstawowe-jednostki-organizacyjne/wydzial-inzynierii-mechanicznej-irobotyki/', 'https://www.agh.edu.pl/wydzialy-i-podstawowe-jednostki-organizacyjne/wydzial-inzynierii-mechanicznej-irobotyki/', 'https://www.agh.edu.pl/wydzialy-i-podstawowe-jednostki-organizacyjne/wydzial-geodezji-gorniczej-iinzynierii-srodowiska/', 'https://www.agh.edu.pl/wydzialy-i-podstawowe-jednostki-organizacyjne/wydzial-geodezji-gorniczej-iinzynierii-srodowiska/', 'https://www.agh.edu.pl/wydzialy-i-podstawowe-jednostki-organizacyjne/wydzial-odlewnictwa/', 'https://www.agh.edu.pl/wydzialy-i-podstawowe-jednostki-organizacyjne/wydzial-odlewnictwa/', 'https://www.agh.edu.pl/wydzialy-i-podstawowe-jednostki-organizacyjne/wydzial-wiertnictwa-nafty-i-gazu/', 'https://www.agh.edu.pl/wydzialy-i-podstawowe-jednostki-organizacyjne/wydzial-wiertnictwa-nafty-i-gazu/', 'https://www.agh.edu.pl/wydzialy-i-podstawowe-jednostki-organizacyjne/wydzial-energetyki-i-paliw/', 'https://www.agh.edu.pl/wydzialy-i-podstawowe-jednostki-organizacyjne/wydzial-matematyki-stosowanej/', 'https://www.agh.edu.pl/wydzialy-i-podstawowe-jednostki-organizacyjne/wydzial-matematyki-stosowanej/', 'https://www.agh.edu.pl/wydzialy-i-podstawowe-jednostki-organizacyjne/wydzial-inzynierii-metali-iinformatyki-przemyslowej/', 'https://www.agh.edu.pl/wydzialy-i-podstawowe-jednostki-organizacyjne/wydzial-inzynierii-metali-iinformatyki-przemyslowej/', 'https://www.agh.edu.pl/wydzialy-i-podstawowe-jednostki-organizacyjne/wydzial-informatyki-elektroniki-itelekomunikacji/', 'https://www.agh.edu.pl/wydzialy-i-podstawowe-jednostki-organizacyjne/wydzial-informatyki-elektroniki-itelekomunikacji/', 'https://www.agh.edu.pl/wydzialy-i-podstawowe-jednostki-organizacyjne/wydzial-geologii-geofizyki-iochrony-srodowiska/', 'https://www.agh.edu.pl/wydzialy-i-podstawowe-jednostki-organizacyjne/wydzial-geologii-geofizyki-iochrony-srodowiska/', 'https://www.agh.edu.pl/wydzialy-i-podstawowe-jednostki-organizacyjne/wydzial-inzynierii-materialowej-iceramiki/', 'https://www.agh.edu.pl/wydzialy-i-podstawowe-jednostki-organizacyjne/wydzial-inzynierii-materialowej-iceramiki/', 'https://www.agh.edu.pl/wydzialy-i-podstawowe-jednostki-organizacyjne/wydzial-metali-niezelaznych/', 'https://www.agh.edu.pl/wydzialy-i-podstawowe-jednostki-organizacyjne/wydzial-metali-niezelaznych/', 'https://www.agh.edu.pl/wydzialy-i-podstawowe-jednostki-organizacyjne/wydzial-zarzadzania/', 'https://www.agh.edu.pl/wydzialy-i-podstawowe-jednostki-organizacyjne/wydzial-zarzadzania/', 'https://www.agh.edu.pl/wydzialy-i-podstawowe-jednostki-organizacyjne/wydzial-fizyki-i-informatyki-stosowanej/', 'https://www.agh.edu.pl/wydzialy-i-podstawowe-jednostki-organizacyjne/wydzial-fizyki-i-informatyki-stosowanej/', 'https://www.agh.edu.pl/wydzialy-i-podstawowe-jednostki-organizacyjne/wydzial-humanistyczny/', 'https://www.agh.edu.pl/wydzialy-i-podstawowe-jednostki-organizacyjne/wydzial-humanistyczny/', 'https://www.agh.edu.pl/wydzialy-i-podstawowe-jednostki-organizacyjne/akademickie-centrum-materialow-i-nanotechnologii/', 'https://www.agh.edu.pl/mapa-strony/', 'https://www.agh.edu.pl/en/agh-ust-faculties/academic-centre-for-materials-and-nanotechnology/', 'https://www.agh.edu.pl/wydzialy-i-podstawowe-jednostki-organizacyjne/wydzial-gornictwa-i-geoinzynierii/', 'https://www.agh.edu.pl/wydzialy-i-podstawowe-jednostki-organizacyjne/wydzial-inzynierii-metali-iinformatyki-przemyslowej/', 'https://www.agh.edu.pl/wydzialy-i-podstawowe-jednostki-organizacyjne/wydzial-elektrotechniki-automatyki-informatyki-iinzynierii-biomedycznej/', 'https://www.agh.edu.pl/wydzialy-i-podstawowe-jednostki-organizacyjne/wydzial-informatyki-elektroniki-itelekomunikacji/', 'https://www.agh.edu.pl/wydzialy-i-podstawowe-jednostki-organizacyjne/wydzial-inzynierii-mechanicznej-irobotyki/', 'https://www.agh.edu.pl/wydzialy-i-podstawowe-jednostki-organizacyjne/wydzial-geologii-geofizyki-iochrony-srodowiska/', 'https://www.agh.edu.pl/wydzialy-i-podstawowe-jednostki-organizacyjne/wydzial-geodezji-gorniczej-iinzynierii-srodowiska/', 'https://www.agh.edu.pl/wydzialy-i-podstawowe-jednostki-organizacyjne/wydzial-inzynierii-materialowej-iceramiki/', 'https://www.agh.edu.pl/wydzialy-i-podstawowe-jednostki-organizacyjne/wydzial-odlewnictwa/', 'https://www.agh.edu.pl/wydzialy-i-podstawowe-jednostki-organizacyjne/wydzial-metali-niezelaznych/', 'https://www.agh.edu.pl/wydzialy-i-podstawowe-jednostki-organizacyjne/wydzial-wiertnictwa-nafty-i-gazu/', 'https://www.agh.edu.pl/wydzialy-i-podstawowe-jednostki-organizacyjne/wydzial-zarzadzania/', 'https://www.agh.edu.pl/wydzialy-i-podstawowe-jednostki-organizacyjne/wydzial-energetyki-i-paliw/', 'https://www.agh.edu.pl/wydzialy-i-podstawowe-jednostki-organizacyjne/wydzial-fizyki-i-informatyki-stosowanej/', 'https://www.agh.edu.pl/wydzialy-i-podstawowe-jednostki-organizacyjne/wydzial-matematyki-stosowanej/', 'https://www.agh.edu.pl/mapa-strony/', 'https://www.agh.edu.pl/en/agh-ust-faculties/faculty-of-humanities/', 'https://www.agh.edu.pl/wydzialy-i-podstawowe-jednostki-organizacyjne/wydzial-gornictwa-i-geoinzynierii/', 'https://www.agh.edu.pl/wydzialy-i-podstawowe-jednostki-organizacyjne/wydzial-inzynierii-metali-iinformatyki-przemyslowej/', 'https://www.agh.edu.pl/wydzialy-i-podstawowe-jednostki-organizacyjne/wydzial-elektrotechniki-automatyki-informatyki-iinzynierii-biomedycznej/', 'https://www.agh.edu.pl/wydzialy-i-podstawowe-jednostki-organizacyjne/wydzial-informatyki-elektroniki-itelekomunikacji/', 'https://www.agh.edu.pl/wydzialy-i-podstawowe-jednostki-organizacyjne/wydzial-inzynierii-mechanicznej-irobotyki/', 'https://www.agh.edu.pl/wydzialy-i-podstawowe-jednostki-organizacyjne/wydzial-geologii-geofizyki-iochrony-srodowiska/', 'https://www.agh.edu.pl/wydzialy-i-podstawowe-jednostki-organizacyjne/wydzial-geodezji-gorniczej-iinzynierii-srodowiska/', 'https://www.agh.edu.pl/wydzialy-i-podstawowe-jednostki-organizacyjne/wydzial-inzynierii-materialowej-iceramiki/', 'https://www.agh.edu.pl/wydzialy-i-podstawowe-jednostki-organizacyjne/wydzial-odlewnictwa/', 'https://www.agh.edu.pl/wydzialy-i-podstawowe-jednostki-organizacyjne/wydzial-metali-niezelaznych/', 'https://www.agh.edu.pl/wydzialy-i-podstawowe-jednostki-organizacyjne/wydzial-wiertnictwa-nafty-i-gazu/', 'https://www.agh.edu.pl/wydzialy-i-podstawowe-jednostki-organizacyjne/wydzial-zarzadzania/', 'https://www.agh.edu.pl/wydzialy-i-podstawowe-jednostki-organizacyjne/wydzial-energetyki-i-paliw/', 'https://www.agh.edu.pl/wydzialy-i-podstawowe-jednostki-organizacyjne/wydzial-fizyki-i-informatyki-stosowanej/', 'https://www.agh.edu.pl/mapa-strony/', 'https://www.agh.edu.pl/en/agh-ust-faculties/faculty-of-applied-mathematics/', 'https://www.agh.edu.pl/wydzialy-i-podstawowe-jednostki-organizacyjne/wydzial-gornictwa-i-geoinzynierii/', 'https://www.agh.edu.pl/wydzialy-i-podstawowe-jednostki-organizacyjne/wydzial-inzynierii-metali-iinformatyki-przemyslowej/', 'https://www.agh.edu.pl/wydzialy-i-podstawowe-jednostki-organizacyjne/wydzial-elektrotechniki-automatyki-informatyki-iinzynierii-biomedycznej/', 'https://www.agh.edu.pl/wydzialy-i-podstawowe-jednostki-organizacyjne/wydzial-informatyki-elektroniki-itelekomunikacji/', 'https://www.agh.edu.pl/wydzialy-i-podstawowe-jednostki-organizacyjne/wydzial-inzynierii-mechanicznej-irobotyki/', 'https://www.agh.edu.pl/wydzialy-i-podstawowe-jednostki-organizacyjne/wydzial-geologii-geofizyki-iochrony-srodowiska/', 'https://www.agh.edu.pl/wydzialy-i-podstawowe-jednostki-organizacyjne/wydzial-geodezji-gorniczej-iinzynierii-srodowiska/', 'https://www.agh.edu.pl/wydzialy-i-podstawowe-jednostki-organizacyjne/wydzial-inzynierii-materialowej-iceramiki/', 'https://www.agh.edu.pl/wydzialy-i-podstawowe-jednostki-organizacyjne/wydzial-odlewnictwa/', 'https://www.agh.edu.pl/wydzialy-i-podstawowe-jednostki-organizacyjne/wydzial-metali-niezelaznych/', 'https://www.agh.edu.pl/wydzialy-i-podstawowe-jednostki-organizacyjne/wydzial-wiertnictwa-nafty-i-gazu/', 'https://www.agh.edu.pl/wydzialy-i-podstawowe-jednostki-organizacyjne/wydzial-zarzadzania/', 'https://www.agh.edu.pl/wydzialy-i-podstawowe-jednostki-organizacyjne/wydzial-energetyki-i-paliw/', 'https://www.agh.edu.pl/mapa-strony/', 'https://www.agh.edu.pl/en/agh-ust-faculties/faculty-of-physics-and-applied-computer-science/', 'https://www.agh.edu.pl/wydzialy-i-podstawowe-jednostki-organizacyjne/wydzial-gornictwa-i-geoinzynierii/', 'https://www.agh.edu.pl/wydzialy-i-podstawowe-jednostki-organizacyjne/wydzial-inzynierii-metali-iinformatyki-przemyslowej/', 'https://www.agh.edu.pl/wydzialy-i-podstawowe-jednostki-organizacyjne/wydzial-elektrotechniki-automatyki-informatyki-iinzynierii-biomedycznej/', 'https://www.agh.edu.pl/wydzialy-i-podstawowe-jednostki-organizacyjne/wydzial-informatyki-elektroniki-itelekomunikacji/', 'https://www.agh.edu.pl/wydzialy-i-podstawowe-jednostki-organizacyjne/wydzial-inzynierii-mechanicznej-irobotyki/', 'https://www.agh.edu.pl/wydzialy-i-podstawowe-jednostki-organizacyjne/wydzial-geologii-geofizyki-iochrony-srodowiska/', 'https://www.agh.edu.pl/wydzialy-i-podstawowe-jednostki-organizacyjne/wydzial-geodezji-gorniczej-iinzynierii-srodowiska/', 'https://www.agh.edu.pl/wydzialy-i-podstawowe-jednostki-organizacyjne/wydzial-inzynierii-materialowej-iceramiki/', 'https://www.agh.edu.pl/wydzialy-i-podstawowe-jednostki-organizacyjne/wydzial-odlewnictwa/', 'https://www.agh.edu.pl/wydzialy-i-podstawowe-jednostki-organizacyjne/wydzial-metali-niezelaznych/', 'https://www.agh.edu.pl/wydzialy-i-podstawowe-jednostki-organizacyjne/wydzial-wiertnictwa-nafty-i-gazu/', 'https://www.agh.edu.pl/wydzialy-i-podstawowe-jednostki-organizacyjne/wydzial-zarzadzania/', 'https://www.agh.edu.pl/mapa-strony/', 'https://www.agh.edu.pl/en/agh-ust-faculties/faculty-of-energy-and-fuels/', 'https://www.agh.edu.pl/wydzialy-i-podstawowe-jednostki-organizacyjne/wydzial-gornictwa-i-geoinzynierii/', 'https://www.agh.edu.pl/wydzialy-i-podstawowe-jednostki-organizacyjne/wydzial-inzynierii-metali-iinformatyki-przemyslowej/', 'https://www.agh.edu.pl/wydzialy-i-podstawowe-jednostki-organizacyjne/wydzial-elektrotechniki-automatyki-informatyki-iinzynierii-biomedycznej/', 'https://www.agh.edu.pl/wydzialy-i-podstawowe-jednostki-organizacyjne/wydzial-informatyki-elektroniki-itelekomunikacji/', 'https://www.agh.edu.pl/wydzialy-i-podstawowe-jednostki-organizacyjne/wydzial-inzynierii-mechanicznej-irobotyki/', 'https://www.agh.edu.pl/wydzialy-i-podstawowe-jednostki-organizacyjne/wydzial-geologii-geofizyki-iochrony-srodowiska/', 'https://www.agh.edu.pl/wydzialy-i-podstawowe-jednostki-organizacyjne/wydzial-geodezji-gorniczej-iinzynierii-srodowiska/', 'https://www.agh.edu.pl/wydzialy-i-podstawowe-jednostki-organizacyjne/wydzial-inzynierii-materialowej-iceramiki/', 'https://www.agh.edu.pl/wydzialy-i-podstawowe-jednostki-organizacyjne/wydzial-odlewnictwa/', 'https://www.agh.edu.pl/wydzialy-i-podstawowe-jednostki-organizacyjne/wydzial-metali-niezelaznych/', 'https://www.agh.edu.pl/wydzialy-i-podstawowe-jednostki-organizacyjne/wydzial-wiertnictwa-nafty-i-gazu/', 'https://www.agh.edu.pl/mapa-strony/', 'https://www.agh.edu.pl/en/agh-ust-faculties/faculty-of-management/', 'https://www.agh.edu.pl/wydzialy-i-podstawowe-jednostki-organizacyjne/wydzial-gornictwa-i-geoinzynierii/', 'https://www.agh.edu.pl/wydzialy-i-podstawowe-jednostki-organizacyjne/wydzial-inzynierii-metali-iinformatyki-przemyslowej/', 'https://www.agh.edu.pl/wydzialy-i-podstawowe-jednostki-organizacyjne/wydzial-elektrotechniki-automatyki-informatyki-iinzynierii-biomedycznej/', 'https://www.agh.edu.pl/wydzialy-i-podstawowe-jednostki-organizacyjne/wydzial-informatyki-elektroniki-itelekomunikacji/', 'https://www.agh.edu.pl/wydzialy-i-podstawowe-jednostki-organizacyjne/wydzial-inzynierii-mechanicznej-irobotyki/', 'https://www.agh.edu.pl/wydzialy-i-podstawowe-jednostki-organizacyjne/wydzial-geologii-geofizyki-iochrony-srodowiska/', 'https://www.agh.edu.pl/wydzialy-i-podstawowe-jednostki-organizacyjne/wydzial-geodezji-gorniczej-iinzynierii-srodowiska/', 'https://www.agh.edu.pl/wydzialy-i-podstawowe-jednostki-organizacyjne/wydzial-inzynierii-materialowej-iceramiki/', 'https://www.agh.edu.pl/wydzialy-i-podstawowe-jednostki-organizacyjne/wydzial-odlewnictwa/', 'https://www.agh.edu.pl/wydzialy-i-podstawowe-jednostki-organizacyjne/wydzial-metali-niezelaznych/', 'https://www.agh.edu.pl/wydzialy-i-podstawowe-jednostki-organizacyjne/wydzial-wiertnictwa-nafty-i-gazu/']\n"
     ]
    }
   ],
   "source": [
    "#Crawler workflow\n",
    "import requests, re\n",
    "from bs4 import BeautifulSoup\n",
    "\n",
    "queue_limit = 10\n",
    "visited = set()\n",
    "to_visit = ['https://www.agh.edu.pl/']\n",
    "crawled_host = 'https://www.agh.edu.pl'\n",
    "\n",
    "results = []\n",
    "\n",
    "while len(to_visit) > 0 and len(results) < queue_limit :\n",
    "\n",
    "    crawled_url = to_visit.pop()\n",
    "    urls = []\n",
    "\n",
    "    if crawled_url not in visited:\n",
    "        r = requests.get(crawled_url)\n",
    "        visited.add(crawled_url)\n",
    "\n",
    "        if r.status_code == 200:\n",
    "            soup = BeautifulSoup(r.text)\n",
    "            \n",
    "            for a in soup.find_all('a', href=True):\n",
    "                current_path = a['href']\n",
    "            \n",
    "                if current_path.startswith('/') and not '#' in current_path:\n",
    "                    current_url = crawled_host + current_path\n",
    "                \n",
    "                    if current_url not in visited:\n",
    "                        urls.append(current_url)\n",
    "                        to_visit.append(current_url)\n",
    "                        # print(\"Found the URL:\", current_url)\n",
    "            \n",
    "            #TODO find also meta_data\n",
    "            result = (crawled_url, urls, {\"metadata\" : \"TODO\"})\n",
    "            results.append(result)\n",
    "        else:\n",
    "            print(r.status_code)\n",
    "    \n",
    "print(results)\n",
    "print(visited)\n",
    "print(to_visit)"
   ]
  },
  {
   "cell_type": "code",
   "execution_count": null,
   "metadata": {},
   "outputs": [],
   "source": []
  }
 ],
 "metadata": {
  "kernelspec": {
   "display_name": "Python 3",
   "language": "python",
   "name": "python3"
  },
  "language_info": {
   "codemirror_mode": {
    "name": "ipython",
    "version": 3
   },
   "file_extension": ".py",
   "mimetype": "text/x-python",
   "name": "python",
   "nbconvert_exporter": "python",
   "pygments_lexer": "ipython3",
   "version": "3.7.3"
  }
 },
 "nbformat": 4,
 "nbformat_minor": 2
}
