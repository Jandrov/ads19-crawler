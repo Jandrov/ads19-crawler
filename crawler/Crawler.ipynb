{
 "cells": [
  {
   "cell_type": "code",
   "execution_count": 1,
   "metadata": {},
   "outputs": [
    {
     "name": "stdout",
     "output_type": "stream",
     "text": [
      "Requirement already satisfied: neo4j in /home/sywi/Documents/vpd/lib/python3.7/site-packages (1.7.4)\r\n",
      "Requirement already satisfied: neotime~=1.7.1 in /home/sywi/Documents/vpd/lib/python3.7/site-packages (from neo4j) (1.7.4)\r\n",
      "Requirement already satisfied: neobolt~=1.7.13 in /home/sywi/Documents/vpd/lib/python3.7/site-packages (from neo4j) (1.7.13)\r\n",
      "Requirement already satisfied: six in /home/sywi/Documents/vpd/lib/python3.7/site-packages (from neotime~=1.7.1->neo4j) (1.12.0)\r\n",
      "Requirement already satisfied: pytz in /home/sywi/Documents/vpd/lib/python3.7/site-packages (from neotime~=1.7.1->neo4j) (2019.1)\r\n"
     ]
    }
   ],
   "source": [
    "#Get Neo4J official Python driver\n",
    "!pip install neo4j"
   ]
  },
  {
   "cell_type": "code",
   "execution_count": 2,
   "metadata": {},
   "outputs": [],
   "source": [
    "def connect(uri, username, password):\n",
    "    try:\n",
    "        return GraphDatabase.driver(uri, auth=(username, password))\n",
    "    except ClientError as e:\n",
    "        print(e)\n",
    "        return -1"
   ]
  },
  {
   "cell_type": "code",
   "execution_count": 3,
   "metadata": {},
   "outputs": [],
   "source": [
    "def create_and_return_greeting(tx, message):\n",
    "    result = tx.run(\"CREATE (a:Greeting) \"\n",
    "                    \"SET a.message = $message \"\n",
    "                    \"RETURN a.message + ', from node ' + id(a)\", message=message)\n",
    "    return result.single()[0]"
   ]
  },
  {
   "cell_type": "code",
   "execution_count": 4,
   "metadata": {},
   "outputs": [],
   "source": [
    "def add_user(tx, username, password):\n",
    "    try:\n",
    "        result = tx.run(\"CALL dbms.security.createUser($username,$password, false)\", username=username, password=password)\n",
    "    except ClientError as e:\n",
    "        print(e)"
   ]
  },
  {
   "cell_type": "code",
   "execution_count": 5,
   "metadata": {},
   "outputs": [],
   "source": [
    "def change_password(tx, password):\n",
    "    try:\n",
    "        result = tx.run(\"CALL dbms.security.changePassword($password)\", password=password)\n",
    "    except ClientError as e:\n",
    "        print(e)"
   ]
  },
  {
   "cell_type": "code",
   "execution_count": 6,
   "metadata": {},
   "outputs": [],
   "source": [
    "def create_metadata(soup):\n",
    "    title = soup.find(\"meta\",  property=\"og:title\")\n",
    "    desc = soup.find(\"meta\",  property=\"og:description\")\n",
    "    language = soup.find(\"meta\",  property=\"og:locale\")\n",
    "    keywords = soup.find(\"meta\", attrs = {'name':\"keywords\"})\n",
    "    metadata = {\n",
    "        'Title': title['content'] if title else None,\n",
    "        'Description': desc['content']if desc else None,\n",
    "        'Language': language['content'] if language else None,\n",
    "        'Keywords': keywords['content'] if keywords else None}\n",
    "    return metadata"
   ]
  },
  {
   "cell_type": "code",
   "execution_count": 7,
   "metadata": {},
   "outputs": [
    {
     "name": "stdout",
     "output_type": "stream",
     "text": [
      "Requirement already satisfied: beautifulsoup4 in /home/sywi/Documents/vpd/lib/python3.7/site-packages (4.7.1)\r\n",
      "Requirement already satisfied: soupsieve>=1.2 in /home/sywi/Documents/vpd/lib/python3.7/site-packages (from beautifulsoup4) (1.9.1)\r\n"
     ]
    }
   ],
   "source": [
    "#Get Requests\n",
    "!pip3 install beautifulsoup4"
   ]
  },
  {
   "cell_type": "code",
   "execution_count": 8,
   "metadata": {},
   "outputs": [
    {
     "data": {
      "text/plain": [
       "'utf-8'"
      ]
     },
     "execution_count": 8,
     "metadata": {},
     "output_type": "execute_result"
    }
   ],
   "source": [
    "#Simple get example\n",
    "import requests\n",
    "\n",
    "r = requests.get('https://www.agh.edu.pl/')\n",
    "r.status_code\n",
    "r.headers['content-type']\n",
    "r.encoding\n",
    "# r.text holds html file"
   ]
  },
  {
   "cell_type": "code",
   "execution_count": 9,
   "metadata": {},
   "outputs": [],
   "source": [
    "#Crawler workflow\n",
    "import requests, re\n",
    "from bs4 import BeautifulSoup\n",
    "\n",
    "queue_limit = 10\n",
    "visited = set()\n",
    "to_visit = ['https://neo4j.com/']\n",
    "crawled_host = 'https://neo4j.com'\n",
    "\n",
    "results = []\n",
    "\n",
    "while len(to_visit) > 0 and len(results) < queue_limit :\n",
    "\n",
    "    crawled_url = to_visit.pop()\n",
    "    urls = []\n",
    "\n",
    "    if crawled_url not in visited:\n",
    "        r = requests.get(crawled_url)\n",
    "        visited.add(crawled_url)\n",
    "\n",
    "        if r.status_code == 200:\n",
    "            soup = BeautifulSoup(r.text)\n",
    "            \n",
    "            for a in soup.find_all('a', href=True):\n",
    "                current_path = a['href']\n",
    "            \n",
    "                if current_path.startswith('/') and not '#' in current_path:\n",
    "                    current_url = crawled_host + current_path\n",
    "                \n",
    "                    if current_url not in visited:\n",
    "                        urls.append(current_url)\n",
    "                        to_visit.append(current_url)\n",
    "                        # print(\"Found the URL:\", current_url)\n",
    "            \n",
    "            metadata = create_metadata(soup)\n",
    "            result = (crawled_url, urls, metadata)\n",
    "            results.append(result)\n",
    "        else:\n",
    "            print(r.status_code)"
   ]
  },
  {
   "cell_type": "code",
   "execution_count": 10,
   "metadata": {},
   "outputs": [
    {
     "name": "stderr",
     "output_type": "stream",
     "text": [
      "Failed to write data to connection Address(host='localhost', port=7687) (Address(host='127.0.0.1', port=7687)); (\"0; 'Underlying socket connection gone (_ssl.c:2246)'\")\n"
     ]
    },
    {
     "name": "stdout",
     "output_type": "stream",
     "text": [
      "The client is unauthorized due to authentication failure.\n",
      "The specified user 'ads' already exists.\n",
      "Response, from node 1\n"
     ]
    }
   ],
   "source": [
    "#Neo4J connection test\n",
    "from neo4j import GraphDatabase\n",
    "from neo4j.exceptions import ClientError\n",
    "\n",
    "uri = \"bolt://localhost:7687\"\n",
    "our_username = \"ads\"\n",
    "our_password = \"ads\"\n",
    "message = \"Response\"\n",
    "default = \"neo4j\"\n",
    "\n",
    "# Logging with default user and password\n",
    "driver = connect(uri, default, default)\n",
    "# If we have already run this before, then the password is already changed\n",
    "if driver != -1:\n",
    "    ''' But if it is the first time we log as that default user, \n",
    "        we are forced to change the password '''\n",
    "    with driver.session() as session:\n",
    "        session.write_transaction(change_password, our_password) # e.g. our_password\n",
    "    # We should exit and connect again after changing the password\n",
    "    driver.close()\n",
    "\n",
    "driver = connect(uri, default, our_password)\n",
    "\n",
    "# Add the user that will be used for the rest of operations\n",
    "with driver.session() as session:\n",
    "    try: \n",
    "        session.write_transaction(add_user, our_username, our_password)\n",
    "    except ClientError as e:\n",
    "        print(e)\n",
    "driver.close()\n",
    "\n",
    "driver = connect(uri, our_username, our_password)\n",
    "with driver.session() as session:\n",
    "    greeting = session.write_transaction(create_and_return_greeting, message)\n",
    "    print(greeting) \n",
    "driver.close()"
   ]
  },
  {
   "cell_type": "code",
   "execution_count": 37,
   "metadata": {},
   "outputs": [
    {
     "ename": "KeyError",
     "evalue": "'name'",
     "output_type": "error",
     "traceback": [
      "\u001b[0;31m---------------------------------------------------------------------------\u001b[0m",
      "\u001b[0;31mKeyError\u001b[0m                                  Traceback (most recent call last)",
      "\u001b[0;32m<ipython-input-37-9c5f8fa9257e>\u001b[0m in \u001b[0;36m<module>\u001b[0;34m\u001b[0m\n\u001b[0;32m----> 1\u001b[0;31m \u001b[0mcqlCreate\u001b[0m \u001b[0;34m=\u001b[0m \u001b[0;34m\"CREATE (neo4j:crawled_url{name:{}})\"\u001b[0m\u001b[0;34m.\u001b[0m\u001b[0mformat\u001b[0m\u001b[0;34m(\u001b[0m\u001b[0mresults\u001b[0m\u001b[0;34m[\u001b[0m\u001b[0;36m0\u001b[0m\u001b[0;34m]\u001b[0m\u001b[0;34m[\u001b[0m\u001b[0;36m0\u001b[0m\u001b[0;34m]\u001b[0m\u001b[0;34m)\u001b[0m\u001b[0;34m\u001b[0m\u001b[0;34m\u001b[0m\u001b[0m\n\u001b[0m\u001b[1;32m      2\u001b[0m \u001b[0mdriver\u001b[0m \u001b[0;34m=\u001b[0m \u001b[0mconnect\u001b[0m\u001b[0;34m(\u001b[0m\u001b[0muri\u001b[0m\u001b[0;34m,\u001b[0m \u001b[0mour_username\u001b[0m\u001b[0;34m,\u001b[0m \u001b[0mour_password\u001b[0m\u001b[0;34m)\u001b[0m\u001b[0;34m\u001b[0m\u001b[0;34m\u001b[0m\u001b[0m\n\u001b[1;32m      3\u001b[0m \u001b[0;32mwith\u001b[0m \u001b[0mdriver\u001b[0m\u001b[0;34m.\u001b[0m\u001b[0msession\u001b[0m\u001b[0;34m(\u001b[0m\u001b[0;34m)\u001b[0m \u001b[0;32mas\u001b[0m \u001b[0msession\u001b[0m\u001b[0;34m:\u001b[0m\u001b[0;34m\u001b[0m\u001b[0;34m\u001b[0m\u001b[0m\n\u001b[1;32m      4\u001b[0m     \u001b[0msession\u001b[0m\u001b[0;34m.\u001b[0m\u001b[0mrun\u001b[0m\u001b[0;34m(\u001b[0m\u001b[0mcqlCreate\u001b[0m\u001b[0;34m)\u001b[0m\u001b[0;34m\u001b[0m\u001b[0;34m\u001b[0m\u001b[0m\n",
      "\u001b[0;31mKeyError\u001b[0m: 'name'"
     ]
    }
   ],
   "source": [
    "cqlCreate = \"CREATE (neo4j:crawled_url{name:{}})\".format(results[0][0])\n",
    "driver = connect(uri, our_username, our_password)\n",
    "with driver.session() as session:\n",
    "    session.run(cqlCreate)"
   ]
  },
  {
   "cell_type": "code",
   "execution_count": null,
   "metadata": {},
   "outputs": [],
   "source": []
  }
 ],
 "metadata": {
  "kernelspec": {
   "display_name": "Python 3",
   "language": "python",
   "name": "python3"
  },
  "language_info": {
   "codemirror_mode": {
    "name": "ipython",
    "version": 3
   },
   "file_extension": ".py",
   "mimetype": "text/x-python",
   "name": "python",
   "nbconvert_exporter": "python",
   "pygments_lexer": "ipython3",
   "version": "3.7.1"
  }
 },
 "nbformat": 4,
 "nbformat_minor": 2
}
